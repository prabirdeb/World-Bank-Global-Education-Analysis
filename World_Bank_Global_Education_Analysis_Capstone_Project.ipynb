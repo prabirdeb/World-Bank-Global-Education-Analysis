{
  "nbformat": 4,
  "nbformat_minor": 0,
  "metadata": {
    "kernelspec": {
      "display_name": "Python 3",
      "language": "python",
      "name": "python3"
    },
    "language_info": {
      "codemirror_mode": {
        "name": "ipython",
        "version": 3
      },
      "file_extension": ".py",
      "mimetype": "text/x-python",
      "name": "python",
      "nbconvert_exporter": "python",
      "pygments_lexer": "ipython3",
      "version": "3.6.6"
    },
    "colab": {
      "name": "World Bank Global Education Analysis - Capstone Project.ipynb",
      "provenance": [],
      "collapsed_sections": [],
      "include_colab_link": true
    }
  },
  "cells": [
    {
      "cell_type": "markdown",
      "metadata": {
        "id": "view-in-github",
        "colab_type": "text"
      },
      "source": [
        "<a href=\"https://colab.research.google.com/github/prabirdeb/World-Bank-Global-Education-Analysis/blob/main/World_Bank_Global_Education_Analysis_Capstone_Project.ipynb\" target=\"_parent\"><img src=\"https://colab.research.google.com/assets/colab-badge.svg\" alt=\"Open In Colab\"/></a>"
      ]
    },
    {
      "cell_type": "markdown",
      "metadata": {
        "id": "Y06xIdG26kRF"
      },
      "source": [
        "## <b> The World Bank EdStats All Indicator Query holds over 4,000 internationally comparable indicators that describe education access, progression, completion, literacy, teachers, population, and expenditures.The indicators cover the education cycle from pre-primary to vocational and tertiary education and also holds learning outcome data from international and regional learning assessments (e.g. PISA, TIMSS, PIRLS), equity data from household surveys, and projection/attainment data. </b>\n",
        "\n",
        "## <b> Explore and analyze the data to identify variation of indicators across the globe, which countries are more alike and different. Feel free to add more extensive analyses and details.</b>"
      ]
    },
    {
      "cell_type": "markdown",
      "source": [
        "# **Steps of Exploratory Data Analysis (EDA)**"
      ],
      "metadata": {
        "id": "rfy8ry7cv1rQ"
      }
    },
    {
      "cell_type": "markdown",
      "source": [
        "### **1. Connection with the Data**\n",
        "\n",
        "The World Bank Group is the largest financier of education in the developing world. \n",
        "\n",
        "Here, we are provided with 5 datasets about global education statistics.\n",
        "\n",
        "The World Bank EdStats All Indicator Query holds around 4,000 internationally comparable indicators that describe education access, progression, completion, literacy, teachers, population, and expenditures.\n",
        "\n",
        "Now, we need to **decode the set of experiences** to identify variation of indicators across the globe, which countries are more alike and different.\n",
        "\n",
        "At first, we import the libraries or functions for **making our journey easy** and then **get connected** to the set of experiences."
      ],
      "metadata": {
        "id": "1aqSeXTSv3Oz"
      }
    },
    {
      "cell_type": "code",
      "source": [
        "#importing libraries\n",
        "import numpy as np\n",
        "import pandas as pd\n",
        "from termcolor import colored\n",
        "import matplotlib.pyplot as plt\n",
        "import seaborn as sns\n",
        "%matplotlib \n",
        "from sklearn.preprocessing import LabelEncoder"
      ],
      "metadata": {
        "colab": {
          "base_uri": "https://localhost:8080/"
        },
        "id": "HD7scIcIwU5N",
        "outputId": "36c5595f-d33c-490b-c63c-47e9a12aaeaf"
      },
      "execution_count": 1,
      "outputs": [
        {
          "output_type": "stream",
          "name": "stdout",
          "text": [
            "Using matplotlib backend: agg\n"
          ]
        }
      ]
    },
    {
      "cell_type": "code",
      "source": [
        "from google.colab import drive\n",
        "drive.mount('/content/drive')"
      ],
      "metadata": {
        "colab": {
          "base_uri": "https://localhost:8080/"
        },
        "id": "OSdAKG7ZwYgb",
        "outputId": "a0932ffa-1c8d-4bf3-a4dc-213ad0bcab13"
      },
      "execution_count": 2,
      "outputs": [
        {
          "output_type": "stream",
          "name": "stdout",
          "text": [
            "Drive already mounted at /content/drive; to attempt to forcibly remount, call drive.mount(\"/content/drive\", force_remount=True).\n"
          ]
        }
      ]
    },
    {
      "cell_type": "code",
      "source": [
        "# Reading the data as pandas dataframe\n",
        "country_series_df=pd.read_csv('/content/drive/MyDrive/Almabetter Assignments/Capstone projects/World Bank Global Education Analysis-Prabir Debnath/data/EdStatsCountry-Series.csv')\n",
        "country_df=pd.read_csv('/content/drive/MyDrive/Almabetter Assignments/Capstone projects/World Bank Global Education Analysis-Prabir Debnath/data/EdStatsCountry.csv')\n",
        "data_df=pd.read_csv('/content/drive/MyDrive/Almabetter Assignments/Capstone projects/World Bank Global Education Analysis-Prabir Debnath/data/EdStatsData.csv')\n",
        "footnote_df=pd.read_csv('/content/drive/MyDrive/Almabetter Assignments/Capstone projects/World Bank Global Education Analysis-Prabir Debnath/data/EdStatsFootNote.csv')\n",
        "series_df=pd.read_csv('/content/drive/MyDrive/Almabetter Assignments/Capstone projects/World Bank Global Education Analysis-Prabir Debnath/data/EdStatsSeries.csv')"
      ],
      "metadata": {
        "id": "rjLe_XV1wf5U"
      },
      "execution_count": 3,
      "outputs": []
    },
    {
      "cell_type": "code",
      "source": [
        "list_of_df=[country_series_df,country_df,data_df,footnote_df,series_df]"
      ],
      "metadata": {
        "id": "s8VeAWM53GWU"
      },
      "execution_count": 4,
      "outputs": []
    },
    {
      "cell_type": "markdown",
      "source": [
        "### **2. First Feelings of the Data**\n",
        "\n",
        "Set of features are the way to reach final decoded experience or conclusions.  \n",
        "\n",
        "As there is a huge no. of experiences, we cannot see the whole lot of experiences and therefore we find the features on the **data head**."
      ],
      "metadata": {
        "id": "fINy2RELv6vC"
      }
    },
    {
      "cell_type": "code",
      "source": [
        "country_series_df.head(2)"
      ],
      "metadata": {
        "colab": {
          "base_uri": "https://localhost:8080/",
          "height": 112
        },
        "id": "IU0Q7lvOyE8s",
        "outputId": "41c9fa3f-8c2a-43dd-f29a-9797469f9498"
      },
      "execution_count": 5,
      "outputs": [
        {
          "output_type": "execute_result",
          "data": {
            "text/html": [
              "\n",
              "  <div id=\"df-188ed09a-5ead-4716-b325-807e7fe5ec12\">\n",
              "    <div class=\"colab-df-container\">\n",
              "      <div>\n",
              "<style scoped>\n",
              "    .dataframe tbody tr th:only-of-type {\n",
              "        vertical-align: middle;\n",
              "    }\n",
              "\n",
              "    .dataframe tbody tr th {\n",
              "        vertical-align: top;\n",
              "    }\n",
              "\n",
              "    .dataframe thead th {\n",
              "        text-align: right;\n",
              "    }\n",
              "</style>\n",
              "<table border=\"1\" class=\"dataframe\">\n",
              "  <thead>\n",
              "    <tr style=\"text-align: right;\">\n",
              "      <th></th>\n",
              "      <th>CountryCode</th>\n",
              "      <th>SeriesCode</th>\n",
              "      <th>DESCRIPTION</th>\n",
              "      <th>Unnamed: 3</th>\n",
              "    </tr>\n",
              "  </thead>\n",
              "  <tbody>\n",
              "    <tr>\n",
              "      <th>0</th>\n",
              "      <td>ABW</td>\n",
              "      <td>SP.POP.TOTL</td>\n",
              "      <td>Data sources : United Nations World Population...</td>\n",
              "      <td>NaN</td>\n",
              "    </tr>\n",
              "    <tr>\n",
              "      <th>1</th>\n",
              "      <td>ABW</td>\n",
              "      <td>SP.POP.GROW</td>\n",
              "      <td>Data sources: United Nations World Population ...</td>\n",
              "      <td>NaN</td>\n",
              "    </tr>\n",
              "  </tbody>\n",
              "</table>\n",
              "</div>\n",
              "      <button class=\"colab-df-convert\" onclick=\"convertToInteractive('df-188ed09a-5ead-4716-b325-807e7fe5ec12')\"\n",
              "              title=\"Convert this dataframe to an interactive table.\"\n",
              "              style=\"display:none;\">\n",
              "        \n",
              "  <svg xmlns=\"http://www.w3.org/2000/svg\" height=\"24px\"viewBox=\"0 0 24 24\"\n",
              "       width=\"24px\">\n",
              "    <path d=\"M0 0h24v24H0V0z\" fill=\"none\"/>\n",
              "    <path d=\"M18.56 5.44l.94 2.06.94-2.06 2.06-.94-2.06-.94-.94-2.06-.94 2.06-2.06.94zm-11 1L8.5 8.5l.94-2.06 2.06-.94-2.06-.94L8.5 2.5l-.94 2.06-2.06.94zm10 10l.94 2.06.94-2.06 2.06-.94-2.06-.94-.94-2.06-.94 2.06-2.06.94z\"/><path d=\"M17.41 7.96l-1.37-1.37c-.4-.4-.92-.59-1.43-.59-.52 0-1.04.2-1.43.59L10.3 9.45l-7.72 7.72c-.78.78-.78 2.05 0 2.83L4 21.41c.39.39.9.59 1.41.59.51 0 1.02-.2 1.41-.59l7.78-7.78 2.81-2.81c.8-.78.8-2.07 0-2.86zM5.41 20L4 18.59l7.72-7.72 1.47 1.35L5.41 20z\"/>\n",
              "  </svg>\n",
              "      </button>\n",
              "      \n",
              "  <style>\n",
              "    .colab-df-container {\n",
              "      display:flex;\n",
              "      flex-wrap:wrap;\n",
              "      gap: 12px;\n",
              "    }\n",
              "\n",
              "    .colab-df-convert {\n",
              "      background-color: #E8F0FE;\n",
              "      border: none;\n",
              "      border-radius: 50%;\n",
              "      cursor: pointer;\n",
              "      display: none;\n",
              "      fill: #1967D2;\n",
              "      height: 32px;\n",
              "      padding: 0 0 0 0;\n",
              "      width: 32px;\n",
              "    }\n",
              "\n",
              "    .colab-df-convert:hover {\n",
              "      background-color: #E2EBFA;\n",
              "      box-shadow: 0px 1px 2px rgba(60, 64, 67, 0.3), 0px 1px 3px 1px rgba(60, 64, 67, 0.15);\n",
              "      fill: #174EA6;\n",
              "    }\n",
              "\n",
              "    [theme=dark] .colab-df-convert {\n",
              "      background-color: #3B4455;\n",
              "      fill: #D2E3FC;\n",
              "    }\n",
              "\n",
              "    [theme=dark] .colab-df-convert:hover {\n",
              "      background-color: #434B5C;\n",
              "      box-shadow: 0px 1px 3px 1px rgba(0, 0, 0, 0.15);\n",
              "      filter: drop-shadow(0px 1px 2px rgba(0, 0, 0, 0.3));\n",
              "      fill: #FFFFFF;\n",
              "    }\n",
              "  </style>\n",
              "\n",
              "      <script>\n",
              "        const buttonEl =\n",
              "          document.querySelector('#df-188ed09a-5ead-4716-b325-807e7fe5ec12 button.colab-df-convert');\n",
              "        buttonEl.style.display =\n",
              "          google.colab.kernel.accessAllowed ? 'block' : 'none';\n",
              "\n",
              "        async function convertToInteractive(key) {\n",
              "          const element = document.querySelector('#df-188ed09a-5ead-4716-b325-807e7fe5ec12');\n",
              "          const dataTable =\n",
              "            await google.colab.kernel.invokeFunction('convertToInteractive',\n",
              "                                                     [key], {});\n",
              "          if (!dataTable) return;\n",
              "\n",
              "          const docLinkHtml = 'Like what you see? Visit the ' +\n",
              "            '<a target=\"_blank\" href=https://colab.research.google.com/notebooks/data_table.ipynb>data table notebook</a>'\n",
              "            + ' to learn more about interactive tables.';\n",
              "          element.innerHTML = '';\n",
              "          dataTable['output_type'] = 'display_data';\n",
              "          await google.colab.output.renderOutput(dataTable, element);\n",
              "          const docLink = document.createElement('div');\n",
              "          docLink.innerHTML = docLinkHtml;\n",
              "          element.appendChild(docLink);\n",
              "        }\n",
              "      </script>\n",
              "    </div>\n",
              "  </div>\n",
              "  "
            ],
            "text/plain": [
              "  CountryCode  ... Unnamed: 3\n",
              "0         ABW  ...        NaN\n",
              "1         ABW  ...        NaN\n",
              "\n",
              "[2 rows x 4 columns]"
            ]
          },
          "metadata": {},
          "execution_count": 5
        }
      ]
    },
    {
      "cell_type": "code",
      "source": [
        "country_df.head(2)"
      ],
      "metadata": {
        "colab": {
          "base_uri": "https://localhost:8080/",
          "height": 471
        },
        "id": "M-taRDDSyuYi",
        "outputId": "8af921c8-3ba9-4be7-8043-3b693a543794"
      },
      "execution_count": 6,
      "outputs": [
        {
          "output_type": "execute_result",
          "data": {
            "text/html": [
              "\n",
              "  <div id=\"df-8577a57f-069c-440f-80aa-1e1620fffbef\">\n",
              "    <div class=\"colab-df-container\">\n",
              "      <div>\n",
              "<style scoped>\n",
              "    .dataframe tbody tr th:only-of-type {\n",
              "        vertical-align: middle;\n",
              "    }\n",
              "\n",
              "    .dataframe tbody tr th {\n",
              "        vertical-align: top;\n",
              "    }\n",
              "\n",
              "    .dataframe thead th {\n",
              "        text-align: right;\n",
              "    }\n",
              "</style>\n",
              "<table border=\"1\" class=\"dataframe\">\n",
              "  <thead>\n",
              "    <tr style=\"text-align: right;\">\n",
              "      <th></th>\n",
              "      <th>Country Code</th>\n",
              "      <th>Short Name</th>\n",
              "      <th>Table Name</th>\n",
              "      <th>Long Name</th>\n",
              "      <th>2-alpha code</th>\n",
              "      <th>Currency Unit</th>\n",
              "      <th>Special Notes</th>\n",
              "      <th>Region</th>\n",
              "      <th>Income Group</th>\n",
              "      <th>WB-2 code</th>\n",
              "      <th>National accounts base year</th>\n",
              "      <th>National accounts reference year</th>\n",
              "      <th>SNA price valuation</th>\n",
              "      <th>Lending category</th>\n",
              "      <th>Other groups</th>\n",
              "      <th>System of National Accounts</th>\n",
              "      <th>Alternative conversion factor</th>\n",
              "      <th>PPP survey year</th>\n",
              "      <th>Balance of Payments Manual in use</th>\n",
              "      <th>External debt Reporting status</th>\n",
              "      <th>System of trade</th>\n",
              "      <th>Government Accounting concept</th>\n",
              "      <th>IMF data dissemination standard</th>\n",
              "      <th>Latest population census</th>\n",
              "      <th>Latest household survey</th>\n",
              "      <th>Source of most recent Income and expenditure data</th>\n",
              "      <th>Vital registration complete</th>\n",
              "      <th>Latest agricultural census</th>\n",
              "      <th>Latest industrial data</th>\n",
              "      <th>Latest trade data</th>\n",
              "      <th>Latest water withdrawal data</th>\n",
              "      <th>Unnamed: 31</th>\n",
              "    </tr>\n",
              "  </thead>\n",
              "  <tbody>\n",
              "    <tr>\n",
              "      <th>0</th>\n",
              "      <td>ABW</td>\n",
              "      <td>Aruba</td>\n",
              "      <td>Aruba</td>\n",
              "      <td>Aruba</td>\n",
              "      <td>AW</td>\n",
              "      <td>Aruban florin</td>\n",
              "      <td>SNA data for 2000-2011 are updated from offici...</td>\n",
              "      <td>Latin America &amp; Caribbean</td>\n",
              "      <td>High income: nonOECD</td>\n",
              "      <td>AW</td>\n",
              "      <td>2000</td>\n",
              "      <td>NaN</td>\n",
              "      <td>Value added at basic prices (VAB)</td>\n",
              "      <td>NaN</td>\n",
              "      <td>NaN</td>\n",
              "      <td>Country uses the 1993 System of National Accou...</td>\n",
              "      <td>NaN</td>\n",
              "      <td>NaN</td>\n",
              "      <td>IMF Balance of Payments Manual, 6th edition.</td>\n",
              "      <td>NaN</td>\n",
              "      <td>Special trade system</td>\n",
              "      <td>NaN</td>\n",
              "      <td>NaN</td>\n",
              "      <td>2010</td>\n",
              "      <td>NaN</td>\n",
              "      <td>NaN</td>\n",
              "      <td>Yes</td>\n",
              "      <td>NaN</td>\n",
              "      <td>NaN</td>\n",
              "      <td>2012.0</td>\n",
              "      <td>NaN</td>\n",
              "      <td>NaN</td>\n",
              "    </tr>\n",
              "    <tr>\n",
              "      <th>1</th>\n",
              "      <td>AFG</td>\n",
              "      <td>Afghanistan</td>\n",
              "      <td>Afghanistan</td>\n",
              "      <td>Islamic State of Afghanistan</td>\n",
              "      <td>AF</td>\n",
              "      <td>Afghan afghani</td>\n",
              "      <td>Fiscal year end: March 20; reporting period fo...</td>\n",
              "      <td>South Asia</td>\n",
              "      <td>Low income</td>\n",
              "      <td>AF</td>\n",
              "      <td>2002/03</td>\n",
              "      <td>NaN</td>\n",
              "      <td>Value added at basic prices (VAB)</td>\n",
              "      <td>IDA</td>\n",
              "      <td>HIPC</td>\n",
              "      <td>Country uses the 1993 System of National Accou...</td>\n",
              "      <td>NaN</td>\n",
              "      <td>NaN</td>\n",
              "      <td>NaN</td>\n",
              "      <td>Actual</td>\n",
              "      <td>General trade system</td>\n",
              "      <td>Consolidated central government</td>\n",
              "      <td>General Data Dissemination System (GDDS)</td>\n",
              "      <td>1979</td>\n",
              "      <td>Multiple Indicator Cluster Survey (MICS), 2010/11</td>\n",
              "      <td>Integrated household survey (IHS), 2008</td>\n",
              "      <td>NaN</td>\n",
              "      <td>2013/14</td>\n",
              "      <td>NaN</td>\n",
              "      <td>2012.0</td>\n",
              "      <td>2000</td>\n",
              "      <td>NaN</td>\n",
              "    </tr>\n",
              "  </tbody>\n",
              "</table>\n",
              "</div>\n",
              "      <button class=\"colab-df-convert\" onclick=\"convertToInteractive('df-8577a57f-069c-440f-80aa-1e1620fffbef')\"\n",
              "              title=\"Convert this dataframe to an interactive table.\"\n",
              "              style=\"display:none;\">\n",
              "        \n",
              "  <svg xmlns=\"http://www.w3.org/2000/svg\" height=\"24px\"viewBox=\"0 0 24 24\"\n",
              "       width=\"24px\">\n",
              "    <path d=\"M0 0h24v24H0V0z\" fill=\"none\"/>\n",
              "    <path d=\"M18.56 5.44l.94 2.06.94-2.06 2.06-.94-2.06-.94-.94-2.06-.94 2.06-2.06.94zm-11 1L8.5 8.5l.94-2.06 2.06-.94-2.06-.94L8.5 2.5l-.94 2.06-2.06.94zm10 10l.94 2.06.94-2.06 2.06-.94-2.06-.94-.94-2.06-.94 2.06-2.06.94z\"/><path d=\"M17.41 7.96l-1.37-1.37c-.4-.4-.92-.59-1.43-.59-.52 0-1.04.2-1.43.59L10.3 9.45l-7.72 7.72c-.78.78-.78 2.05 0 2.83L4 21.41c.39.39.9.59 1.41.59.51 0 1.02-.2 1.41-.59l7.78-7.78 2.81-2.81c.8-.78.8-2.07 0-2.86zM5.41 20L4 18.59l7.72-7.72 1.47 1.35L5.41 20z\"/>\n",
              "  </svg>\n",
              "      </button>\n",
              "      \n",
              "  <style>\n",
              "    .colab-df-container {\n",
              "      display:flex;\n",
              "      flex-wrap:wrap;\n",
              "      gap: 12px;\n",
              "    }\n",
              "\n",
              "    .colab-df-convert {\n",
              "      background-color: #E8F0FE;\n",
              "      border: none;\n",
              "      border-radius: 50%;\n",
              "      cursor: pointer;\n",
              "      display: none;\n",
              "      fill: #1967D2;\n",
              "      height: 32px;\n",
              "      padding: 0 0 0 0;\n",
              "      width: 32px;\n",
              "    }\n",
              "\n",
              "    .colab-df-convert:hover {\n",
              "      background-color: #E2EBFA;\n",
              "      box-shadow: 0px 1px 2px rgba(60, 64, 67, 0.3), 0px 1px 3px 1px rgba(60, 64, 67, 0.15);\n",
              "      fill: #174EA6;\n",
              "    }\n",
              "\n",
              "    [theme=dark] .colab-df-convert {\n",
              "      background-color: #3B4455;\n",
              "      fill: #D2E3FC;\n",
              "    }\n",
              "\n",
              "    [theme=dark] .colab-df-convert:hover {\n",
              "      background-color: #434B5C;\n",
              "      box-shadow: 0px 1px 3px 1px rgba(0, 0, 0, 0.15);\n",
              "      filter: drop-shadow(0px 1px 2px rgba(0, 0, 0, 0.3));\n",
              "      fill: #FFFFFF;\n",
              "    }\n",
              "  </style>\n",
              "\n",
              "      <script>\n",
              "        const buttonEl =\n",
              "          document.querySelector('#df-8577a57f-069c-440f-80aa-1e1620fffbef button.colab-df-convert');\n",
              "        buttonEl.style.display =\n",
              "          google.colab.kernel.accessAllowed ? 'block' : 'none';\n",
              "\n",
              "        async function convertToInteractive(key) {\n",
              "          const element = document.querySelector('#df-8577a57f-069c-440f-80aa-1e1620fffbef');\n",
              "          const dataTable =\n",
              "            await google.colab.kernel.invokeFunction('convertToInteractive',\n",
              "                                                     [key], {});\n",
              "          if (!dataTable) return;\n",
              "\n",
              "          const docLinkHtml = 'Like what you see? Visit the ' +\n",
              "            '<a target=\"_blank\" href=https://colab.research.google.com/notebooks/data_table.ipynb>data table notebook</a>'\n",
              "            + ' to learn more about interactive tables.';\n",
              "          element.innerHTML = '';\n",
              "          dataTable['output_type'] = 'display_data';\n",
              "          await google.colab.output.renderOutput(dataTable, element);\n",
              "          const docLink = document.createElement('div');\n",
              "          docLink.innerHTML = docLinkHtml;\n",
              "          element.appendChild(docLink);\n",
              "        }\n",
              "      </script>\n",
              "    </div>\n",
              "  </div>\n",
              "  "
            ],
            "text/plain": [
              "  Country Code   Short Name  ... Latest water withdrawal data Unnamed: 31\n",
              "0          ABW        Aruba  ...                          NaN         NaN\n",
              "1          AFG  Afghanistan  ...                         2000         NaN\n",
              "\n",
              "[2 rows x 32 columns]"
            ]
          },
          "metadata": {},
          "execution_count": 6
        }
      ]
    },
    {
      "cell_type": "code",
      "source": [
        "data_df.head(2)"
      ],
      "metadata": {
        "colab": {
          "base_uri": "https://localhost:8080/",
          "height": 367
        },
        "id": "hjFbGAAeyujy",
        "outputId": "152c0f91-ee58-49f9-d72f-aee74a72b16e"
      },
      "execution_count": 7,
      "outputs": [
        {
          "output_type": "execute_result",
          "data": {
            "text/html": [
              "\n",
              "  <div id=\"df-0495e0c5-7ea5-431f-af5d-0d9d4f62347f\">\n",
              "    <div class=\"colab-df-container\">\n",
              "      <div>\n",
              "<style scoped>\n",
              "    .dataframe tbody tr th:only-of-type {\n",
              "        vertical-align: middle;\n",
              "    }\n",
              "\n",
              "    .dataframe tbody tr th {\n",
              "        vertical-align: top;\n",
              "    }\n",
              "\n",
              "    .dataframe thead th {\n",
              "        text-align: right;\n",
              "    }\n",
              "</style>\n",
              "<table border=\"1\" class=\"dataframe\">\n",
              "  <thead>\n",
              "    <tr style=\"text-align: right;\">\n",
              "      <th></th>\n",
              "      <th>Country Name</th>\n",
              "      <th>Country Code</th>\n",
              "      <th>Indicator Name</th>\n",
              "      <th>Indicator Code</th>\n",
              "      <th>1970</th>\n",
              "      <th>1971</th>\n",
              "      <th>1972</th>\n",
              "      <th>1973</th>\n",
              "      <th>1974</th>\n",
              "      <th>1975</th>\n",
              "      <th>1976</th>\n",
              "      <th>1977</th>\n",
              "      <th>1978</th>\n",
              "      <th>1979</th>\n",
              "      <th>1980</th>\n",
              "      <th>1981</th>\n",
              "      <th>1982</th>\n",
              "      <th>1983</th>\n",
              "      <th>1984</th>\n",
              "      <th>1985</th>\n",
              "      <th>1986</th>\n",
              "      <th>1987</th>\n",
              "      <th>1988</th>\n",
              "      <th>1989</th>\n",
              "      <th>1990</th>\n",
              "      <th>1991</th>\n",
              "      <th>1992</th>\n",
              "      <th>1993</th>\n",
              "      <th>1994</th>\n",
              "      <th>1995</th>\n",
              "      <th>1996</th>\n",
              "      <th>1997</th>\n",
              "      <th>1998</th>\n",
              "      <th>1999</th>\n",
              "      <th>2000</th>\n",
              "      <th>2001</th>\n",
              "      <th>2002</th>\n",
              "      <th>2003</th>\n",
              "      <th>2004</th>\n",
              "      <th>2005</th>\n",
              "      <th>2006</th>\n",
              "      <th>2007</th>\n",
              "      <th>2008</th>\n",
              "      <th>2009</th>\n",
              "      <th>2010</th>\n",
              "      <th>2011</th>\n",
              "      <th>2012</th>\n",
              "      <th>2013</th>\n",
              "      <th>2014</th>\n",
              "      <th>2015</th>\n",
              "      <th>2016</th>\n",
              "      <th>2017</th>\n",
              "      <th>2020</th>\n",
              "      <th>2025</th>\n",
              "      <th>2030</th>\n",
              "      <th>2035</th>\n",
              "      <th>2040</th>\n",
              "      <th>2045</th>\n",
              "      <th>2050</th>\n",
              "      <th>2055</th>\n",
              "      <th>2060</th>\n",
              "      <th>2065</th>\n",
              "      <th>2070</th>\n",
              "      <th>2075</th>\n",
              "      <th>2080</th>\n",
              "      <th>2085</th>\n",
              "      <th>2090</th>\n",
              "      <th>2095</th>\n",
              "      <th>2100</th>\n",
              "      <th>Unnamed: 69</th>\n",
              "    </tr>\n",
              "  </thead>\n",
              "  <tbody>\n",
              "    <tr>\n",
              "      <th>0</th>\n",
              "      <td>Arab World</td>\n",
              "      <td>ARB</td>\n",
              "      <td>Adjusted net enrolment rate, lower secondary, ...</td>\n",
              "      <td>UIS.NERA.2</td>\n",
              "      <td>NaN</td>\n",
              "      <td>NaN</td>\n",
              "      <td>NaN</td>\n",
              "      <td>NaN</td>\n",
              "      <td>NaN</td>\n",
              "      <td>NaN</td>\n",
              "      <td>NaN</td>\n",
              "      <td>NaN</td>\n",
              "      <td>NaN</td>\n",
              "      <td>NaN</td>\n",
              "      <td>NaN</td>\n",
              "      <td>NaN</td>\n",
              "      <td>NaN</td>\n",
              "      <td>NaN</td>\n",
              "      <td>NaN</td>\n",
              "      <td>NaN</td>\n",
              "      <td>NaN</td>\n",
              "      <td>NaN</td>\n",
              "      <td>NaN</td>\n",
              "      <td>NaN</td>\n",
              "      <td>NaN</td>\n",
              "      <td>NaN</td>\n",
              "      <td>NaN</td>\n",
              "      <td>NaN</td>\n",
              "      <td>NaN</td>\n",
              "      <td>NaN</td>\n",
              "      <td>NaN</td>\n",
              "      <td>NaN</td>\n",
              "      <td>NaN</td>\n",
              "      <td>NaN</td>\n",
              "      <td>NaN</td>\n",
              "      <td>NaN</td>\n",
              "      <td>NaN</td>\n",
              "      <td>NaN</td>\n",
              "      <td>NaN</td>\n",
              "      <td>NaN</td>\n",
              "      <td>NaN</td>\n",
              "      <td>NaN</td>\n",
              "      <td>NaN</td>\n",
              "      <td>NaN</td>\n",
              "      <td>NaN</td>\n",
              "      <td>NaN</td>\n",
              "      <td>NaN</td>\n",
              "      <td>NaN</td>\n",
              "      <td>NaN</td>\n",
              "      <td>NaN</td>\n",
              "      <td>NaN</td>\n",
              "      <td>NaN</td>\n",
              "      <td>NaN</td>\n",
              "      <td>NaN</td>\n",
              "      <td>NaN</td>\n",
              "      <td>NaN</td>\n",
              "      <td>NaN</td>\n",
              "      <td>NaN</td>\n",
              "      <td>NaN</td>\n",
              "      <td>NaN</td>\n",
              "      <td>NaN</td>\n",
              "      <td>NaN</td>\n",
              "      <td>NaN</td>\n",
              "      <td>NaN</td>\n",
              "      <td>NaN</td>\n",
              "      <td>NaN</td>\n",
              "      <td>NaN</td>\n",
              "      <td>NaN</td>\n",
              "      <td>NaN</td>\n",
              "      <td>NaN</td>\n",
              "    </tr>\n",
              "    <tr>\n",
              "      <th>1</th>\n",
              "      <td>Arab World</td>\n",
              "      <td>ARB</td>\n",
              "      <td>Adjusted net enrolment rate, lower secondary, ...</td>\n",
              "      <td>UIS.NERA.2.F</td>\n",
              "      <td>NaN</td>\n",
              "      <td>NaN</td>\n",
              "      <td>NaN</td>\n",
              "      <td>NaN</td>\n",
              "      <td>NaN</td>\n",
              "      <td>NaN</td>\n",
              "      <td>NaN</td>\n",
              "      <td>NaN</td>\n",
              "      <td>NaN</td>\n",
              "      <td>NaN</td>\n",
              "      <td>NaN</td>\n",
              "      <td>NaN</td>\n",
              "      <td>NaN</td>\n",
              "      <td>NaN</td>\n",
              "      <td>NaN</td>\n",
              "      <td>NaN</td>\n",
              "      <td>NaN</td>\n",
              "      <td>NaN</td>\n",
              "      <td>NaN</td>\n",
              "      <td>NaN</td>\n",
              "      <td>NaN</td>\n",
              "      <td>NaN</td>\n",
              "      <td>NaN</td>\n",
              "      <td>NaN</td>\n",
              "      <td>NaN</td>\n",
              "      <td>NaN</td>\n",
              "      <td>NaN</td>\n",
              "      <td>NaN</td>\n",
              "      <td>NaN</td>\n",
              "      <td>NaN</td>\n",
              "      <td>NaN</td>\n",
              "      <td>NaN</td>\n",
              "      <td>NaN</td>\n",
              "      <td>NaN</td>\n",
              "      <td>NaN</td>\n",
              "      <td>NaN</td>\n",
              "      <td>NaN</td>\n",
              "      <td>NaN</td>\n",
              "      <td>NaN</td>\n",
              "      <td>NaN</td>\n",
              "      <td>NaN</td>\n",
              "      <td>NaN</td>\n",
              "      <td>NaN</td>\n",
              "      <td>NaN</td>\n",
              "      <td>NaN</td>\n",
              "      <td>NaN</td>\n",
              "      <td>NaN</td>\n",
              "      <td>NaN</td>\n",
              "      <td>NaN</td>\n",
              "      <td>NaN</td>\n",
              "      <td>NaN</td>\n",
              "      <td>NaN</td>\n",
              "      <td>NaN</td>\n",
              "      <td>NaN</td>\n",
              "      <td>NaN</td>\n",
              "      <td>NaN</td>\n",
              "      <td>NaN</td>\n",
              "      <td>NaN</td>\n",
              "      <td>NaN</td>\n",
              "      <td>NaN</td>\n",
              "      <td>NaN</td>\n",
              "      <td>NaN</td>\n",
              "      <td>NaN</td>\n",
              "      <td>NaN</td>\n",
              "      <td>NaN</td>\n",
              "      <td>NaN</td>\n",
              "    </tr>\n",
              "  </tbody>\n",
              "</table>\n",
              "</div>\n",
              "      <button class=\"colab-df-convert\" onclick=\"convertToInteractive('df-0495e0c5-7ea5-431f-af5d-0d9d4f62347f')\"\n",
              "              title=\"Convert this dataframe to an interactive table.\"\n",
              "              style=\"display:none;\">\n",
              "        \n",
              "  <svg xmlns=\"http://www.w3.org/2000/svg\" height=\"24px\"viewBox=\"0 0 24 24\"\n",
              "       width=\"24px\">\n",
              "    <path d=\"M0 0h24v24H0V0z\" fill=\"none\"/>\n",
              "    <path d=\"M18.56 5.44l.94 2.06.94-2.06 2.06-.94-2.06-.94-.94-2.06-.94 2.06-2.06.94zm-11 1L8.5 8.5l.94-2.06 2.06-.94-2.06-.94L8.5 2.5l-.94 2.06-2.06.94zm10 10l.94 2.06.94-2.06 2.06-.94-2.06-.94-.94-2.06-.94 2.06-2.06.94z\"/><path d=\"M17.41 7.96l-1.37-1.37c-.4-.4-.92-.59-1.43-.59-.52 0-1.04.2-1.43.59L10.3 9.45l-7.72 7.72c-.78.78-.78 2.05 0 2.83L4 21.41c.39.39.9.59 1.41.59.51 0 1.02-.2 1.41-.59l7.78-7.78 2.81-2.81c.8-.78.8-2.07 0-2.86zM5.41 20L4 18.59l7.72-7.72 1.47 1.35L5.41 20z\"/>\n",
              "  </svg>\n",
              "      </button>\n",
              "      \n",
              "  <style>\n",
              "    .colab-df-container {\n",
              "      display:flex;\n",
              "      flex-wrap:wrap;\n",
              "      gap: 12px;\n",
              "    }\n",
              "\n",
              "    .colab-df-convert {\n",
              "      background-color: #E8F0FE;\n",
              "      border: none;\n",
              "      border-radius: 50%;\n",
              "      cursor: pointer;\n",
              "      display: none;\n",
              "      fill: #1967D2;\n",
              "      height: 32px;\n",
              "      padding: 0 0 0 0;\n",
              "      width: 32px;\n",
              "    }\n",
              "\n",
              "    .colab-df-convert:hover {\n",
              "      background-color: #E2EBFA;\n",
              "      box-shadow: 0px 1px 2px rgba(60, 64, 67, 0.3), 0px 1px 3px 1px rgba(60, 64, 67, 0.15);\n",
              "      fill: #174EA6;\n",
              "    }\n",
              "\n",
              "    [theme=dark] .colab-df-convert {\n",
              "      background-color: #3B4455;\n",
              "      fill: #D2E3FC;\n",
              "    }\n",
              "\n",
              "    [theme=dark] .colab-df-convert:hover {\n",
              "      background-color: #434B5C;\n",
              "      box-shadow: 0px 1px 3px 1px rgba(0, 0, 0, 0.15);\n",
              "      filter: drop-shadow(0px 1px 2px rgba(0, 0, 0, 0.3));\n",
              "      fill: #FFFFFF;\n",
              "    }\n",
              "  </style>\n",
              "\n",
              "      <script>\n",
              "        const buttonEl =\n",
              "          document.querySelector('#df-0495e0c5-7ea5-431f-af5d-0d9d4f62347f button.colab-df-convert');\n",
              "        buttonEl.style.display =\n",
              "          google.colab.kernel.accessAllowed ? 'block' : 'none';\n",
              "\n",
              "        async function convertToInteractive(key) {\n",
              "          const element = document.querySelector('#df-0495e0c5-7ea5-431f-af5d-0d9d4f62347f');\n",
              "          const dataTable =\n",
              "            await google.colab.kernel.invokeFunction('convertToInteractive',\n",
              "                                                     [key], {});\n",
              "          if (!dataTable) return;\n",
              "\n",
              "          const docLinkHtml = 'Like what you see? Visit the ' +\n",
              "            '<a target=\"_blank\" href=https://colab.research.google.com/notebooks/data_table.ipynb>data table notebook</a>'\n",
              "            + ' to learn more about interactive tables.';\n",
              "          element.innerHTML = '';\n",
              "          dataTable['output_type'] = 'display_data';\n",
              "          await google.colab.output.renderOutput(dataTable, element);\n",
              "          const docLink = document.createElement('div');\n",
              "          docLink.innerHTML = docLinkHtml;\n",
              "          element.appendChild(docLink);\n",
              "        }\n",
              "      </script>\n",
              "    </div>\n",
              "  </div>\n",
              "  "
            ],
            "text/plain": [
              "  Country Name Country Code  ... 2100 Unnamed: 69\n",
              "0   Arab World          ARB  ...  NaN         NaN\n",
              "1   Arab World          ARB  ...  NaN         NaN\n",
              "\n",
              "[2 rows x 70 columns]"
            ]
          },
          "metadata": {},
          "execution_count": 7
        }
      ]
    },
    {
      "cell_type": "code",
      "source": [
        "footnote_df.head(2)"
      ],
      "metadata": {
        "colab": {
          "base_uri": "https://localhost:8080/",
          "height": 112
        },
        "id": "wBxo0Eboyt-w",
        "outputId": "2dfa7f99-b593-4ba3-af53-42ab3b7e686e"
      },
      "execution_count": 8,
      "outputs": [
        {
          "output_type": "execute_result",
          "data": {
            "text/html": [
              "\n",
              "  <div id=\"df-a55e6be2-f30c-4cd0-9b40-672710c82548\">\n",
              "    <div class=\"colab-df-container\">\n",
              "      <div>\n",
              "<style scoped>\n",
              "    .dataframe tbody tr th:only-of-type {\n",
              "        vertical-align: middle;\n",
              "    }\n",
              "\n",
              "    .dataframe tbody tr th {\n",
              "        vertical-align: top;\n",
              "    }\n",
              "\n",
              "    .dataframe thead th {\n",
              "        text-align: right;\n",
              "    }\n",
              "</style>\n",
              "<table border=\"1\" class=\"dataframe\">\n",
              "  <thead>\n",
              "    <tr style=\"text-align: right;\">\n",
              "      <th></th>\n",
              "      <th>CountryCode</th>\n",
              "      <th>SeriesCode</th>\n",
              "      <th>Year</th>\n",
              "      <th>DESCRIPTION</th>\n",
              "      <th>Unnamed: 4</th>\n",
              "    </tr>\n",
              "  </thead>\n",
              "  <tbody>\n",
              "    <tr>\n",
              "      <th>0</th>\n",
              "      <td>ABW</td>\n",
              "      <td>SE.PRE.ENRL.FE</td>\n",
              "      <td>YR2001</td>\n",
              "      <td>Country estimation.</td>\n",
              "      <td>NaN</td>\n",
              "    </tr>\n",
              "    <tr>\n",
              "      <th>1</th>\n",
              "      <td>ABW</td>\n",
              "      <td>SE.TER.TCHR.FE</td>\n",
              "      <td>YR2005</td>\n",
              "      <td>Country estimation.</td>\n",
              "      <td>NaN</td>\n",
              "    </tr>\n",
              "  </tbody>\n",
              "</table>\n",
              "</div>\n",
              "      <button class=\"colab-df-convert\" onclick=\"convertToInteractive('df-a55e6be2-f30c-4cd0-9b40-672710c82548')\"\n",
              "              title=\"Convert this dataframe to an interactive table.\"\n",
              "              style=\"display:none;\">\n",
              "        \n",
              "  <svg xmlns=\"http://www.w3.org/2000/svg\" height=\"24px\"viewBox=\"0 0 24 24\"\n",
              "       width=\"24px\">\n",
              "    <path d=\"M0 0h24v24H0V0z\" fill=\"none\"/>\n",
              "    <path d=\"M18.56 5.44l.94 2.06.94-2.06 2.06-.94-2.06-.94-.94-2.06-.94 2.06-2.06.94zm-11 1L8.5 8.5l.94-2.06 2.06-.94-2.06-.94L8.5 2.5l-.94 2.06-2.06.94zm10 10l.94 2.06.94-2.06 2.06-.94-2.06-.94-.94-2.06-.94 2.06-2.06.94z\"/><path d=\"M17.41 7.96l-1.37-1.37c-.4-.4-.92-.59-1.43-.59-.52 0-1.04.2-1.43.59L10.3 9.45l-7.72 7.72c-.78.78-.78 2.05 0 2.83L4 21.41c.39.39.9.59 1.41.59.51 0 1.02-.2 1.41-.59l7.78-7.78 2.81-2.81c.8-.78.8-2.07 0-2.86zM5.41 20L4 18.59l7.72-7.72 1.47 1.35L5.41 20z\"/>\n",
              "  </svg>\n",
              "      </button>\n",
              "      \n",
              "  <style>\n",
              "    .colab-df-container {\n",
              "      display:flex;\n",
              "      flex-wrap:wrap;\n",
              "      gap: 12px;\n",
              "    }\n",
              "\n",
              "    .colab-df-convert {\n",
              "      background-color: #E8F0FE;\n",
              "      border: none;\n",
              "      border-radius: 50%;\n",
              "      cursor: pointer;\n",
              "      display: none;\n",
              "      fill: #1967D2;\n",
              "      height: 32px;\n",
              "      padding: 0 0 0 0;\n",
              "      width: 32px;\n",
              "    }\n",
              "\n",
              "    .colab-df-convert:hover {\n",
              "      background-color: #E2EBFA;\n",
              "      box-shadow: 0px 1px 2px rgba(60, 64, 67, 0.3), 0px 1px 3px 1px rgba(60, 64, 67, 0.15);\n",
              "      fill: #174EA6;\n",
              "    }\n",
              "\n",
              "    [theme=dark] .colab-df-convert {\n",
              "      background-color: #3B4455;\n",
              "      fill: #D2E3FC;\n",
              "    }\n",
              "\n",
              "    [theme=dark] .colab-df-convert:hover {\n",
              "      background-color: #434B5C;\n",
              "      box-shadow: 0px 1px 3px 1px rgba(0, 0, 0, 0.15);\n",
              "      filter: drop-shadow(0px 1px 2px rgba(0, 0, 0, 0.3));\n",
              "      fill: #FFFFFF;\n",
              "    }\n",
              "  </style>\n",
              "\n",
              "      <script>\n",
              "        const buttonEl =\n",
              "          document.querySelector('#df-a55e6be2-f30c-4cd0-9b40-672710c82548 button.colab-df-convert');\n",
              "        buttonEl.style.display =\n",
              "          google.colab.kernel.accessAllowed ? 'block' : 'none';\n",
              "\n",
              "        async function convertToInteractive(key) {\n",
              "          const element = document.querySelector('#df-a55e6be2-f30c-4cd0-9b40-672710c82548');\n",
              "          const dataTable =\n",
              "            await google.colab.kernel.invokeFunction('convertToInteractive',\n",
              "                                                     [key], {});\n",
              "          if (!dataTable) return;\n",
              "\n",
              "          const docLinkHtml = 'Like what you see? Visit the ' +\n",
              "            '<a target=\"_blank\" href=https://colab.research.google.com/notebooks/data_table.ipynb>data table notebook</a>'\n",
              "            + ' to learn more about interactive tables.';\n",
              "          element.innerHTML = '';\n",
              "          dataTable['output_type'] = 'display_data';\n",
              "          await google.colab.output.renderOutput(dataTable, element);\n",
              "          const docLink = document.createElement('div');\n",
              "          docLink.innerHTML = docLinkHtml;\n",
              "          element.appendChild(docLink);\n",
              "        }\n",
              "      </script>\n",
              "    </div>\n",
              "  </div>\n",
              "  "
            ],
            "text/plain": [
              "  CountryCode      SeriesCode    Year          DESCRIPTION  Unnamed: 4\n",
              "0         ABW  SE.PRE.ENRL.FE  YR2001  Country estimation.         NaN\n",
              "1         ABW  SE.TER.TCHR.FE  YR2005  Country estimation.         NaN"
            ]
          },
          "metadata": {},
          "execution_count": 8
        }
      ]
    },
    {
      "cell_type": "code",
      "source": [
        "series_df.head(2)"
      ],
      "metadata": {
        "colab": {
          "base_uri": "https://localhost:8080/",
          "height": 384
        },
        "id": "OmG0Nn5IyuuN",
        "outputId": "c8100ebd-d748-40d9-f5ca-793927c4699f"
      },
      "execution_count": 9,
      "outputs": [
        {
          "output_type": "execute_result",
          "data": {
            "text/html": [
              "\n",
              "  <div id=\"df-1312c015-8089-4568-b2f7-3de9049f6b2d\">\n",
              "    <div class=\"colab-df-container\">\n",
              "      <div>\n",
              "<style scoped>\n",
              "    .dataframe tbody tr th:only-of-type {\n",
              "        vertical-align: middle;\n",
              "    }\n",
              "\n",
              "    .dataframe tbody tr th {\n",
              "        vertical-align: top;\n",
              "    }\n",
              "\n",
              "    .dataframe thead th {\n",
              "        text-align: right;\n",
              "    }\n",
              "</style>\n",
              "<table border=\"1\" class=\"dataframe\">\n",
              "  <thead>\n",
              "    <tr style=\"text-align: right;\">\n",
              "      <th></th>\n",
              "      <th>Series Code</th>\n",
              "      <th>Topic</th>\n",
              "      <th>Indicator Name</th>\n",
              "      <th>Short definition</th>\n",
              "      <th>Long definition</th>\n",
              "      <th>Unit of measure</th>\n",
              "      <th>Periodicity</th>\n",
              "      <th>Base Period</th>\n",
              "      <th>Other notes</th>\n",
              "      <th>Aggregation method</th>\n",
              "      <th>Limitations and exceptions</th>\n",
              "      <th>Notes from original source</th>\n",
              "      <th>General comments</th>\n",
              "      <th>Source</th>\n",
              "      <th>Statistical concept and methodology</th>\n",
              "      <th>Development relevance</th>\n",
              "      <th>Related source links</th>\n",
              "      <th>Other web links</th>\n",
              "      <th>Related indicators</th>\n",
              "      <th>License Type</th>\n",
              "      <th>Unnamed: 20</th>\n",
              "    </tr>\n",
              "  </thead>\n",
              "  <tbody>\n",
              "    <tr>\n",
              "      <th>0</th>\n",
              "      <td>BAR.NOED.1519.FE.ZS</td>\n",
              "      <td>Attainment</td>\n",
              "      <td>Barro-Lee: Percentage of female population age...</td>\n",
              "      <td>Percentage of female population age 15-19 with...</td>\n",
              "      <td>Percentage of female population age 15-19 with...</td>\n",
              "      <td>NaN</td>\n",
              "      <td>NaN</td>\n",
              "      <td>NaN</td>\n",
              "      <td>NaN</td>\n",
              "      <td>NaN</td>\n",
              "      <td>NaN</td>\n",
              "      <td>NaN</td>\n",
              "      <td>NaN</td>\n",
              "      <td>Robert J. Barro and Jong-Wha Lee: http://www.b...</td>\n",
              "      <td>NaN</td>\n",
              "      <td>NaN</td>\n",
              "      <td>NaN</td>\n",
              "      <td>NaN</td>\n",
              "      <td>NaN</td>\n",
              "      <td>NaN</td>\n",
              "      <td>NaN</td>\n",
              "    </tr>\n",
              "    <tr>\n",
              "      <th>1</th>\n",
              "      <td>BAR.NOED.1519.ZS</td>\n",
              "      <td>Attainment</td>\n",
              "      <td>Barro-Lee: Percentage of population age 15-19 ...</td>\n",
              "      <td>Percentage of population age 15-19 with no edu...</td>\n",
              "      <td>Percentage of population age 15-19 with no edu...</td>\n",
              "      <td>NaN</td>\n",
              "      <td>NaN</td>\n",
              "      <td>NaN</td>\n",
              "      <td>NaN</td>\n",
              "      <td>NaN</td>\n",
              "      <td>NaN</td>\n",
              "      <td>NaN</td>\n",
              "      <td>NaN</td>\n",
              "      <td>Robert J. Barro and Jong-Wha Lee: http://www.b...</td>\n",
              "      <td>NaN</td>\n",
              "      <td>NaN</td>\n",
              "      <td>NaN</td>\n",
              "      <td>NaN</td>\n",
              "      <td>NaN</td>\n",
              "      <td>NaN</td>\n",
              "      <td>NaN</td>\n",
              "    </tr>\n",
              "  </tbody>\n",
              "</table>\n",
              "</div>\n",
              "      <button class=\"colab-df-convert\" onclick=\"convertToInteractive('df-1312c015-8089-4568-b2f7-3de9049f6b2d')\"\n",
              "              title=\"Convert this dataframe to an interactive table.\"\n",
              "              style=\"display:none;\">\n",
              "        \n",
              "  <svg xmlns=\"http://www.w3.org/2000/svg\" height=\"24px\"viewBox=\"0 0 24 24\"\n",
              "       width=\"24px\">\n",
              "    <path d=\"M0 0h24v24H0V0z\" fill=\"none\"/>\n",
              "    <path d=\"M18.56 5.44l.94 2.06.94-2.06 2.06-.94-2.06-.94-.94-2.06-.94 2.06-2.06.94zm-11 1L8.5 8.5l.94-2.06 2.06-.94-2.06-.94L8.5 2.5l-.94 2.06-2.06.94zm10 10l.94 2.06.94-2.06 2.06-.94-2.06-.94-.94-2.06-.94 2.06-2.06.94z\"/><path d=\"M17.41 7.96l-1.37-1.37c-.4-.4-.92-.59-1.43-.59-.52 0-1.04.2-1.43.59L10.3 9.45l-7.72 7.72c-.78.78-.78 2.05 0 2.83L4 21.41c.39.39.9.59 1.41.59.51 0 1.02-.2 1.41-.59l7.78-7.78 2.81-2.81c.8-.78.8-2.07 0-2.86zM5.41 20L4 18.59l7.72-7.72 1.47 1.35L5.41 20z\"/>\n",
              "  </svg>\n",
              "      </button>\n",
              "      \n",
              "  <style>\n",
              "    .colab-df-container {\n",
              "      display:flex;\n",
              "      flex-wrap:wrap;\n",
              "      gap: 12px;\n",
              "    }\n",
              "\n",
              "    .colab-df-convert {\n",
              "      background-color: #E8F0FE;\n",
              "      border: none;\n",
              "      border-radius: 50%;\n",
              "      cursor: pointer;\n",
              "      display: none;\n",
              "      fill: #1967D2;\n",
              "      height: 32px;\n",
              "      padding: 0 0 0 0;\n",
              "      width: 32px;\n",
              "    }\n",
              "\n",
              "    .colab-df-convert:hover {\n",
              "      background-color: #E2EBFA;\n",
              "      box-shadow: 0px 1px 2px rgba(60, 64, 67, 0.3), 0px 1px 3px 1px rgba(60, 64, 67, 0.15);\n",
              "      fill: #174EA6;\n",
              "    }\n",
              "\n",
              "    [theme=dark] .colab-df-convert {\n",
              "      background-color: #3B4455;\n",
              "      fill: #D2E3FC;\n",
              "    }\n",
              "\n",
              "    [theme=dark] .colab-df-convert:hover {\n",
              "      background-color: #434B5C;\n",
              "      box-shadow: 0px 1px 3px 1px rgba(0, 0, 0, 0.15);\n",
              "      filter: drop-shadow(0px 1px 2px rgba(0, 0, 0, 0.3));\n",
              "      fill: #FFFFFF;\n",
              "    }\n",
              "  </style>\n",
              "\n",
              "      <script>\n",
              "        const buttonEl =\n",
              "          document.querySelector('#df-1312c015-8089-4568-b2f7-3de9049f6b2d button.colab-df-convert');\n",
              "        buttonEl.style.display =\n",
              "          google.colab.kernel.accessAllowed ? 'block' : 'none';\n",
              "\n",
              "        async function convertToInteractive(key) {\n",
              "          const element = document.querySelector('#df-1312c015-8089-4568-b2f7-3de9049f6b2d');\n",
              "          const dataTable =\n",
              "            await google.colab.kernel.invokeFunction('convertToInteractive',\n",
              "                                                     [key], {});\n",
              "          if (!dataTable) return;\n",
              "\n",
              "          const docLinkHtml = 'Like what you see? Visit the ' +\n",
              "            '<a target=\"_blank\" href=https://colab.research.google.com/notebooks/data_table.ipynb>data table notebook</a>'\n",
              "            + ' to learn more about interactive tables.';\n",
              "          element.innerHTML = '';\n",
              "          dataTable['output_type'] = 'display_data';\n",
              "          await google.colab.output.renderOutput(dataTable, element);\n",
              "          const docLink = document.createElement('div');\n",
              "          docLink.innerHTML = docLinkHtml;\n",
              "          element.appendChild(docLink);\n",
              "        }\n",
              "      </script>\n",
              "    </div>\n",
              "  </div>\n",
              "  "
            ],
            "text/plain": [
              "           Series Code       Topic  ... License Type Unnamed: 20\n",
              "0  BAR.NOED.1519.FE.ZS  Attainment  ...          NaN         NaN\n",
              "1     BAR.NOED.1519.ZS  Attainment  ...          NaN         NaN\n",
              "\n",
              "[2 rows x 21 columns]"
            ]
          },
          "metadata": {},
          "execution_count": 9
        }
      ]
    },
    {
      "cell_type": "code",
      "source": [
        "series_df[\"Indicator Name\"].values[0]"
      ],
      "metadata": {
        "colab": {
          "base_uri": "https://localhost:8080/",
          "height": 35
        },
        "id": "9xXlhHLFvUZG",
        "outputId": "963e2582-f6b0-462d-deab-8da71ad93ecf"
      },
      "execution_count": 10,
      "outputs": [
        {
          "output_type": "execute_result",
          "data": {
            "application/vnd.google.colaboratory.intrinsic+json": {
              "type": "string"
            },
            "text/plain": [
              "'Barro-Lee: Percentage of female population age 15-19 with no education'"
            ]
          },
          "metadata": {},
          "execution_count": 10
        }
      ]
    },
    {
      "cell_type": "code",
      "source": [
        "series_df[\"Short definition\"].values[0]"
      ],
      "metadata": {
        "colab": {
          "base_uri": "https://localhost:8080/",
          "height": 35
        },
        "id": "O9E77QkAvmj2",
        "outputId": "2ac727e3-4a9c-4e81-bf43-526a2c7025a9"
      },
      "execution_count": 11,
      "outputs": [
        {
          "output_type": "execute_result",
          "data": {
            "application/vnd.google.colaboratory.intrinsic+json": {
              "type": "string"
            },
            "text/plain": [
              "'Percentage of female population age 15-19 with no education'"
            ]
          },
          "metadata": {},
          "execution_count": 11
        }
      ]
    },
    {
      "cell_type": "code",
      "source": [
        "series_df[\"Long definition\"].values[0]"
      ],
      "metadata": {
        "colab": {
          "base_uri": "https://localhost:8080/",
          "height": 35
        },
        "id": "uZGEibFFvnnf",
        "outputId": "6b32f1f5-134b-47aa-bcd5-91459bbdce63"
      },
      "execution_count": 12,
      "outputs": [
        {
          "output_type": "execute_result",
          "data": {
            "application/vnd.google.colaboratory.intrinsic+json": {
              "type": "string"
            },
            "text/plain": [
              "'Percentage of female population age 15-19 with no education'"
            ]
          },
          "metadata": {},
          "execution_count": 12
        }
      ]
    },
    {
      "cell_type": "markdown",
      "source": [
        "### **3. Deeper Understanding of the Data**\n",
        "\n",
        "As there is a huge no. of experiences and huge no. of features, we take the help of **statistics to measure** each and every features and thus step by step, we find the most important experiences and features.\n",
        "\n",
        "“**what gets measured gets done**“."
      ],
      "metadata": {
        "id": "CE9hK1sfv-bC"
      }
    },
    {
      "cell_type": "code",
      "source": [
        "# Checking overall information\n",
        "data_df.info()"
      ],
      "metadata": {
        "colab": {
          "base_uri": "https://localhost:8080/"
        },
        "id": "W4Y5XgKs3aDs",
        "outputId": "01465f0a-7ca7-489c-c6a3-044088cf8c6f"
      },
      "execution_count": 13,
      "outputs": [
        {
          "output_type": "stream",
          "name": "stdout",
          "text": [
            "<class 'pandas.core.frame.DataFrame'>\n",
            "RangeIndex: 886930 entries, 0 to 886929\n",
            "Data columns (total 70 columns):\n",
            " #   Column          Non-Null Count   Dtype  \n",
            "---  ------          --------------   -----  \n",
            " 0   Country Name    886930 non-null  object \n",
            " 1   Country Code    886930 non-null  object \n",
            " 2   Indicator Name  886930 non-null  object \n",
            " 3   Indicator Code  886930 non-null  object \n",
            " 4   1970            72288 non-null   float64\n",
            " 5   1971            35537 non-null   float64\n",
            " 6   1972            35619 non-null   float64\n",
            " 7   1973            35545 non-null   float64\n",
            " 8   1974            35730 non-null   float64\n",
            " 9   1975            87306 non-null   float64\n",
            " 10  1976            37483 non-null   float64\n",
            " 11  1977            37574 non-null   float64\n",
            " 12  1978            37576 non-null   float64\n",
            " 13  1979            36809 non-null   float64\n",
            " 14  1980            89122 non-null   float64\n",
            " 15  1981            38777 non-null   float64\n",
            " 16  1982            37511 non-null   float64\n",
            " 17  1983            38460 non-null   float64\n",
            " 18  1984            38606 non-null   float64\n",
            " 19  1985            90296 non-null   float64\n",
            " 20  1986            39372 non-null   float64\n",
            " 21  1987            38641 non-null   float64\n",
            " 22  1988            38552 non-null   float64\n",
            " 23  1989            37540 non-null   float64\n",
            " 24  1990            124405 non-null  float64\n",
            " 25  1991            74437 non-null   float64\n",
            " 26  1992            75543 non-null   float64\n",
            " 27  1993            75793 non-null   float64\n",
            " 28  1994            77462 non-null   float64\n",
            " 29  1995            131361 non-null  float64\n",
            " 30  1996            76807 non-null   float64\n",
            " 31  1997            73453 non-null   float64\n",
            " 32  1998            84914 non-null   float64\n",
            " 33  1999            118839 non-null  float64\n",
            " 34  2000            176676 non-null  float64\n",
            " 35  2001            123509 non-null  float64\n",
            " 36  2002            124205 non-null  float64\n",
            " 37  2003            130363 non-null  float64\n",
            " 38  2004            128814 non-null  float64\n",
            " 39  2005            184108 non-null  float64\n",
            " 40  2006            140312 non-null  float64\n",
            " 41  2007            137272 non-null  float64\n",
            " 42  2008            134387 non-null  float64\n",
            " 43  2009            142108 non-null  float64\n",
            " 44  2010            242442 non-null  float64\n",
            " 45  2011            146012 non-null  float64\n",
            " 46  2012            147264 non-null  float64\n",
            " 47  2013            137509 non-null  float64\n",
            " 48  2014            113789 non-null  float64\n",
            " 49  2015            131058 non-null  float64\n",
            " 50  2016            16460 non-null   float64\n",
            " 51  2017            143 non-null     float64\n",
            " 52  2020            51436 non-null   float64\n",
            " 53  2025            51436 non-null   float64\n",
            " 54  2030            51436 non-null   float64\n",
            " 55  2035            51436 non-null   float64\n",
            " 56  2040            51436 non-null   float64\n",
            " 57  2045            51436 non-null   float64\n",
            " 58  2050            51436 non-null   float64\n",
            " 59  2055            51436 non-null   float64\n",
            " 60  2060            51436 non-null   float64\n",
            " 61  2065            51436 non-null   float64\n",
            " 62  2070            51436 non-null   float64\n",
            " 63  2075            51436 non-null   float64\n",
            " 64  2080            51436 non-null   float64\n",
            " 65  2085            51436 non-null   float64\n",
            " 66  2090            51436 non-null   float64\n",
            " 67  2095            51436 non-null   float64\n",
            " 68  2100            51436 non-null   float64\n",
            " 69  Unnamed: 69     0 non-null       float64\n",
            "dtypes: float64(66), object(4)\n",
            "memory usage: 473.7+ MB\n"
          ]
        }
      ]
    },
    {
      "cell_type": "markdown",
      "source": [
        "**Here, the data set has 47 years of experiences from 1970 to 2016 with 3,665 statistical indicators (features) for 242 countries**\n",
        "\n",
        "data_df has 3665*242= 886930 rows \n",
        "\n",
        "**Therefore, we will create sub dataframes for all 242 countries and set the years in rows and indicators in column.**"
      ],
      "metadata": {
        "id": "aRgxswnLu995"
      }
    },
    {
      "cell_type": "markdown",
      "source": [
        "### **4. Cleaning the Data**\n",
        "\n",
        "Now we can create a clean experience set with important features. \n",
        "\n",
        "In this step, we treat the missing values or \"?\" values through imputation if required.\n",
        "\n",
        "We may also create new feature if found important during the analysis.\n",
        "\n",
        "We check the statistics further on clean data."
      ],
      "metadata": {
        "id": "Q4cOJs1lwEXa"
      }
    },
    {
      "cell_type": "markdown",
      "source": [
        "###**Search for the most common feature**"
      ],
      "metadata": {
        "id": "NDIJmKaKz_a2"
      }
    },
    {
      "cell_type": "code",
      "source": [
        "data_df.columns"
      ],
      "metadata": {
        "colab": {
          "base_uri": "https://localhost:8080/"
        },
        "id": "e96gvzam0QCW",
        "outputId": "b5a9251a-d286-40d0-9fbd-99a8ee00f972"
      },
      "execution_count": 14,
      "outputs": [
        {
          "output_type": "execute_result",
          "data": {
            "text/plain": [
              "Index(['Country Name', 'Country Code', 'Indicator Name', 'Indicator Code',\n",
              "       '1970', '1971', '1972', '1973', '1974', '1975', '1976', '1977', '1978',\n",
              "       '1979', '1980', '1981', '1982', '1983', '1984', '1985', '1986', '1987',\n",
              "       '1988', '1989', '1990', '1991', '1992', '1993', '1994', '1995', '1996',\n",
              "       '1997', '1998', '1999', '2000', '2001', '2002', '2003', '2004', '2005',\n",
              "       '2006', '2007', '2008', '2009', '2010', '2011', '2012', '2013', '2014',\n",
              "       '2015', '2016', '2017', '2020', '2025', '2030', '2035', '2040', '2045',\n",
              "       '2050', '2055', '2060', '2065', '2070', '2075', '2080', '2085', '2090',\n",
              "       '2095', '2100', 'Unnamed: 69'],\n",
              "      dtype='object')"
            ]
          },
          "metadata": {},
          "execution_count": 14
        }
      ]
    },
    {
      "cell_type": "code",
      "source": [
        "# Now we can break the data_df into record and target indicators data frames\n",
        "record_df=data_df[['Country Code','Indicator Code',\n",
        "       '1970', '1971', '1972', '1973', '1974', '1975', '1976', '1977', '1978',\n",
        "       '1979', '1980', '1981', '1982', '1983', '1984', '1985', '1986', '1987',\n",
        "       '1988', '1989', '1990', '1991', '1992', '1993', '1994', '1995', '1996',\n",
        "       '1997', '1998', '1999', '2000', '2001', '2002', '2003', '2004', '2005',\n",
        "       '2006', '2007', '2008', '2009', '2010', '2011', '2012', '2013', '2014',\n",
        "       '2015', '2016']]\n",
        "target_df=data_df[['Country Code','Indicator Code',\n",
        "       '2020', '2025', '2030', '2035', '2040', '2045',\n",
        "       '2050', '2055', '2060', '2065', '2070', '2075', '2080', '2085', '2090',\n",
        "       '2095', '2100']]"
      ],
      "metadata": {
        "id": "LHHfFCjx3CQs"
      },
      "execution_count": 15,
      "outputs": []
    },
    {
      "cell_type": "code",
      "source": [
        "# checking the no. of null values in each column\n",
        "record_df.isnull().sum()"
      ],
      "metadata": {
        "id": "cjq51c7D8UpG",
        "colab": {
          "base_uri": "https://localhost:8080/"
        },
        "outputId": "65c25055-3867-4722-84e8-23af79eed7c1"
      },
      "execution_count": 16,
      "outputs": [
        {
          "output_type": "execute_result",
          "data": {
            "text/plain": [
              "Country Code           0\n",
              "Indicator Code         0\n",
              "1970              814642\n",
              "1971              851393\n",
              "1972              851311\n",
              "1973              851385\n",
              "1974              851200\n",
              "1975              799624\n",
              "1976              849447\n",
              "1977              849356\n",
              "1978              849354\n",
              "1979              850121\n",
              "1980              797808\n",
              "1981              848153\n",
              "1982              849419\n",
              "1983              848470\n",
              "1984              848324\n",
              "1985              796634\n",
              "1986              847558\n",
              "1987              848289\n",
              "1988              848378\n",
              "1989              849390\n",
              "1990              762525\n",
              "1991              812493\n",
              "1992              811387\n",
              "1993              811137\n",
              "1994              809468\n",
              "1995              755569\n",
              "1996              810123\n",
              "1997              813477\n",
              "1998              802016\n",
              "1999              768091\n",
              "2000              710254\n",
              "2001              763421\n",
              "2002              762725\n",
              "2003              756567\n",
              "2004              758116\n",
              "2005              702822\n",
              "2006              746618\n",
              "2007              749658\n",
              "2008              752543\n",
              "2009              744822\n",
              "2010              644488\n",
              "2011              740918\n",
              "2012              739666\n",
              "2013              749421\n",
              "2014              773141\n",
              "2015              755872\n",
              "2016              870470\n",
              "dtype: int64"
            ]
          },
          "metadata": {},
          "execution_count": 16
        }
      ]
    },
    {
      "cell_type": "code",
      "source": [
        "# Most of the records have null values. \n",
        "# Means we do not have the data of all the indicators for all the countries and years"
      ],
      "metadata": {
        "id": "Df99OJ-xF9EL"
      },
      "execution_count": 17,
      "outputs": []
    },
    {
      "cell_type": "code",
      "source": [
        "dict_of_countries=dict(data_df[['Country Code','Country Name']].values)\n",
        "dict_of_countries.get('ARB')"
      ],
      "metadata": {
        "colab": {
          "base_uri": "https://localhost:8080/",
          "height": 35
        },
        "id": "Bj4rk83Fz058",
        "outputId": "56a31252-dc6e-4022-a177-3f313a0e15bc"
      },
      "execution_count": 18,
      "outputs": [
        {
          "output_type": "execute_result",
          "data": {
            "application/vnd.google.colaboratory.intrinsic+json": {
              "type": "string"
            },
            "text/plain": [
              "'Arab World'"
            ]
          },
          "metadata": {},
          "execution_count": 18
        }
      ]
    },
    {
      "cell_type": "code",
      "source": [
        "dict_of_indicators=dict(data_df[['Indicator Code','Indicator Name']].values)\n",
        "dict_of_indicators.get('UIS.NERA.2')"
      ],
      "metadata": {
        "colab": {
          "base_uri": "https://localhost:8080/",
          "height": 35
        },
        "id": "9Cx9vVqP1LKP",
        "outputId": "360b4361-a8f4-4bf0-b5b5-8d3945ff3e34"
      },
      "execution_count": 19,
      "outputs": [
        {
          "output_type": "execute_result",
          "data": {
            "application/vnd.google.colaboratory.intrinsic+json": {
              "type": "string"
            },
            "text/plain": [
              "'Adjusted net enrolment rate, lower secondary, both sexes (%)'"
            ]
          },
          "metadata": {},
          "execution_count": 19
        }
      ]
    },
    {
      "cell_type": "code",
      "source": [
        "# Creating filtered record for all individual countries\n",
        "dict_of_filtered_df={i:record_df.loc[(record_df['Country Code']==i)] for i in list(dict_of_countries.keys())}\n",
        "for k in list(dict_of_countries.keys()):\n",
        "  dict_of_filtered_df.get(k).drop(['Country Code'], axis = 1, inplace=True)\n",
        "  dict_of_filtered_df.get(k).set_index('Indicator Code', inplace=True)\n",
        "  dict_of_filtered_df.update({k:dict_of_filtered_df.get(k).transpose()})"
      ],
      "metadata": {
        "id": "u2mud-8iID1w",
        "colab": {
          "base_uri": "https://localhost:8080/"
        },
        "outputId": "1402b0ac-b19e-4418-f4c8-63779bda1ddd"
      },
      "execution_count": 20,
      "outputs": [
        {
          "output_type": "stream",
          "name": "stderr",
          "text": [
            "/usr/local/lib/python3.7/dist-packages/pandas/core/frame.py:4913: SettingWithCopyWarning: \n",
            "A value is trying to be set on a copy of a slice from a DataFrame\n",
            "\n",
            "See the caveats in the documentation: https://pandas.pydata.org/pandas-docs/stable/user_guide/indexing.html#returning-a-view-versus-a-copy\n",
            "  errors=errors,\n"
          ]
        }
      ]
    },
    {
      "cell_type": "code",
      "source": [
        "dict_of_filtered_df.get('ARB').head(2)"
      ],
      "metadata": {
        "colab": {
          "base_uri": "https://localhost:8080/",
          "height": 222
        },
        "id": "xNm7nuRZP1lA",
        "outputId": "5d2b5749-9452-4d29-893a-8288eb75e07b"
      },
      "execution_count": 21,
      "outputs": [
        {
          "output_type": "execute_result",
          "data": {
            "text/html": [
              "\n",
              "  <div id=\"df-75e62a2e-1112-4185-a5fb-5e7800de1c6b\">\n",
              "    <div class=\"colab-df-container\">\n",
              "      <div>\n",
              "<style scoped>\n",
              "    .dataframe tbody tr th:only-of-type {\n",
              "        vertical-align: middle;\n",
              "    }\n",
              "\n",
              "    .dataframe tbody tr th {\n",
              "        vertical-align: top;\n",
              "    }\n",
              "\n",
              "    .dataframe thead th {\n",
              "        text-align: right;\n",
              "    }\n",
              "</style>\n",
              "<table border=\"1\" class=\"dataframe\">\n",
              "  <thead>\n",
              "    <tr style=\"text-align: right;\">\n",
              "      <th>Indicator Code</th>\n",
              "      <th>UIS.NERA.2</th>\n",
              "      <th>UIS.NERA.2.F</th>\n",
              "      <th>UIS.NERA.2.GPI</th>\n",
              "      <th>UIS.NERA.2.M</th>\n",
              "      <th>SE.PRM.TENR</th>\n",
              "      <th>SE.PRM.TENR.FE</th>\n",
              "      <th>UIS.NERA.1.GPI</th>\n",
              "      <th>SE.PRM.TENR.MA</th>\n",
              "      <th>UIS.NERA.3</th>\n",
              "      <th>UIS.NERA.3.F</th>\n",
              "      <th>UIS.NERA.3.GPI</th>\n",
              "      <th>UIS.NERA.3.M</th>\n",
              "      <th>UIS.NIRA.1</th>\n",
              "      <th>UIS.NIRA.1.F</th>\n",
              "      <th>UIS.NIRA.1.GPI</th>\n",
              "      <th>UIS.NIRA.1.M</th>\n",
              "      <th>UIS.LPP.AG15T99</th>\n",
              "      <th>UIS.LP.AG15T99</th>\n",
              "      <th>UIS.LP.AG15T99.F</th>\n",
              "      <th>UIS.LP.AG15T99.M</th>\n",
              "      <th>SE.ADT.LITR.ZS</th>\n",
              "      <th>SE.ADT.LITR.FE.ZS</th>\n",
              "      <th>UIS.LR.AG15T99.GPI</th>\n",
              "      <th>SE.ADT.LITR.MA.ZS</th>\n",
              "      <th>UIS.AFR.AGRADMG.1.PU</th>\n",
              "      <th>UIS.AFR.PBR.1.G1.PU.MATH</th>\n",
              "      <th>UIS.AFR.PBR.1.G2.PU.MATH</th>\n",
              "      <th>UIS.AFR.PBR.1.G3.PU.MATH</th>\n",
              "      <th>UIS.AFR.PBR.1.G4.PU.MATH</th>\n",
              "      <th>UIS.AFR.PBR.1.G5.PU.MATH</th>\n",
              "      <th>UIS.AFR.PBR.1.G6.PU.MATH</th>\n",
              "      <th>UIS.AFR.PBR.1.G7.PU.MATH</th>\n",
              "      <th>UIS.AFR.PBR.1.PU.MATH</th>\n",
              "      <th>UIS.AFR.PBR.1.G1.PU.READ</th>\n",
              "      <th>UIS.AFR.PBR.1.G2.PU.READ</th>\n",
              "      <th>UIS.AFR.PBR.1.G3.PU.READ</th>\n",
              "      <th>UIS.AFR.PBR.1.G4.PU.READ</th>\n",
              "      <th>UIS.AFR.PBR.1.G5.PU.READ</th>\n",
              "      <th>UIS.AFR.PBR.1.G6.PU.READ</th>\n",
              "      <th>UIS.AFR.PBR.1.G7.PU.READ</th>\n",
              "      <th>...</th>\n",
              "      <th>PRJ.POP.2529.2.MA</th>\n",
              "      <th>PRJ.POP.2529.2.MF</th>\n",
              "      <th>PRJ.POP.2529.NED.FE</th>\n",
              "      <th>PRJ.POP.2529.NED.MA</th>\n",
              "      <th>PRJ.POP.2529.NED.MF</th>\n",
              "      <th>PRJ.POP.2529.4.FE</th>\n",
              "      <th>PRJ.POP.2529.4.MA</th>\n",
              "      <th>PRJ.POP.2529.4.MF</th>\n",
              "      <th>PRJ.POP.2529.1.FE</th>\n",
              "      <th>PRJ.POP.2529.1.MA</th>\n",
              "      <th>PRJ.POP.2529.1.MF</th>\n",
              "      <th>PRJ.POP.2529.3.FE</th>\n",
              "      <th>PRJ.POP.2529.3.MA</th>\n",
              "      <th>PRJ.POP.2529.3.MF</th>\n",
              "      <th>PRJ.POP.ALL.S1.FE</th>\n",
              "      <th>PRJ.POP.ALL.S1.MA</th>\n",
              "      <th>PRJ.POP.ALL.S1.MF</th>\n",
              "      <th>PRJ.POP.ALL.2.FE</th>\n",
              "      <th>PRJ.POP.ALL.2.MA</th>\n",
              "      <th>PRJ.POP.ALL.2.MF</th>\n",
              "      <th>PRJ.POP.ALL.NED.FE</th>\n",
              "      <th>PRJ.POP.ALL.NED.MA</th>\n",
              "      <th>PRJ.POP.ALL.NED.MF</th>\n",
              "      <th>PRJ.POP.ALL.4.FE</th>\n",
              "      <th>PRJ.POP.ALL.4.MA</th>\n",
              "      <th>PRJ.POP.ALL.4.MF</th>\n",
              "      <th>PRJ.POP.ALL.1.FE</th>\n",
              "      <th>PRJ.POP.ALL.1.MA</th>\n",
              "      <th>PRJ.POP.ALL.1.MF</th>\n",
              "      <th>PRJ.POP.ALL.3.FE</th>\n",
              "      <th>PRJ.POP.ALL.3.MA</th>\n",
              "      <th>PRJ.POP.ALL.3.MF</th>\n",
              "      <th>UIS.LPP.AG15T24</th>\n",
              "      <th>UIS.LP.AG15T24</th>\n",
              "      <th>UIS.LP.AG15T24.F</th>\n",
              "      <th>UIS.LP.AG15T24.M</th>\n",
              "      <th>SE.ADT.1524.LT.ZS</th>\n",
              "      <th>SE.ADT.1524.LT.FE.ZS</th>\n",
              "      <th>SE.ADT.1524.LT.FM.ZS</th>\n",
              "      <th>SE.ADT.1524.LT.MA.ZS</th>\n",
              "    </tr>\n",
              "  </thead>\n",
              "  <tbody>\n",
              "    <tr>\n",
              "      <th>1970</th>\n",
              "      <td>NaN</td>\n",
              "      <td>NaN</td>\n",
              "      <td>NaN</td>\n",
              "      <td>NaN</td>\n",
              "      <td>54.822121</td>\n",
              "      <td>43.351101</td>\n",
              "      <td>0.65857</td>\n",
              "      <td>65.826233</td>\n",
              "      <td>NaN</td>\n",
              "      <td>NaN</td>\n",
              "      <td>NaN</td>\n",
              "      <td>NaN</td>\n",
              "      <td>52.448921</td>\n",
              "      <td>44.342487</td>\n",
              "      <td>0.73634</td>\n",
              "      <td>60.220436</td>\n",
              "      <td>NaN</td>\n",
              "      <td>NaN</td>\n",
              "      <td>NaN</td>\n",
              "      <td>NaN</td>\n",
              "      <td>NaN</td>\n",
              "      <td>NaN</td>\n",
              "      <td>NaN</td>\n",
              "      <td>NaN</td>\n",
              "      <td>NaN</td>\n",
              "      <td>NaN</td>\n",
              "      <td>NaN</td>\n",
              "      <td>NaN</td>\n",
              "      <td>NaN</td>\n",
              "      <td>NaN</td>\n",
              "      <td>NaN</td>\n",
              "      <td>NaN</td>\n",
              "      <td>NaN</td>\n",
              "      <td>NaN</td>\n",
              "      <td>NaN</td>\n",
              "      <td>NaN</td>\n",
              "      <td>NaN</td>\n",
              "      <td>NaN</td>\n",
              "      <td>NaN</td>\n",
              "      <td>NaN</td>\n",
              "      <td>...</td>\n",
              "      <td>NaN</td>\n",
              "      <td>NaN</td>\n",
              "      <td>NaN</td>\n",
              "      <td>NaN</td>\n",
              "      <td>NaN</td>\n",
              "      <td>NaN</td>\n",
              "      <td>NaN</td>\n",
              "      <td>NaN</td>\n",
              "      <td>NaN</td>\n",
              "      <td>NaN</td>\n",
              "      <td>NaN</td>\n",
              "      <td>NaN</td>\n",
              "      <td>NaN</td>\n",
              "      <td>NaN</td>\n",
              "      <td>NaN</td>\n",
              "      <td>NaN</td>\n",
              "      <td>NaN</td>\n",
              "      <td>NaN</td>\n",
              "      <td>NaN</td>\n",
              "      <td>NaN</td>\n",
              "      <td>NaN</td>\n",
              "      <td>NaN</td>\n",
              "      <td>NaN</td>\n",
              "      <td>NaN</td>\n",
              "      <td>NaN</td>\n",
              "      <td>NaN</td>\n",
              "      <td>NaN</td>\n",
              "      <td>NaN</td>\n",
              "      <td>NaN</td>\n",
              "      <td>NaN</td>\n",
              "      <td>NaN</td>\n",
              "      <td>NaN</td>\n",
              "      <td>NaN</td>\n",
              "      <td>NaN</td>\n",
              "      <td>NaN</td>\n",
              "      <td>NaN</td>\n",
              "      <td>NaN</td>\n",
              "      <td>NaN</td>\n",
              "      <td>NaN</td>\n",
              "      <td>NaN</td>\n",
              "    </tr>\n",
              "    <tr>\n",
              "      <th>1971</th>\n",
              "      <td>NaN</td>\n",
              "      <td>NaN</td>\n",
              "      <td>NaN</td>\n",
              "      <td>NaN</td>\n",
              "      <td>54.894138</td>\n",
              "      <td>43.318150</td>\n",
              "      <td>0.65640</td>\n",
              "      <td>65.993584</td>\n",
              "      <td>NaN</td>\n",
              "      <td>NaN</td>\n",
              "      <td>NaN</td>\n",
              "      <td>NaN</td>\n",
              "      <td>52.489750</td>\n",
              "      <td>44.255711</td>\n",
              "      <td>0.73288</td>\n",
              "      <td>60.386391</td>\n",
              "      <td>NaN</td>\n",
              "      <td>NaN</td>\n",
              "      <td>NaN</td>\n",
              "      <td>NaN</td>\n",
              "      <td>NaN</td>\n",
              "      <td>NaN</td>\n",
              "      <td>NaN</td>\n",
              "      <td>NaN</td>\n",
              "      <td>NaN</td>\n",
              "      <td>NaN</td>\n",
              "      <td>NaN</td>\n",
              "      <td>NaN</td>\n",
              "      <td>NaN</td>\n",
              "      <td>NaN</td>\n",
              "      <td>NaN</td>\n",
              "      <td>NaN</td>\n",
              "      <td>NaN</td>\n",
              "      <td>NaN</td>\n",
              "      <td>NaN</td>\n",
              "      <td>NaN</td>\n",
              "      <td>NaN</td>\n",
              "      <td>NaN</td>\n",
              "      <td>NaN</td>\n",
              "      <td>NaN</td>\n",
              "      <td>...</td>\n",
              "      <td>NaN</td>\n",
              "      <td>NaN</td>\n",
              "      <td>NaN</td>\n",
              "      <td>NaN</td>\n",
              "      <td>NaN</td>\n",
              "      <td>NaN</td>\n",
              "      <td>NaN</td>\n",
              "      <td>NaN</td>\n",
              "      <td>NaN</td>\n",
              "      <td>NaN</td>\n",
              "      <td>NaN</td>\n",
              "      <td>NaN</td>\n",
              "      <td>NaN</td>\n",
              "      <td>NaN</td>\n",
              "      <td>NaN</td>\n",
              "      <td>NaN</td>\n",
              "      <td>NaN</td>\n",
              "      <td>NaN</td>\n",
              "      <td>NaN</td>\n",
              "      <td>NaN</td>\n",
              "      <td>NaN</td>\n",
              "      <td>NaN</td>\n",
              "      <td>NaN</td>\n",
              "      <td>NaN</td>\n",
              "      <td>NaN</td>\n",
              "      <td>NaN</td>\n",
              "      <td>NaN</td>\n",
              "      <td>NaN</td>\n",
              "      <td>NaN</td>\n",
              "      <td>NaN</td>\n",
              "      <td>NaN</td>\n",
              "      <td>NaN</td>\n",
              "      <td>NaN</td>\n",
              "      <td>NaN</td>\n",
              "      <td>NaN</td>\n",
              "      <td>NaN</td>\n",
              "      <td>NaN</td>\n",
              "      <td>NaN</td>\n",
              "      <td>NaN</td>\n",
              "      <td>NaN</td>\n",
              "    </tr>\n",
              "  </tbody>\n",
              "</table>\n",
              "<p>2 rows × 3665 columns</p>\n",
              "</div>\n",
              "      <button class=\"colab-df-convert\" onclick=\"convertToInteractive('df-75e62a2e-1112-4185-a5fb-5e7800de1c6b')\"\n",
              "              title=\"Convert this dataframe to an interactive table.\"\n",
              "              style=\"display:none;\">\n",
              "        \n",
              "  <svg xmlns=\"http://www.w3.org/2000/svg\" height=\"24px\"viewBox=\"0 0 24 24\"\n",
              "       width=\"24px\">\n",
              "    <path d=\"M0 0h24v24H0V0z\" fill=\"none\"/>\n",
              "    <path d=\"M18.56 5.44l.94 2.06.94-2.06 2.06-.94-2.06-.94-.94-2.06-.94 2.06-2.06.94zm-11 1L8.5 8.5l.94-2.06 2.06-.94-2.06-.94L8.5 2.5l-.94 2.06-2.06.94zm10 10l.94 2.06.94-2.06 2.06-.94-2.06-.94-.94-2.06-.94 2.06-2.06.94z\"/><path d=\"M17.41 7.96l-1.37-1.37c-.4-.4-.92-.59-1.43-.59-.52 0-1.04.2-1.43.59L10.3 9.45l-7.72 7.72c-.78.78-.78 2.05 0 2.83L4 21.41c.39.39.9.59 1.41.59.51 0 1.02-.2 1.41-.59l7.78-7.78 2.81-2.81c.8-.78.8-2.07 0-2.86zM5.41 20L4 18.59l7.72-7.72 1.47 1.35L5.41 20z\"/>\n",
              "  </svg>\n",
              "      </button>\n",
              "      \n",
              "  <style>\n",
              "    .colab-df-container {\n",
              "      display:flex;\n",
              "      flex-wrap:wrap;\n",
              "      gap: 12px;\n",
              "    }\n",
              "\n",
              "    .colab-df-convert {\n",
              "      background-color: #E8F0FE;\n",
              "      border: none;\n",
              "      border-radius: 50%;\n",
              "      cursor: pointer;\n",
              "      display: none;\n",
              "      fill: #1967D2;\n",
              "      height: 32px;\n",
              "      padding: 0 0 0 0;\n",
              "      width: 32px;\n",
              "    }\n",
              "\n",
              "    .colab-df-convert:hover {\n",
              "      background-color: #E2EBFA;\n",
              "      box-shadow: 0px 1px 2px rgba(60, 64, 67, 0.3), 0px 1px 3px 1px rgba(60, 64, 67, 0.15);\n",
              "      fill: #174EA6;\n",
              "    }\n",
              "\n",
              "    [theme=dark] .colab-df-convert {\n",
              "      background-color: #3B4455;\n",
              "      fill: #D2E3FC;\n",
              "    }\n",
              "\n",
              "    [theme=dark] .colab-df-convert:hover {\n",
              "      background-color: #434B5C;\n",
              "      box-shadow: 0px 1px 3px 1px rgba(0, 0, 0, 0.15);\n",
              "      filter: drop-shadow(0px 1px 2px rgba(0, 0, 0, 0.3));\n",
              "      fill: #FFFFFF;\n",
              "    }\n",
              "  </style>\n",
              "\n",
              "      <script>\n",
              "        const buttonEl =\n",
              "          document.querySelector('#df-75e62a2e-1112-4185-a5fb-5e7800de1c6b button.colab-df-convert');\n",
              "        buttonEl.style.display =\n",
              "          google.colab.kernel.accessAllowed ? 'block' : 'none';\n",
              "\n",
              "        async function convertToInteractive(key) {\n",
              "          const element = document.querySelector('#df-75e62a2e-1112-4185-a5fb-5e7800de1c6b');\n",
              "          const dataTable =\n",
              "            await google.colab.kernel.invokeFunction('convertToInteractive',\n",
              "                                                     [key], {});\n",
              "          if (!dataTable) return;\n",
              "\n",
              "          const docLinkHtml = 'Like what you see? Visit the ' +\n",
              "            '<a target=\"_blank\" href=https://colab.research.google.com/notebooks/data_table.ipynb>data table notebook</a>'\n",
              "            + ' to learn more about interactive tables.';\n",
              "          element.innerHTML = '';\n",
              "          dataTable['output_type'] = 'display_data';\n",
              "          await google.colab.output.renderOutput(dataTable, element);\n",
              "          const docLink = document.createElement('div');\n",
              "          docLink.innerHTML = docLinkHtml;\n",
              "          element.appendChild(docLink);\n",
              "        }\n",
              "      </script>\n",
              "    </div>\n",
              "  </div>\n",
              "  "
            ],
            "text/plain": [
              "Indicator Code  UIS.NERA.2  ...  SE.ADT.1524.LT.MA.ZS\n",
              "1970                   NaN  ...                   NaN\n",
              "1971                   NaN  ...                   NaN\n",
              "\n",
              "[2 rows x 3665 columns]"
            ]
          },
          "metadata": {},
          "execution_count": 21
        }
      ]
    },
    {
      "cell_type": "code",
      "source": [
        "# Checking null values in each of the indicator column for a sample filtered dataframe for a country \n",
        "dict_of_filtered_df.get('EMU').isnull().sum()"
      ],
      "metadata": {
        "colab": {
          "base_uri": "https://localhost:8080/"
        },
        "id": "xB8m0_XB82jZ",
        "outputId": "93e99432-1c7c-4675-8293-b31237c65e13"
      },
      "execution_count": 22,
      "outputs": [
        {
          "output_type": "execute_result",
          "data": {
            "text/plain": [
              "Indicator Code\n",
              "UIS.NERA.2              47\n",
              "UIS.NERA.2.F            47\n",
              "UIS.NERA.2.GPI          47\n",
              "UIS.NERA.2.M            47\n",
              "SE.PRM.TENR              2\n",
              "                        ..\n",
              "UIS.LP.AG15T24.M        47\n",
              "SE.ADT.1524.LT.ZS       47\n",
              "SE.ADT.1524.LT.FE.ZS    47\n",
              "SE.ADT.1524.LT.FM.ZS    47\n",
              "SE.ADT.1524.LT.MA.ZS    47\n",
              "Length: 3665, dtype: int64"
            ]
          },
          "metadata": {},
          "execution_count": 22
        }
      ]
    },
    {
      "cell_type": "code",
      "source": [
        "# There are many null values in many of the indicators.\n",
        "# We will drop the indicators with greater than 50% null values\n",
        "for k in list(dict_of_filtered_df.keys()):\n",
        "  new_df=dict_of_filtered_df.get(k)\n",
        "  for column_name in new_df.columns:\n",
        "    if new_df[column_name].isnull().sum()>=23:\n",
        "      new_df.drop([column_name],axis=1,inplace=True)\n",
        "  dict_of_filtered_df.update({k:new_df})"
      ],
      "metadata": {
        "id": "ZiI4uoJBBnn-"
      },
      "execution_count": 23,
      "outputs": []
    },
    {
      "cell_type": "code",
      "source": [
        "dict_of_filtered_df.get('EMU').isnull().sum()"
      ],
      "metadata": {
        "colab": {
          "base_uri": "https://localhost:8080/"
        },
        "id": "A8jXE8b61xcn",
        "outputId": "18842ca9-bf5f-4bfc-aecd-69d6816d18e2"
      },
      "execution_count": 24,
      "outputs": [
        {
          "output_type": "execute_result",
          "data": {
            "text/plain": [
              "Indicator Code\n",
              "SE.PRM.TENR           2\n",
              "SE.PRM.TENR.FE        2\n",
              "UIS.NERA.1.GPI        2\n",
              "SE.PRM.TENR.MA        2\n",
              "UIS.NIRA.1            2\n",
              "                     ..\n",
              "UIS.NERT.2            7\n",
              "UIS.NERT.1.GPI        3\n",
              "SL.UEM.TOTL.FE.ZS    21\n",
              "SL.UEM.TOTL.MA.ZS    21\n",
              "SL.UEM.TOTL.ZS       21\n",
              "Length: 212, dtype: int64"
            ]
          },
          "metadata": {},
          "execution_count": 24
        }
      ]
    },
    {
      "cell_type": "code",
      "source": [
        "dict_of_filtered_df.get('EMU').describe()"
      ],
      "metadata": {
        "colab": {
          "base_uri": "https://localhost:8080/",
          "height": 411
        },
        "id": "Iko2g3VLIKNY",
        "outputId": "76350a17-ef63-47a3-adcd-58bfb2fe729f"
      },
      "execution_count": 25,
      "outputs": [
        {
          "output_type": "execute_result",
          "data": {
            "text/html": [
              "\n",
              "  <div id=\"df-dee4adc3-f648-4a79-8288-d5c589c94319\">\n",
              "    <div class=\"colab-df-container\">\n",
              "      <div>\n",
              "<style scoped>\n",
              "    .dataframe tbody tr th:only-of-type {\n",
              "        vertical-align: middle;\n",
              "    }\n",
              "\n",
              "    .dataframe tbody tr th {\n",
              "        vertical-align: top;\n",
              "    }\n",
              "\n",
              "    .dataframe thead th {\n",
              "        text-align: right;\n",
              "    }\n",
              "</style>\n",
              "<table border=\"1\" class=\"dataframe\">\n",
              "  <thead>\n",
              "    <tr style=\"text-align: right;\">\n",
              "      <th>Indicator Code</th>\n",
              "      <th>SE.PRM.TENR</th>\n",
              "      <th>SE.PRM.TENR.FE</th>\n",
              "      <th>UIS.NERA.1.GPI</th>\n",
              "      <th>SE.PRM.TENR.MA</th>\n",
              "      <th>UIS.NIRA.1</th>\n",
              "      <th>UIS.NIRA.1.F</th>\n",
              "      <th>UIS.NIRA.1.GPI</th>\n",
              "      <th>UIS.NIRA.1.M</th>\n",
              "      <th>SE.PRM.DROP.ZS</th>\n",
              "      <th>SE.PRM.DROP.FE.ZS</th>\n",
              "      <th>SE.PRM.DROP.MA.ZS</th>\n",
              "      <th>UIS.ESL.1.T</th>\n",
              "      <th>UIS.ESL.1.F</th>\n",
              "      <th>UIS.ESL.1.M</th>\n",
              "      <th>SE.SEC.PROG.ZS</th>\n",
              "      <th>SE.SEC.PROG.FE.ZS</th>\n",
              "      <th>UIS.TRANRA.23.GPV.GPI</th>\n",
              "      <th>SE.SEC.PROG.MA.ZS</th>\n",
              "      <th>UIS.E.0.PR.T</th>\n",
              "      <th>UIS.E.1.G1</th>\n",
              "      <th>UIS.E.1.G1.F</th>\n",
              "      <th>UIS.E.1.G2</th>\n",
              "      <th>UIS.E.1.G2.F</th>\n",
              "      <th>UIS.E.1.G3</th>\n",
              "      <th>UIS.E.1.G3.F</th>\n",
              "      <th>UIS.E.1.G4</th>\n",
              "      <th>UIS.E.1.G4.F</th>\n",
              "      <th>UIS.E.1.G5</th>\n",
              "      <th>UIS.E.1.G5.F</th>\n",
              "      <th>UIS.E.1.G6</th>\n",
              "      <th>UIS.E.1.G6.F</th>\n",
              "      <th>SE.PRE.ENRL</th>\n",
              "      <th>SE.PRE.ENRL.FE</th>\n",
              "      <th>SE.PRM.ENRL</th>\n",
              "      <th>SE.PRM.ENRL.FE</th>\n",
              "      <th>UIS.E.1.PR</th>\n",
              "      <th>SE.SEC.ENRL</th>\n",
              "      <th>SE.SEC.ENRL.FE</th>\n",
              "      <th>SE.SEC.ENRL.GC</th>\n",
              "      <th>SE.SEC.ENRL.GC.FE</th>\n",
              "      <th>...</th>\n",
              "      <th>UIS.ROFST.1</th>\n",
              "      <th>UIS.ROFST.1.F</th>\n",
              "      <th>UIS.ROFST.1.M</th>\n",
              "      <th>UIS.R.1</th>\n",
              "      <th>UIS.R.1.F</th>\n",
              "      <th>UIS.SLE.0</th>\n",
              "      <th>UIS.SLE.0.F</th>\n",
              "      <th>UIS.SLE.0.GPI</th>\n",
              "      <th>UIS.SLE.0.M</th>\n",
              "      <th>UIS.SLE.123</th>\n",
              "      <th>UIS.SLE.123.F</th>\n",
              "      <th>UIS.SLE.123.GPI</th>\n",
              "      <th>UIS.SLE.123.M</th>\n",
              "      <th>SE.SCH.LIFE</th>\n",
              "      <th>SE.SCH.LIFE.FE</th>\n",
              "      <th>UIS.SLE.1T6.GPI</th>\n",
              "      <th>SE.SCH.LIFE.MA</th>\n",
              "      <th>UIS.SLE.1</th>\n",
              "      <th>UIS.SLE.1.F</th>\n",
              "      <th>UIS.SLE.1.M</th>\n",
              "      <th>UIS.SLE.56</th>\n",
              "      <th>UIS.SLE.56.F</th>\n",
              "      <th>UIS.SLE.56.GPI</th>\n",
              "      <th>UIS.SLE.56.M</th>\n",
              "      <th>SE.PRM.PRSL.ZS</th>\n",
              "      <th>SE.PRM.PRSL.FE.ZS</th>\n",
              "      <th>UIS.SR.1.GLAST.GPI</th>\n",
              "      <th>SE.PRM.PRSL.MA.ZS</th>\n",
              "      <th>SE.PRE.TCHR</th>\n",
              "      <th>SE.PRE.TCHR.FE</th>\n",
              "      <th>SE.PRM.TCHR</th>\n",
              "      <th>SE.PRM.TCHR.FE</th>\n",
              "      <th>SE.SEC.TCHR</th>\n",
              "      <th>SE.SEC.TCHR.FE</th>\n",
              "      <th>SE.TER.TCHR</th>\n",
              "      <th>UIS.NERT.2</th>\n",
              "      <th>UIS.NERT.1.GPI</th>\n",
              "      <th>SL.UEM.TOTL.FE.ZS</th>\n",
              "      <th>SL.UEM.TOTL.MA.ZS</th>\n",
              "      <th>SL.UEM.TOTL.ZS</th>\n",
              "    </tr>\n",
              "  </thead>\n",
              "  <tbody>\n",
              "    <tr>\n",
              "      <th>count</th>\n",
              "      <td>45.000000</td>\n",
              "      <td>45.000000</td>\n",
              "      <td>45.000000</td>\n",
              "      <td>45.000000</td>\n",
              "      <td>45.000000</td>\n",
              "      <td>45.000000</td>\n",
              "      <td>45.000000</td>\n",
              "      <td>45.000000</td>\n",
              "      <td>44.000000</td>\n",
              "      <td>44.000000</td>\n",
              "      <td>44.000000</td>\n",
              "      <td>4.500000e+01</td>\n",
              "      <td>4.500000e+01</td>\n",
              "      <td>4.500000e+01</td>\n",
              "      <td>39.000000</td>\n",
              "      <td>35.000000</td>\n",
              "      <td>35.000000</td>\n",
              "      <td>37.000000</td>\n",
              "      <td>4.500000e+01</td>\n",
              "      <td>4.500000e+01</td>\n",
              "      <td>4.500000e+01</td>\n",
              "      <td>4.500000e+01</td>\n",
              "      <td>4.500000e+01</td>\n",
              "      <td>4.500000e+01</td>\n",
              "      <td>4.500000e+01</td>\n",
              "      <td>4.500000e+01</td>\n",
              "      <td>4.500000e+01</td>\n",
              "      <td>4.500000e+01</td>\n",
              "      <td>4.500000e+01</td>\n",
              "      <td>4.500000e+01</td>\n",
              "      <td>45.000000</td>\n",
              "      <td>4.500000e+01</td>\n",
              "      <td>4.500000e+01</td>\n",
              "      <td>4.500000e+01</td>\n",
              "      <td>4.500000e+01</td>\n",
              "      <td>4.500000e+01</td>\n",
              "      <td>4.500000e+01</td>\n",
              "      <td>4.500000e+01</td>\n",
              "      <td>4.500000e+01</td>\n",
              "      <td>4.500000e+01</td>\n",
              "      <td>...</td>\n",
              "      <td>45.000000</td>\n",
              "      <td>45.000000</td>\n",
              "      <td>45.000000</td>\n",
              "      <td>4.500000e+01</td>\n",
              "      <td>45.000000</td>\n",
              "      <td>45.000000</td>\n",
              "      <td>45.000000</td>\n",
              "      <td>45.00000</td>\n",
              "      <td>45.000000</td>\n",
              "      <td>45.000000</td>\n",
              "      <td>45.000000</td>\n",
              "      <td>45.000000</td>\n",
              "      <td>45.000000</td>\n",
              "      <td>45.000000</td>\n",
              "      <td>45.000000</td>\n",
              "      <td>45.000000</td>\n",
              "      <td>45.000000</td>\n",
              "      <td>45.000000</td>\n",
              "      <td>45.000000</td>\n",
              "      <td>45.000000</td>\n",
              "      <td>45.000000</td>\n",
              "      <td>45.000000</td>\n",
              "      <td>45.000000</td>\n",
              "      <td>45.000000</td>\n",
              "      <td>44.000000</td>\n",
              "      <td>44.000000</td>\n",
              "      <td>44.000000</td>\n",
              "      <td>44.000000</td>\n",
              "      <td>45.000000</td>\n",
              "      <td>43.000000</td>\n",
              "      <td>4.500000e+01</td>\n",
              "      <td>4.500000e+01</td>\n",
              "      <td>4.500000e+01</td>\n",
              "      <td>3.900000e+01</td>\n",
              "      <td>3.300000e+01</td>\n",
              "      <td>40.000000</td>\n",
              "      <td>44.000000</td>\n",
              "      <td>26.000000</td>\n",
              "      <td>26.000000</td>\n",
              "      <td>26.000000</td>\n",
              "    </tr>\n",
              "    <tr>\n",
              "      <th>mean</th>\n",
              "      <td>97.490471</td>\n",
              "      <td>97.638287</td>\n",
              "      <td>1.003013</td>\n",
              "      <td>97.349690</td>\n",
              "      <td>95.254947</td>\n",
              "      <td>95.931057</td>\n",
              "      <td>1.013646</td>\n",
              "      <td>94.642199</td>\n",
              "      <td>6.489102</td>\n",
              "      <td>5.566617</td>\n",
              "      <td>7.359618</td>\n",
              "      <td>3.781674e+05</td>\n",
              "      <td>1.670289e+05</td>\n",
              "      <td>2.111385e+05</td>\n",
              "      <td>96.953036</td>\n",
              "      <td>97.466403</td>\n",
              "      <td>1.004777</td>\n",
              "      <td>96.815647</td>\n",
              "      <td>3.559950e+06</td>\n",
              "      <td>4.119652e+06</td>\n",
              "      <td>1.992988e+06</td>\n",
              "      <td>4.155508e+06</td>\n",
              "      <td>2.015115e+06</td>\n",
              "      <td>4.105460e+06</td>\n",
              "      <td>1.997461e+06</td>\n",
              "      <td>4.137413e+06</td>\n",
              "      <td>2.014592e+06</td>\n",
              "      <td>2.895374e+06</td>\n",
              "      <td>1.410342e+06</td>\n",
              "      <td>9.714129e+05</td>\n",
              "      <td>472283.644444</td>\n",
              "      <td>9.763489e+06</td>\n",
              "      <td>4.752227e+06</td>\n",
              "      <td>2.059161e+07</td>\n",
              "      <td>1.001202e+07</td>\n",
              "      <td>3.278660e+06</td>\n",
              "      <td>2.981286e+07</td>\n",
              "      <td>1.451714e+07</td>\n",
              "      <td>2.155168e+07</td>\n",
              "      <td>1.084630e+07</td>\n",
              "      <td>...</td>\n",
              "      <td>2.509530</td>\n",
              "      <td>2.361713</td>\n",
              "      <td>2.650310</td>\n",
              "      <td>8.810099e+05</td>\n",
              "      <td>480850.738889</td>\n",
              "      <td>2.611240</td>\n",
              "      <td>2.609081</td>\n",
              "      <td>0.99928</td>\n",
              "      <td>2.613277</td>\n",
              "      <td>12.337096</td>\n",
              "      <td>12.307861</td>\n",
              "      <td>0.995228</td>\n",
              "      <td>12.365751</td>\n",
              "      <td>14.510242</td>\n",
              "      <td>14.533987</td>\n",
              "      <td>0.999990</td>\n",
              "      <td>14.501390</td>\n",
              "      <td>5.201701</td>\n",
              "      <td>5.187327</td>\n",
              "      <td>5.215383</td>\n",
              "      <td>2.026176</td>\n",
              "      <td>2.059921</td>\n",
              "      <td>0.981385</td>\n",
              "      <td>1.995833</td>\n",
              "      <td>93.510899</td>\n",
              "      <td>94.433384</td>\n",
              "      <td>1.019384</td>\n",
              "      <td>92.640382</td>\n",
              "      <td>572453.988889</td>\n",
              "      <td>540887.705669</td>\n",
              "      <td>1.234976e+06</td>\n",
              "      <td>9.712187e+05</td>\n",
              "      <td>2.337294e+06</td>\n",
              "      <td>1.358053e+06</td>\n",
              "      <td>8.037396e+05</td>\n",
              "      <td>96.666636</td>\n",
              "      <td>1.004189</td>\n",
              "      <td>11.305444</td>\n",
              "      <td>9.039103</td>\n",
              "      <td>9.996547</td>\n",
              "    </tr>\n",
              "    <tr>\n",
              "      <th>std</th>\n",
              "      <td>1.370463</td>\n",
              "      <td>1.227734</td>\n",
              "      <td>0.003837</td>\n",
              "      <td>1.515740</td>\n",
              "      <td>1.571296</td>\n",
              "      <td>1.516508</td>\n",
              "      <td>0.002975</td>\n",
              "      <td>1.624169</td>\n",
              "      <td>2.528950</td>\n",
              "      <td>2.504405</td>\n",
              "      <td>2.555960</td>\n",
              "      <td>7.641677e+05</td>\n",
              "      <td>3.760701e+05</td>\n",
              "      <td>3.881327e+05</td>\n",
              "      <td>1.377587</td>\n",
              "      <td>1.127226</td>\n",
              "      <td>0.005006</td>\n",
              "      <td>1.349430</td>\n",
              "      <td>3.955621e+05</td>\n",
              "      <td>7.505579e+05</td>\n",
              "      <td>3.604522e+05</td>\n",
              "      <td>6.536223e+05</td>\n",
              "      <td>3.189669e+05</td>\n",
              "      <td>6.445480e+05</td>\n",
              "      <td>3.164340e+05</td>\n",
              "      <td>6.456117e+05</td>\n",
              "      <td>3.191127e+05</td>\n",
              "      <td>4.071905e+05</td>\n",
              "      <td>2.009214e+05</td>\n",
              "      <td>1.909592e+05</td>\n",
              "      <td>90119.539650</td>\n",
              "      <td>3.163661e+05</td>\n",
              "      <td>1.556872e+05</td>\n",
              "      <td>2.763136e+06</td>\n",
              "      <td>1.375644e+06</td>\n",
              "      <td>5.826283e+05</td>\n",
              "      <td>1.750051e+06</td>\n",
              "      <td>9.467656e+05</td>\n",
              "      <td>1.126012e+06</td>\n",
              "      <td>5.825318e+05</td>\n",
              "      <td>...</td>\n",
              "      <td>1.370464</td>\n",
              "      <td>1.227734</td>\n",
              "      <td>1.515741</td>\n",
              "      <td>4.857549e+05</td>\n",
              "      <td>167749.475401</td>\n",
              "      <td>0.335919</td>\n",
              "      <td>0.326923</td>\n",
              "      <td>0.00824</td>\n",
              "      <td>0.344574</td>\n",
              "      <td>0.764138</td>\n",
              "      <td>0.778051</td>\n",
              "      <td>0.011177</td>\n",
              "      <td>0.755913</td>\n",
              "      <td>1.563793</td>\n",
              "      <td>1.743580</td>\n",
              "      <td>0.026862</td>\n",
              "      <td>1.389212</td>\n",
              "      <td>0.118275</td>\n",
              "      <td>0.113709</td>\n",
              "      <td>0.124303</td>\n",
              "      <td>0.776349</td>\n",
              "      <td>0.951353</td>\n",
              "      <td>0.178695</td>\n",
              "      <td>0.610933</td>\n",
              "      <td>2.528950</td>\n",
              "      <td>2.504406</td>\n",
              "      <td>0.001864</td>\n",
              "      <td>2.555960</td>\n",
              "      <td>109081.863909</td>\n",
              "      <td>103382.672255</td>\n",
              "      <td>8.713032e+04</td>\n",
              "      <td>1.149118e+05</td>\n",
              "      <td>2.130677e+05</td>\n",
              "      <td>1.403821e+05</td>\n",
              "      <td>1.629784e+05</td>\n",
              "      <td>1.053924</td>\n",
              "      <td>0.003343</td>\n",
              "      <td>1.703029</td>\n",
              "      <td>1.508504</td>\n",
              "      <td>1.383525</td>\n",
              "    </tr>\n",
              "    <tr>\n",
              "      <th>min</th>\n",
              "      <td>95.223793</td>\n",
              "      <td>95.724380</td>\n",
              "      <td>0.996680</td>\n",
              "      <td>94.745872</td>\n",
              "      <td>92.124489</td>\n",
              "      <td>92.992638</td>\n",
              "      <td>1.007540</td>\n",
              "      <td>91.290504</td>\n",
              "      <td>2.854050</td>\n",
              "      <td>2.045860</td>\n",
              "      <td>3.613120</td>\n",
              "      <td>9.660700e+04</td>\n",
              "      <td>3.354000e+04</td>\n",
              "      <td>6.306600e+04</td>\n",
              "      <td>92.072380</td>\n",
              "      <td>94.264931</td>\n",
              "      <td>0.997530</td>\n",
              "      <td>91.807022</td>\n",
              "      <td>3.103795e+06</td>\n",
              "      <td>3.391356e+06</td>\n",
              "      <td>1.641020e+06</td>\n",
              "      <td>3.469910e+06</td>\n",
              "      <td>1.682918e+06</td>\n",
              "      <td>3.426019e+06</td>\n",
              "      <td>1.664646e+06</td>\n",
              "      <td>3.433954e+06</td>\n",
              "      <td>1.667905e+06</td>\n",
              "      <td>2.411875e+06</td>\n",
              "      <td>1.170772e+06</td>\n",
              "      <td>7.618069e+05</td>\n",
              "      <td>372373.062500</td>\n",
              "      <td>9.409648e+06</td>\n",
              "      <td>4.565798e+06</td>\n",
              "      <td>1.784233e+07</td>\n",
              "      <td>8.647406e+06</td>\n",
              "      <td>2.441439e+06</td>\n",
              "      <td>2.584098e+07</td>\n",
              "      <td>1.226978e+07</td>\n",
              "      <td>1.846002e+07</td>\n",
              "      <td>9.116403e+06</td>\n",
              "      <td>...</td>\n",
              "      <td>0.647730</td>\n",
              "      <td>0.567130</td>\n",
              "      <td>0.686230</td>\n",
              "      <td>4.055906e+05</td>\n",
              "      <td>320989.437500</td>\n",
              "      <td>2.007087</td>\n",
              "      <td>2.016896</td>\n",
              "      <td>0.98557</td>\n",
              "      <td>1.997745</td>\n",
              "      <td>11.079633</td>\n",
              "      <td>10.906115</td>\n",
              "      <td>0.969450</td>\n",
              "      <td>11.249758</td>\n",
              "      <td>12.217986</td>\n",
              "      <td>11.890994</td>\n",
              "      <td>0.946940</td>\n",
              "      <td>12.557339</td>\n",
              "      <td>4.970614</td>\n",
              "      <td>4.954889</td>\n",
              "      <td>4.977786</td>\n",
              "      <td>0.987832</td>\n",
              "      <td>0.820651</td>\n",
              "      <td>0.713810</td>\n",
              "      <td>1.148496</td>\n",
              "      <td>89.113632</td>\n",
              "      <td>89.921623</td>\n",
              "      <td>1.013730</td>\n",
              "      <td>88.340981</td>\n",
              "      <td>453575.843750</td>\n",
              "      <td>426710.031250</td>\n",
              "      <td>1.123820e+06</td>\n",
              "      <td>8.220339e+05</td>\n",
              "      <td>1.746149e+06</td>\n",
              "      <td>1.033322e+06</td>\n",
              "      <td>5.722874e+05</td>\n",
              "      <td>93.850952</td>\n",
              "      <td>0.998960</td>\n",
              "      <td>8.260847</td>\n",
              "      <td>6.631407</td>\n",
              "      <td>7.471680</td>\n",
              "    </tr>\n",
              "    <tr>\n",
              "      <th>25%</th>\n",
              "      <td>96.424889</td>\n",
              "      <td>96.683052</td>\n",
              "      <td>1.000390</td>\n",
              "      <td>96.275597</td>\n",
              "      <td>94.087616</td>\n",
              "      <td>94.811333</td>\n",
              "      <td>1.012240</td>\n",
              "      <td>93.445038</td>\n",
              "      <td>3.830235</td>\n",
              "      <td>2.937253</td>\n",
              "      <td>4.648698</td>\n",
              "      <td>1.302830e+05</td>\n",
              "      <td>4.943900e+04</td>\n",
              "      <td>8.218700e+04</td>\n",
              "      <td>96.198036</td>\n",
              "      <td>97.326191</td>\n",
              "      <td>1.002045</td>\n",
              "      <td>96.392593</td>\n",
              "      <td>3.315298e+06</td>\n",
              "      <td>3.482445e+06</td>\n",
              "      <td>1.686819e+06</td>\n",
              "      <td>3.556268e+06</td>\n",
              "      <td>1.724571e+06</td>\n",
              "      <td>3.509064e+06</td>\n",
              "      <td>1.706359e+06</td>\n",
              "      <td>3.548866e+06</td>\n",
              "      <td>1.723893e+06</td>\n",
              "      <td>2.495562e+06</td>\n",
              "      <td>1.213092e+06</td>\n",
              "      <td>7.989149e+05</td>\n",
              "      <td>391418.843750</td>\n",
              "      <td>9.538799e+06</td>\n",
              "      <td>4.625910e+06</td>\n",
              "      <td>1.818734e+07</td>\n",
              "      <td>8.818764e+06</td>\n",
              "      <td>2.738005e+06</td>\n",
              "      <td>2.832878e+07</td>\n",
              "      <td>1.379579e+07</td>\n",
              "      <td>2.089949e+07</td>\n",
              "      <td>1.057756e+07</td>\n",
              "      <td>...</td>\n",
              "      <td>0.953670</td>\n",
              "      <td>1.000160</td>\n",
              "      <td>1.030070</td>\n",
              "      <td>4.513856e+05</td>\n",
              "      <td>334944.156250</td>\n",
              "      <td>2.316531</td>\n",
              "      <td>2.328308</td>\n",
              "      <td>0.99208</td>\n",
              "      <td>2.305330</td>\n",
              "      <td>11.541306</td>\n",
              "      <td>11.581068</td>\n",
              "      <td>0.990320</td>\n",
              "      <td>11.558239</td>\n",
              "      <td>12.945013</td>\n",
              "      <td>12.849655</td>\n",
              "      <td>0.985860</td>\n",
              "      <td>13.115228</td>\n",
              "      <td>5.141836</td>\n",
              "      <td>5.126531</td>\n",
              "      <td>5.140621</td>\n",
              "      <td>1.320727</td>\n",
              "      <td>1.171349</td>\n",
              "      <td>0.799900</td>\n",
              "      <td>1.463550</td>\n",
              "      <td>91.267321</td>\n",
              "      <td>92.243858</td>\n",
              "      <td>1.018375</td>\n",
              "      <td>90.266626</td>\n",
              "      <td>477095.593750</td>\n",
              "      <td>455728.890625</td>\n",
              "      <td>1.168086e+06</td>\n",
              "      <td>8.752318e+05</td>\n",
              "      <td>2.351022e+06</td>\n",
              "      <td>1.256303e+06</td>\n",
              "      <td>6.472318e+05</td>\n",
              "      <td>96.102787</td>\n",
              "      <td>1.000803</td>\n",
              "      <td>10.148102</td>\n",
              "      <td>7.754366</td>\n",
              "      <td>9.035563</td>\n",
              "    </tr>\n",
              "    <tr>\n",
              "      <th>50%</th>\n",
              "      <td>97.030411</td>\n",
              "      <td>97.269142</td>\n",
              "      <td>1.003900</td>\n",
              "      <td>96.865959</td>\n",
              "      <td>95.769127</td>\n",
              "      <td>96.512627</td>\n",
              "      <td>1.013660</td>\n",
              "      <td>95.226387</td>\n",
              "      <td>6.670125</td>\n",
              "      <td>5.730305</td>\n",
              "      <td>7.571750</td>\n",
              "      <td>2.488490e+05</td>\n",
              "      <td>1.028800e+05</td>\n",
              "      <td>1.459690e+05</td>\n",
              "      <td>97.442368</td>\n",
              "      <td>97.931343</td>\n",
              "      <td>1.003280</td>\n",
              "      <td>97.311157</td>\n",
              "      <td>3.444695e+06</td>\n",
              "      <td>3.824432e+06</td>\n",
              "      <td>1.846774e+06</td>\n",
              "      <td>3.878108e+06</td>\n",
              "      <td>1.878538e+06</td>\n",
              "      <td>3.818496e+06</td>\n",
              "      <td>1.856345e+06</td>\n",
              "      <td>3.917960e+06</td>\n",
              "      <td>1.903428e+06</td>\n",
              "      <td>2.860656e+06</td>\n",
              "      <td>1.387702e+06</td>\n",
              "      <td>8.536926e+05</td>\n",
              "      <td>417487.937500</td>\n",
              "      <td>9.571302e+06</td>\n",
              "      <td>4.664761e+06</td>\n",
              "      <td>1.916066e+07</td>\n",
              "      <td>9.271938e+06</td>\n",
              "      <td>3.199529e+06</td>\n",
              "      <td>2.975771e+07</td>\n",
              "      <td>1.441182e+07</td>\n",
              "      <td>2.144962e+07</td>\n",
              "      <td>1.083552e+07</td>\n",
              "      <td>...</td>\n",
              "      <td>2.969590</td>\n",
              "      <td>2.730860</td>\n",
              "      <td>3.134040</td>\n",
              "      <td>6.656662e+05</td>\n",
              "      <td>422204.812500</td>\n",
              "      <td>2.615075</td>\n",
              "      <td>2.620977</td>\n",
              "      <td>0.99948</td>\n",
              "      <td>2.609446</td>\n",
              "      <td>12.358997</td>\n",
              "      <td>12.407568</td>\n",
              "      <td>0.997230</td>\n",
              "      <td>12.312529</td>\n",
              "      <td>14.205465</td>\n",
              "      <td>14.257655</td>\n",
              "      <td>1.003650</td>\n",
              "      <td>14.158577</td>\n",
              "      <td>5.185329</td>\n",
              "      <td>5.187352</td>\n",
              "      <td>5.200730</td>\n",
              "      <td>1.827896</td>\n",
              "      <td>1.840057</td>\n",
              "      <td>1.013290</td>\n",
              "      <td>1.815921</td>\n",
              "      <td>93.329876</td>\n",
              "      <td>94.269695</td>\n",
              "      <td>1.019695</td>\n",
              "      <td>92.428249</td>\n",
              "      <td>537667.250000</td>\n",
              "      <td>503043.656250</td>\n",
              "      <td>1.209259e+06</td>\n",
              "      <td>9.220848e+05</td>\n",
              "      <td>2.378068e+06</td>\n",
              "      <td>1.366246e+06</td>\n",
              "      <td>7.875684e+05</td>\n",
              "      <td>96.345806</td>\n",
              "      <td>1.004050</td>\n",
              "      <td>11.107079</td>\n",
              "      <td>9.256528</td>\n",
              "      <td>10.066453</td>\n",
              "    </tr>\n",
              "    <tr>\n",
              "      <th>75%</th>\n",
              "      <td>99.046333</td>\n",
              "      <td>98.999840</td>\n",
              "      <td>1.005260</td>\n",
              "      <td>98.969933</td>\n",
              "      <td>96.408722</td>\n",
              "      <td>97.122284</td>\n",
              "      <td>1.015060</td>\n",
              "      <td>95.776047</td>\n",
              "      <td>8.732678</td>\n",
              "      <td>7.756142</td>\n",
              "      <td>9.733375</td>\n",
              "      <td>3.792580e+05</td>\n",
              "      <td>1.626630e+05</td>\n",
              "      <td>2.165950e+05</td>\n",
              "      <td>97.911411</td>\n",
              "      <td>98.236790</td>\n",
              "      <td>1.006140</td>\n",
              "      <td>97.808624</td>\n",
              "      <td>3.547226e+06</td>\n",
              "      <td>4.495808e+06</td>\n",
              "      <td>2.171162e+06</td>\n",
              "      <td>4.644665e+06</td>\n",
              "      <td>2.251007e+06</td>\n",
              "      <td>4.663229e+06</td>\n",
              "      <td>2.268532e+06</td>\n",
              "      <td>4.774908e+06</td>\n",
              "      <td>2.327553e+06</td>\n",
              "      <td>3.319511e+06</td>\n",
              "      <td>1.631206e+06</td>\n",
              "      <td>1.175216e+06</td>\n",
              "      <td>567097.937500</td>\n",
              "      <td>1.002616e+07</td>\n",
              "      <td>4.884873e+06</td>\n",
              "      <td>2.286710e+07</td>\n",
              "      <td>1.112737e+07</td>\n",
              "      <td>3.891268e+06</td>\n",
              "      <td>3.143324e+07</td>\n",
              "      <td>1.540360e+07</td>\n",
              "      <td>2.243395e+07</td>\n",
              "      <td>1.132674e+07</td>\n",
              "      <td>...</td>\n",
              "      <td>3.575110</td>\n",
              "      <td>3.316950</td>\n",
              "      <td>3.724400</td>\n",
              "      <td>1.233341e+06</td>\n",
              "      <td>589900.250000</td>\n",
              "      <td>2.911113</td>\n",
              "      <td>2.899891</td>\n",
              "      <td>1.00517</td>\n",
              "      <td>2.921782</td>\n",
              "      <td>13.025316</td>\n",
              "      <td>13.014424</td>\n",
              "      <td>1.006540</td>\n",
              "      <td>13.028708</td>\n",
              "      <td>15.912526</td>\n",
              "      <td>16.116602</td>\n",
              "      <td>1.025240</td>\n",
              "      <td>15.726146</td>\n",
              "      <td>5.281446</td>\n",
              "      <td>5.258608</td>\n",
              "      <td>5.307286</td>\n",
              "      <td>2.747286</td>\n",
              "      <td>2.957804</td>\n",
              "      <td>1.160460</td>\n",
              "      <td>2.544739</td>\n",
              "      <td>96.169765</td>\n",
              "      <td>97.062746</td>\n",
              "      <td>1.020512</td>\n",
              "      <td>95.351301</td>\n",
              "      <td>675284.687500</td>\n",
              "      <td>635022.250000</td>\n",
              "      <td>1.286420e+06</td>\n",
              "      <td>1.051750e+06</td>\n",
              "      <td>2.471957e+06</td>\n",
              "      <td>1.491375e+06</td>\n",
              "      <td>9.773308e+05</td>\n",
              "      <td>97.570929</td>\n",
              "      <td>1.006488</td>\n",
              "      <td>12.575628</td>\n",
              "      <td>10.089165</td>\n",
              "      <td>11.352037</td>\n",
              "    </tr>\n",
              "    <tr>\n",
              "      <th>max</th>\n",
              "      <td>99.352272</td>\n",
              "      <td>99.432869</td>\n",
              "      <td>1.011160</td>\n",
              "      <td>99.313766</td>\n",
              "      <td>97.301491</td>\n",
              "      <td>97.795082</td>\n",
              "      <td>1.021090</td>\n",
              "      <td>96.893059</td>\n",
              "      <td>10.886370</td>\n",
              "      <td>10.078380</td>\n",
              "      <td>11.659020</td>\n",
              "      <td>5.308525e+06</td>\n",
              "      <td>2.597234e+06</td>\n",
              "      <td>2.711291e+06</td>\n",
              "      <td>98.183411</td>\n",
              "      <td>98.638969</td>\n",
              "      <td>1.017740</td>\n",
              "      <td>98.004822</td>\n",
              "      <td>4.402854e+06</td>\n",
              "      <td>5.902222e+06</td>\n",
              "      <td>2.852902e+06</td>\n",
              "      <td>5.469230e+06</td>\n",
              "      <td>2.664591e+06</td>\n",
              "      <td>5.346211e+06</td>\n",
              "      <td>2.608902e+06</td>\n",
              "      <td>5.323895e+06</td>\n",
              "      <td>2.600843e+06</td>\n",
              "      <td>3.528840e+06</td>\n",
              "      <td>1.732616e+06</td>\n",
              "      <td>1.297294e+06</td>\n",
              "      <td>623309.250000</td>\n",
              "      <td>1.044142e+07</td>\n",
              "      <td>5.063858e+06</td>\n",
              "      <td>2.563449e+07</td>\n",
              "      <td>1.252854e+07</td>\n",
              "      <td>4.149718e+06</td>\n",
              "      <td>3.259578e+07</td>\n",
              "      <td>1.599818e+07</td>\n",
              "      <td>2.325211e+07</td>\n",
              "      <td>1.166838e+07</td>\n",
              "      <td>...</td>\n",
              "      <td>4.776210</td>\n",
              "      <td>4.275620</td>\n",
              "      <td>5.254130</td>\n",
              "      <td>1.993594e+06</td>\n",
              "      <td>873702.312500</td>\n",
              "      <td>3.063207</td>\n",
              "      <td>3.050412</td>\n",
              "      <td>1.01403</td>\n",
              "      <td>3.075361</td>\n",
              "      <td>13.374366</td>\n",
              "      <td>13.309673</td>\n",
              "      <td>1.010410</td>\n",
              "      <td>13.439789</td>\n",
              "      <td>16.988375</td>\n",
              "      <td>17.231726</td>\n",
              "      <td>1.028580</td>\n",
              "      <td>16.757641</td>\n",
              "      <td>5.424112</td>\n",
              "      <td>5.390996</td>\n",
              "      <td>5.455825</td>\n",
              "      <td>3.348349</td>\n",
              "      <td>3.602052</td>\n",
              "      <td>1.195130</td>\n",
              "      <td>3.103989</td>\n",
              "      <td>97.145950</td>\n",
              "      <td>97.954140</td>\n",
              "      <td>1.023510</td>\n",
              "      <td>96.386879</td>\n",
              "      <td>798790.062500</td>\n",
              "      <td>752736.375000</td>\n",
              "      <td>1.414911e+06</td>\n",
              "      <td>1.186512e+06</td>\n",
              "      <td>2.574277e+06</td>\n",
              "      <td>1.545248e+06</td>\n",
              "      <td>1.035587e+06</td>\n",
              "      <td>98.595558</td>\n",
              "      <td>1.011420</td>\n",
              "      <td>14.035423</td>\n",
              "      <td>11.897115</td>\n",
              "      <td>11.992408</td>\n",
              "    </tr>\n",
              "  </tbody>\n",
              "</table>\n",
              "<p>8 rows × 212 columns</p>\n",
              "</div>\n",
              "      <button class=\"colab-df-convert\" onclick=\"convertToInteractive('df-dee4adc3-f648-4a79-8288-d5c589c94319')\"\n",
              "              title=\"Convert this dataframe to an interactive table.\"\n",
              "              style=\"display:none;\">\n",
              "        \n",
              "  <svg xmlns=\"http://www.w3.org/2000/svg\" height=\"24px\"viewBox=\"0 0 24 24\"\n",
              "       width=\"24px\">\n",
              "    <path d=\"M0 0h24v24H0V0z\" fill=\"none\"/>\n",
              "    <path d=\"M18.56 5.44l.94 2.06.94-2.06 2.06-.94-2.06-.94-.94-2.06-.94 2.06-2.06.94zm-11 1L8.5 8.5l.94-2.06 2.06-.94-2.06-.94L8.5 2.5l-.94 2.06-2.06.94zm10 10l.94 2.06.94-2.06 2.06-.94-2.06-.94-.94-2.06-.94 2.06-2.06.94z\"/><path d=\"M17.41 7.96l-1.37-1.37c-.4-.4-.92-.59-1.43-.59-.52 0-1.04.2-1.43.59L10.3 9.45l-7.72 7.72c-.78.78-.78 2.05 0 2.83L4 21.41c.39.39.9.59 1.41.59.51 0 1.02-.2 1.41-.59l7.78-7.78 2.81-2.81c.8-.78.8-2.07 0-2.86zM5.41 20L4 18.59l7.72-7.72 1.47 1.35L5.41 20z\"/>\n",
              "  </svg>\n",
              "      </button>\n",
              "      \n",
              "  <style>\n",
              "    .colab-df-container {\n",
              "      display:flex;\n",
              "      flex-wrap:wrap;\n",
              "      gap: 12px;\n",
              "    }\n",
              "\n",
              "    .colab-df-convert {\n",
              "      background-color: #E8F0FE;\n",
              "      border: none;\n",
              "      border-radius: 50%;\n",
              "      cursor: pointer;\n",
              "      display: none;\n",
              "      fill: #1967D2;\n",
              "      height: 32px;\n",
              "      padding: 0 0 0 0;\n",
              "      width: 32px;\n",
              "    }\n",
              "\n",
              "    .colab-df-convert:hover {\n",
              "      background-color: #E2EBFA;\n",
              "      box-shadow: 0px 1px 2px rgba(60, 64, 67, 0.3), 0px 1px 3px 1px rgba(60, 64, 67, 0.15);\n",
              "      fill: #174EA6;\n",
              "    }\n",
              "\n",
              "    [theme=dark] .colab-df-convert {\n",
              "      background-color: #3B4455;\n",
              "      fill: #D2E3FC;\n",
              "    }\n",
              "\n",
              "    [theme=dark] .colab-df-convert:hover {\n",
              "      background-color: #434B5C;\n",
              "      box-shadow: 0px 1px 3px 1px rgba(0, 0, 0, 0.15);\n",
              "      filter: drop-shadow(0px 1px 2px rgba(0, 0, 0, 0.3));\n",
              "      fill: #FFFFFF;\n",
              "    }\n",
              "  </style>\n",
              "\n",
              "      <script>\n",
              "        const buttonEl =\n",
              "          document.querySelector('#df-dee4adc3-f648-4a79-8288-d5c589c94319 button.colab-df-convert');\n",
              "        buttonEl.style.display =\n",
              "          google.colab.kernel.accessAllowed ? 'block' : 'none';\n",
              "\n",
              "        async function convertToInteractive(key) {\n",
              "          const element = document.querySelector('#df-dee4adc3-f648-4a79-8288-d5c589c94319');\n",
              "          const dataTable =\n",
              "            await google.colab.kernel.invokeFunction('convertToInteractive',\n",
              "                                                     [key], {});\n",
              "          if (!dataTable) return;\n",
              "\n",
              "          const docLinkHtml = 'Like what you see? Visit the ' +\n",
              "            '<a target=\"_blank\" href=https://colab.research.google.com/notebooks/data_table.ipynb>data table notebook</a>'\n",
              "            + ' to learn more about interactive tables.';\n",
              "          element.innerHTML = '';\n",
              "          dataTable['output_type'] = 'display_data';\n",
              "          await google.colab.output.renderOutput(dataTable, element);\n",
              "          const docLink = document.createElement('div');\n",
              "          docLink.innerHTML = docLinkHtml;\n",
              "          element.appendChild(docLink);\n",
              "        }\n",
              "      </script>\n",
              "    </div>\n",
              "  </div>\n",
              "  "
            ],
            "text/plain": [
              "Indicator Code  SE.PRM.TENR  SE.PRM.TENR.FE  ...  SL.UEM.TOTL.MA.ZS  SL.UEM.TOTL.ZS\n",
              "count             45.000000       45.000000  ...          26.000000       26.000000\n",
              "mean              97.490471       97.638287  ...           9.039103        9.996547\n",
              "std                1.370463        1.227734  ...           1.508504        1.383525\n",
              "min               95.223793       95.724380  ...           6.631407        7.471680\n",
              "25%               96.424889       96.683052  ...           7.754366        9.035563\n",
              "50%               97.030411       97.269142  ...           9.256528       10.066453\n",
              "75%               99.046333       98.999840  ...          10.089165       11.352037\n",
              "max               99.352272       99.432869  ...          11.897115       11.992408\n",
              "\n",
              "[8 rows x 212 columns]"
            ]
          },
          "metadata": {},
          "execution_count": 25
        }
      ]
    },
    {
      "cell_type": "code",
      "source": [
        "# Imputation of Nan values with median\n",
        "for k in list(dict_of_filtered_df.keys()):\n",
        "  new_df=dict_of_filtered_df.get(k)\n",
        "  for column_name in new_df.columns:\n",
        "    new_df[column_name]=new_df[column_name].fillna(new_df[column_name].median())\n",
        "  dict_of_filtered_df.update({k:new_df})"
      ],
      "metadata": {
        "id": "GG2AOL3bGGg6"
      },
      "execution_count": 26,
      "outputs": []
    },
    {
      "cell_type": "code",
      "source": [
        "dict_of_filtered_df.get('EMU').isnull().sum()"
      ],
      "metadata": {
        "colab": {
          "base_uri": "https://localhost:8080/"
        },
        "id": "BB74eeuJI-RT",
        "outputId": "ff3f8468-0a12-4177-ade4-24defb4e5ba2"
      },
      "execution_count": 27,
      "outputs": [
        {
          "output_type": "execute_result",
          "data": {
            "text/plain": [
              "Indicator Code\n",
              "SE.PRM.TENR          0\n",
              "SE.PRM.TENR.FE       0\n",
              "UIS.NERA.1.GPI       0\n",
              "SE.PRM.TENR.MA       0\n",
              "UIS.NIRA.1           0\n",
              "                    ..\n",
              "UIS.NERT.2           0\n",
              "UIS.NERT.1.GPI       0\n",
              "SL.UEM.TOTL.FE.ZS    0\n",
              "SL.UEM.TOTL.MA.ZS    0\n",
              "SL.UEM.TOTL.ZS       0\n",
              "Length: 212, dtype: int64"
            ]
          },
          "metadata": {},
          "execution_count": 27
        }
      ]
    },
    {
      "cell_type": "code",
      "source": [
        "# Checking is there any common indicator among the countries\n",
        "set_list=[set(dict_of_filtered_df.get(k).columns) for k in list(dict_of_filtered_df.keys())]\n",
        "set.intersection(*set_list)"
      ],
      "metadata": {
        "colab": {
          "base_uri": "https://localhost:8080/"
        },
        "id": "yRQrW55c06wM",
        "outputId": "a4397cc9-4bfb-4879-f4c7-ad89d05544ef"
      },
      "execution_count": 28,
      "outputs": [
        {
          "output_type": "execute_result",
          "data": {
            "text/plain": [
              "set()"
            ]
          },
          "metadata": {},
          "execution_count": 28
        }
      ]
    },
    {
      "cell_type": "code",
      "source": [
        "# As the intersection of all the column is returning null set, there is no common indicators for all 242 countries"
      ],
      "metadata": {
        "id": "7aWI49Zq7_oJ"
      },
      "execution_count": 29,
      "outputs": []
    },
    {
      "cell_type": "code",
      "source": [
        "feature_len_list=[len(dict_of_filtered_df.get(k).columns) for k in list(dict_of_filtered_df.keys())]\n",
        "print(sorted(feature_len_list))\n",
        "print(\"Average feature length is:\", round(sum(feature_len_list)/len(feature_len_list),0))"
      ],
      "metadata": {
        "colab": {
          "base_uri": "https://localhost:8080/"
        },
        "id": "-vqbCaGO8jOd",
        "outputId": "4c0da997-a5e4-4c21-ebe6-49578ad1ed7f"
      },
      "execution_count": 30,
      "outputs": [
        {
          "output_type": "stream",
          "name": "stdout",
          "text": [
            "[0, 2, 2, 2, 3, 4, 4, 8, 8, 8, 10, 10, 15, 15, 16, 19, 19, 19, 22, 23, 27, 28, 30, 31, 42, 47, 50, 55, 55, 56, 56, 62, 62, 70, 98, 150, 163, 182, 190, 193, 194, 194, 206, 209, 210, 210, 210, 212, 213, 218, 219, 223, 223, 224, 224, 225, 225, 227, 228, 228, 229, 229, 235, 235, 235, 235, 236, 238, 239, 239, 240, 243, 246, 246, 248, 248, 249, 251, 251, 254, 255, 255, 256, 257, 257, 258, 258, 262, 262, 262, 264, 264, 265, 265, 267, 269, 269, 270, 271, 272, 273, 273, 274, 275, 280, 282, 282, 282, 284, 284, 284, 288, 290, 291, 291, 292, 295, 295, 295, 297, 298, 301, 304, 304, 308, 310, 311, 313, 313, 314, 314, 314, 317, 319, 319, 320, 320, 321, 322, 323, 323, 325, 327, 328, 330, 330, 330, 333, 333, 335, 336, 337, 339, 340, 340, 346, 349, 351, 353, 356, 356, 357, 361, 361, 362, 362, 363, 366, 369, 369, 373, 373, 376, 377, 378, 380, 380, 383, 385, 391, 392, 392, 397, 397, 397, 398, 399, 401, 402, 404, 404, 406, 412, 414, 417, 421, 425, 425, 427, 428, 430, 430, 434, 441, 444, 445, 446, 447, 451, 452, 453, 457, 461, 461, 464, 465, 468, 469, 472, 473, 474, 474, 474, 485, 490, 496, 498, 498, 499, 501, 501, 503, 503, 505, 512, 520, 524, 527, 535, 539, 539, 554]\n",
            "Average feature length is: 292.0\n"
          ]
        }
      ]
    },
    {
      "cell_type": "code",
      "source": [
        "# To find the major countries with most important features, we will delete the countries with less than 100 features\n",
        "for k in list(dict_of_filtered_df.keys()):\n",
        "  if len(dict_of_filtered_df.get(k).columns)<100:\n",
        "    del dict_of_filtered_df[k]"
      ],
      "metadata": {
        "id": "UH8qKT_nA9Ml"
      },
      "execution_count": 31,
      "outputs": []
    },
    {
      "cell_type": "code",
      "source": [
        "feature_len_list=[len(dict_of_filtered_df.get(k).columns) for k in list(dict_of_filtered_df.keys())]\n",
        "print(sorted(feature_len_list))\n",
        "print(len(feature_len_list))"
      ],
      "metadata": {
        "colab": {
          "base_uri": "https://localhost:8080/"
        },
        "id": "GEj6Sbu-DyL3",
        "outputId": "1300a24d-60c5-4c23-dc8a-9a29dac2aa62"
      },
      "execution_count": 32,
      "outputs": [
        {
          "output_type": "stream",
          "name": "stdout",
          "text": [
            "[150, 163, 182, 190, 193, 194, 194, 206, 209, 210, 210, 210, 212, 213, 218, 219, 223, 223, 224, 224, 225, 225, 227, 228, 228, 229, 229, 235, 235, 235, 235, 236, 238, 239, 239, 240, 243, 246, 246, 248, 248, 249, 251, 251, 254, 255, 255, 256, 257, 257, 258, 258, 262, 262, 262, 264, 264, 265, 265, 267, 269, 269, 270, 271, 272, 273, 273, 274, 275, 280, 282, 282, 282, 284, 284, 284, 288, 290, 291, 291, 292, 295, 295, 295, 297, 298, 301, 304, 304, 308, 310, 311, 313, 313, 314, 314, 314, 317, 319, 319, 320, 320, 321, 322, 323, 323, 325, 327, 328, 330, 330, 330, 333, 333, 335, 336, 337, 339, 340, 340, 346, 349, 351, 353, 356, 356, 357, 361, 361, 362, 362, 363, 366, 369, 369, 373, 373, 376, 377, 378, 380, 380, 383, 385, 391, 392, 392, 397, 397, 397, 398, 399, 401, 402, 404, 404, 406, 412, 414, 417, 421, 425, 425, 427, 428, 430, 430, 434, 441, 444, 445, 446, 447, 451, 452, 453, 457, 461, 461, 464, 465, 468, 469, 472, 473, 474, 474, 474, 485, 490, 496, 498, 498, 499, 501, 501, 503, 503, 505, 512, 520, 524, 527, 535, 539, 539, 554]\n",
            "207\n"
          ]
        }
      ]
    },
    {
      "cell_type": "code",
      "source": [
        "# List of selected countries\n",
        "list_of_countries=[dict_of_countries.get(k) for k in list(dict_of_filtered_df.keys())]"
      ],
      "metadata": {
        "id": "iIzUg_DkFC7k"
      },
      "execution_count": 33,
      "outputs": []
    },
    {
      "cell_type": "code",
      "source": [
        "# Checking is there any common indicator among the countries\n",
        "set_list=[set(dict_of_filtered_df.get(k).columns) for k in list(dict_of_filtered_df.keys())]\n",
        "common_features=list(set.intersection(*set_list))\n",
        "len(common_features)"
      ],
      "metadata": {
        "colab": {
          "base_uri": "https://localhost:8080/"
        },
        "id": "6ui9xhkEAJ1h",
        "outputId": "8cbc565a-54c2-45db-d74f-24814da2be2e"
      },
      "execution_count": 34,
      "outputs": [
        {
          "output_type": "execute_result",
          "data": {
            "text/plain": [
              "14"
            ]
          },
          "metadata": {},
          "execution_count": 34
        }
      ]
    },
    {
      "cell_type": "markdown",
      "source": [
        "**Thus, we are selecting 14 most common features among 207 countries**"
      ],
      "metadata": {
        "id": "bcOhPXwuHeEl"
      }
    },
    {
      "cell_type": "code",
      "source": [
        "# updating the data frames with common features\n",
        "for k in list(dict_of_filtered_df.keys()):\n",
        "  dict_of_filtered_df.update({k:dict_of_filtered_df.get(k)[common_features]})"
      ],
      "metadata": {
        "id": "3aC57ZVeNyYk"
      },
      "execution_count": 35,
      "outputs": []
    },
    {
      "cell_type": "code",
      "source": [
        "# List of common features\n",
        "common_feature_names=[]\n",
        "for k in common_features:\n",
        "  common_feature_names.append(dict_of_indicators.get(k))\n",
        "common_feature_names"
      ],
      "metadata": {
        "colab": {
          "base_uri": "https://localhost:8080/"
        },
        "id": "0O6dISC5IS9L",
        "outputId": "4038f048-7825-49b9-8cf8-86edd069393d"
      },
      "execution_count": 36,
      "outputs": [
        {
          "output_type": "execute_result",
          "data": {
            "text/plain": [
              "['Population, ages 0-14, total',\n",
              " 'Population, ages 0-14 (% of total)',\n",
              " 'Population, female',\n",
              " 'Population, male (% of total)',\n",
              " 'Population, total',\n",
              " 'Population, ages 15-64, male',\n",
              " 'Population, ages 0-14, male',\n",
              " 'Population, female (% of total)',\n",
              " 'Population, ages 15-64, female',\n",
              " 'Population, ages 15-64 (% of total)',\n",
              " 'Population growth (annual %)',\n",
              " 'Population, ages 0-14, female',\n",
              " 'Population, male',\n",
              " 'Population, ages 15-64, total']"
            ]
          },
          "metadata": {},
          "execution_count": 36
        }
      ]
    },
    {
      "cell_type": "code",
      "source": [
        "# Checking zero values in the filtered df\n",
        "print(\"There are zero values in following countries:\\n\")\n",
        "for k in list(dict_of_filtered_df.keys()):\n",
        "  if 0 in dict_of_filtered_df.get(k).values:\n",
        "    print(k,end=' ')\n",
        "  "
      ],
      "metadata": {
        "colab": {
          "base_uri": "https://localhost:8080/"
        },
        "id": "iL0c88pvTKgt",
        "outputId": "318554d6-120a-426b-d054-2399db13e8b8"
      },
      "execution_count": 37,
      "outputs": [
        {
          "output_type": "stream",
          "name": "stdout",
          "text": [
            "There are zero values in following countries:\n",
            "\n",
            "HRV "
          ]
        }
      ]
    },
    {
      "cell_type": "code",
      "source": [
        "# Imputation of zero values with mean\n",
        "for k in list(dict_of_filtered_df.keys()):\n",
        "  if 0 in dict_of_filtered_df.get(k).values:\n",
        "    new_df=dict_of_filtered_df.get(k)\n",
        "    for column_name in new_df.columns:\n",
        "     for i in new_df.index:\n",
        "      if new_df[column_name].loc[i]==0:\n",
        "        new_df[column_name].loc[i]=new_df[column_name].mean()\n",
        "    dict_of_filtered_df.update({k:new_df})"
      ],
      "metadata": {
        "id": "QUdPvQ06TaTf"
      },
      "execution_count": 38,
      "outputs": []
    },
    {
      "cell_type": "code",
      "source": [
        "# Checking zero values in the filtered df\n",
        "print(\"There are zero values in following countries:\\n\")\n",
        "for k in list(dict_of_filtered_df.keys()):\n",
        "  if 0 in dict_of_filtered_df.get(k).values:\n",
        "    print(k,end=' ')"
      ],
      "metadata": {
        "colab": {
          "base_uri": "https://localhost:8080/"
        },
        "id": "GgpQAmHXh-8p",
        "outputId": "cf786db8-f907-496e-e305-4a40776d35d3"
      },
      "execution_count": 39,
      "outputs": [
        {
          "output_type": "stream",
          "name": "stdout",
          "text": [
            "There are zero values in following countries:\n",
            "\n"
          ]
        }
      ]
    },
    {
      "cell_type": "code",
      "source": [
        "# Creating a df for mean statistics for all countries\n",
        "mean_stat_df=pd.DataFrame(columns=common_features,index=list(dict_of_filtered_df.keys()))\n",
        "for k in list(dict_of_filtered_df.keys()):\n",
        "  mean_stat_df.loc[k]=dict_of_filtered_df.get(k).mean()\n",
        "mean_stat_df.columns=common_feature_names\n",
        "mean_stat_df.index=list_of_countries"
      ],
      "metadata": {
        "id": "EfVTxefB3w1N"
      },
      "execution_count": 40,
      "outputs": []
    },
    {
      "cell_type": "code",
      "source": [
        "mean_stat_df.head(2)"
      ],
      "metadata": {
        "colab": {
          "base_uri": "https://localhost:8080/",
          "height": 280
        },
        "id": "JvNaOpXFQlCe",
        "outputId": "48ab9db2-ba0b-4431-c47c-ae94ea4a7ed5"
      },
      "execution_count": 41,
      "outputs": [
        {
          "output_type": "execute_result",
          "data": {
            "text/html": [
              "\n",
              "  <div id=\"df-112facac-3594-405c-a4d3-b7c8467e0958\">\n",
              "    <div class=\"colab-df-container\">\n",
              "      <div>\n",
              "<style scoped>\n",
              "    .dataframe tbody tr th:only-of-type {\n",
              "        vertical-align: middle;\n",
              "    }\n",
              "\n",
              "    .dataframe tbody tr th {\n",
              "        vertical-align: top;\n",
              "    }\n",
              "\n",
              "    .dataframe thead th {\n",
              "        text-align: right;\n",
              "    }\n",
              "</style>\n",
              "<table border=\"1\" class=\"dataframe\">\n",
              "  <thead>\n",
              "    <tr style=\"text-align: right;\">\n",
              "      <th></th>\n",
              "      <th>Population, ages 0-14, total</th>\n",
              "      <th>Population, ages 0-14 (% of total)</th>\n",
              "      <th>Population, female</th>\n",
              "      <th>Population, male (% of total)</th>\n",
              "      <th>Population, total</th>\n",
              "      <th>Population, ages 15-64, male</th>\n",
              "      <th>Population, ages 0-14, male</th>\n",
              "      <th>Population, female (% of total)</th>\n",
              "      <th>Population, ages 15-64, female</th>\n",
              "      <th>Population, ages 15-64 (% of total)</th>\n",
              "      <th>Population growth (annual %)</th>\n",
              "      <th>Population, ages 0-14, female</th>\n",
              "      <th>Population, male</th>\n",
              "      <th>Population, ages 15-64, total</th>\n",
              "    </tr>\n",
              "  </thead>\n",
              "  <tbody>\n",
              "    <tr>\n",
              "      <th>Arab World</th>\n",
              "      <td>91766921.074468</td>\n",
              "      <td>40.509102</td>\n",
              "      <td>114218359.989362</td>\n",
              "      <td>50.932294</td>\n",
              "      <td>233292359.425532</td>\n",
              "      <td>68176302.382979</td>\n",
              "      <td>46810044.62766</td>\n",
              "      <td>49.067706</td>\n",
              "      <td>64334971.808511</td>\n",
              "      <td>55.908741</td>\n",
              "      <td>2.593031</td>\n",
              "      <td>44955894.56383</td>\n",
              "      <td>119073999.43617</td>\n",
              "      <td>132509901.191489</td>\n",
              "    </tr>\n",
              "    <tr>\n",
              "      <th>East Asia &amp; Pacific</th>\n",
              "      <td>518625928.468085</td>\n",
              "      <td>29.053536</td>\n",
              "      <td>912749347.212766</td>\n",
              "      <td>50.759519</td>\n",
              "      <td>1853911316.765957</td>\n",
              "      <td>616934994.042553</td>\n",
              "      <td>267904115.085106</td>\n",
              "      <td>49.240481</td>\n",
              "      <td>594428680.787234</td>\n",
              "      <td>64.537298</td>\n",
              "      <td>1.293952</td>\n",
              "      <td>250721756.06383</td>\n",
              "      <td>940995609.382979</td>\n",
              "      <td>1211363692.978723</td>\n",
              "    </tr>\n",
              "  </tbody>\n",
              "</table>\n",
              "</div>\n",
              "      <button class=\"colab-df-convert\" onclick=\"convertToInteractive('df-112facac-3594-405c-a4d3-b7c8467e0958')\"\n",
              "              title=\"Convert this dataframe to an interactive table.\"\n",
              "              style=\"display:none;\">\n",
              "        \n",
              "  <svg xmlns=\"http://www.w3.org/2000/svg\" height=\"24px\"viewBox=\"0 0 24 24\"\n",
              "       width=\"24px\">\n",
              "    <path d=\"M0 0h24v24H0V0z\" fill=\"none\"/>\n",
              "    <path d=\"M18.56 5.44l.94 2.06.94-2.06 2.06-.94-2.06-.94-.94-2.06-.94 2.06-2.06.94zm-11 1L8.5 8.5l.94-2.06 2.06-.94-2.06-.94L8.5 2.5l-.94 2.06-2.06.94zm10 10l.94 2.06.94-2.06 2.06-.94-2.06-.94-.94-2.06-.94 2.06-2.06.94z\"/><path d=\"M17.41 7.96l-1.37-1.37c-.4-.4-.92-.59-1.43-.59-.52 0-1.04.2-1.43.59L10.3 9.45l-7.72 7.72c-.78.78-.78 2.05 0 2.83L4 21.41c.39.39.9.59 1.41.59.51 0 1.02-.2 1.41-.59l7.78-7.78 2.81-2.81c.8-.78.8-2.07 0-2.86zM5.41 20L4 18.59l7.72-7.72 1.47 1.35L5.41 20z\"/>\n",
              "  </svg>\n",
              "      </button>\n",
              "      \n",
              "  <style>\n",
              "    .colab-df-container {\n",
              "      display:flex;\n",
              "      flex-wrap:wrap;\n",
              "      gap: 12px;\n",
              "    }\n",
              "\n",
              "    .colab-df-convert {\n",
              "      background-color: #E8F0FE;\n",
              "      border: none;\n",
              "      border-radius: 50%;\n",
              "      cursor: pointer;\n",
              "      display: none;\n",
              "      fill: #1967D2;\n",
              "      height: 32px;\n",
              "      padding: 0 0 0 0;\n",
              "      width: 32px;\n",
              "    }\n",
              "\n",
              "    .colab-df-convert:hover {\n",
              "      background-color: #E2EBFA;\n",
              "      box-shadow: 0px 1px 2px rgba(60, 64, 67, 0.3), 0px 1px 3px 1px rgba(60, 64, 67, 0.15);\n",
              "      fill: #174EA6;\n",
              "    }\n",
              "\n",
              "    [theme=dark] .colab-df-convert {\n",
              "      background-color: #3B4455;\n",
              "      fill: #D2E3FC;\n",
              "    }\n",
              "\n",
              "    [theme=dark] .colab-df-convert:hover {\n",
              "      background-color: #434B5C;\n",
              "      box-shadow: 0px 1px 3px 1px rgba(0, 0, 0, 0.15);\n",
              "      filter: drop-shadow(0px 1px 2px rgba(0, 0, 0, 0.3));\n",
              "      fill: #FFFFFF;\n",
              "    }\n",
              "  </style>\n",
              "\n",
              "      <script>\n",
              "        const buttonEl =\n",
              "          document.querySelector('#df-112facac-3594-405c-a4d3-b7c8467e0958 button.colab-df-convert');\n",
              "        buttonEl.style.display =\n",
              "          google.colab.kernel.accessAllowed ? 'block' : 'none';\n",
              "\n",
              "        async function convertToInteractive(key) {\n",
              "          const element = document.querySelector('#df-112facac-3594-405c-a4d3-b7c8467e0958');\n",
              "          const dataTable =\n",
              "            await google.colab.kernel.invokeFunction('convertToInteractive',\n",
              "                                                     [key], {});\n",
              "          if (!dataTable) return;\n",
              "\n",
              "          const docLinkHtml = 'Like what you see? Visit the ' +\n",
              "            '<a target=\"_blank\" href=https://colab.research.google.com/notebooks/data_table.ipynb>data table notebook</a>'\n",
              "            + ' to learn more about interactive tables.';\n",
              "          element.innerHTML = '';\n",
              "          dataTable['output_type'] = 'display_data';\n",
              "          await google.colab.output.renderOutput(dataTable, element);\n",
              "          const docLink = document.createElement('div');\n",
              "          docLink.innerHTML = docLinkHtml;\n",
              "          element.appendChild(docLink);\n",
              "        }\n",
              "      </script>\n",
              "    </div>\n",
              "  </div>\n",
              "  "
            ],
            "text/plain": [
              "                    Population, ages 0-14, total  ... Population, ages 15-64, total\n",
              "Arab World                       91766921.074468  ...              132509901.191489\n",
              "East Asia & Pacific             518625928.468085  ...             1211363692.978723\n",
              "\n",
              "[2 rows x 14 columns]"
            ]
          },
          "metadata": {},
          "execution_count": 41
        }
      ]
    },
    {
      "cell_type": "markdown",
      "source": [
        "###**Search for the educational features**"
      ],
      "metadata": {
        "id": "wldxnTRW0SCu"
      }
    },
    {
      "cell_type": "markdown",
      "source": [
        "**Most common features of the data available for this 47 year period are population indicators.** \n",
        "\n",
        "**Lets explore for educational features  !**"
      ],
      "metadata": {
        "id": "pfGNh1X-7LOW"
      }
    },
    {
      "cell_type": "code",
      "source": [
        "# Creating another filtered df for all individual countries\n",
        "dict_of_clean_df={i:record_df.loc[(record_df['Country Code']==i)] for i in list(dict_of_countries.keys())}\n",
        "for k in list(dict_of_countries.keys()):\n",
        "  dict_of_clean_df.get(k).drop(['Country Code'], axis = 1, inplace=True)\n",
        "  dict_of_clean_df.get(k).set_index('Indicator Code', inplace=True)\n",
        "  dict_of_clean_df.update({k:dict_of_clean_df.get(k).transpose()})"
      ],
      "metadata": {
        "id": "pZNYTqpw9bOf",
        "colab": {
          "base_uri": "https://localhost:8080/"
        },
        "outputId": "71ef8c17-b0df-416d-a873-c87bd7b01586"
      },
      "execution_count": 42,
      "outputs": [
        {
          "output_type": "stream",
          "name": "stderr",
          "text": [
            "/usr/local/lib/python3.7/dist-packages/pandas/core/frame.py:4913: SettingWithCopyWarning: \n",
            "A value is trying to be set on a copy of a slice from a DataFrame\n",
            "\n",
            "See the caveats in the documentation: https://pandas.pydata.org/pandas-docs/stable/user_guide/indexing.html#returning-a-view-versus-a-copy\n",
            "  errors=errors,\n"
          ]
        }
      ]
    },
    {
      "cell_type": "code",
      "source": [
        "dict_of_clean_df.get('EMU').head(2)"
      ],
      "metadata": {
        "id": "x6YxeYNJEVI8",
        "colab": {
          "base_uri": "https://localhost:8080/",
          "height": 222
        },
        "outputId": "a51e2c51-810d-47e5-82a5-175f790dbc31"
      },
      "execution_count": 43,
      "outputs": [
        {
          "output_type": "execute_result",
          "data": {
            "text/html": [
              "\n",
              "  <div id=\"df-8a9c86f5-f36e-45b8-922a-16de70700f34\">\n",
              "    <div class=\"colab-df-container\">\n",
              "      <div>\n",
              "<style scoped>\n",
              "    .dataframe tbody tr th:only-of-type {\n",
              "        vertical-align: middle;\n",
              "    }\n",
              "\n",
              "    .dataframe tbody tr th {\n",
              "        vertical-align: top;\n",
              "    }\n",
              "\n",
              "    .dataframe thead th {\n",
              "        text-align: right;\n",
              "    }\n",
              "</style>\n",
              "<table border=\"1\" class=\"dataframe\">\n",
              "  <thead>\n",
              "    <tr style=\"text-align: right;\">\n",
              "      <th>Indicator Code</th>\n",
              "      <th>UIS.NERA.2</th>\n",
              "      <th>UIS.NERA.2.F</th>\n",
              "      <th>UIS.NERA.2.GPI</th>\n",
              "      <th>UIS.NERA.2.M</th>\n",
              "      <th>SE.PRM.TENR</th>\n",
              "      <th>SE.PRM.TENR.FE</th>\n",
              "      <th>UIS.NERA.1.GPI</th>\n",
              "      <th>SE.PRM.TENR.MA</th>\n",
              "      <th>UIS.NERA.3</th>\n",
              "      <th>UIS.NERA.3.F</th>\n",
              "      <th>UIS.NERA.3.GPI</th>\n",
              "      <th>UIS.NERA.3.M</th>\n",
              "      <th>UIS.NIRA.1</th>\n",
              "      <th>UIS.NIRA.1.F</th>\n",
              "      <th>UIS.NIRA.1.GPI</th>\n",
              "      <th>UIS.NIRA.1.M</th>\n",
              "      <th>UIS.LPP.AG15T99</th>\n",
              "      <th>UIS.LP.AG15T99</th>\n",
              "      <th>UIS.LP.AG15T99.F</th>\n",
              "      <th>UIS.LP.AG15T99.M</th>\n",
              "      <th>SE.ADT.LITR.ZS</th>\n",
              "      <th>SE.ADT.LITR.FE.ZS</th>\n",
              "      <th>UIS.LR.AG15T99.GPI</th>\n",
              "      <th>SE.ADT.LITR.MA.ZS</th>\n",
              "      <th>UIS.AFR.AGRADMG.1.PU</th>\n",
              "      <th>UIS.AFR.PBR.1.G1.PU.MATH</th>\n",
              "      <th>UIS.AFR.PBR.1.G2.PU.MATH</th>\n",
              "      <th>UIS.AFR.PBR.1.G3.PU.MATH</th>\n",
              "      <th>UIS.AFR.PBR.1.G4.PU.MATH</th>\n",
              "      <th>UIS.AFR.PBR.1.G5.PU.MATH</th>\n",
              "      <th>UIS.AFR.PBR.1.G6.PU.MATH</th>\n",
              "      <th>UIS.AFR.PBR.1.G7.PU.MATH</th>\n",
              "      <th>UIS.AFR.PBR.1.PU.MATH</th>\n",
              "      <th>UIS.AFR.PBR.1.G1.PU.READ</th>\n",
              "      <th>UIS.AFR.PBR.1.G2.PU.READ</th>\n",
              "      <th>UIS.AFR.PBR.1.G3.PU.READ</th>\n",
              "      <th>UIS.AFR.PBR.1.G4.PU.READ</th>\n",
              "      <th>UIS.AFR.PBR.1.G5.PU.READ</th>\n",
              "      <th>UIS.AFR.PBR.1.G6.PU.READ</th>\n",
              "      <th>UIS.AFR.PBR.1.G7.PU.READ</th>\n",
              "      <th>...</th>\n",
              "      <th>PRJ.POP.2529.2.MA</th>\n",
              "      <th>PRJ.POP.2529.2.MF</th>\n",
              "      <th>PRJ.POP.2529.NED.FE</th>\n",
              "      <th>PRJ.POP.2529.NED.MA</th>\n",
              "      <th>PRJ.POP.2529.NED.MF</th>\n",
              "      <th>PRJ.POP.2529.4.FE</th>\n",
              "      <th>PRJ.POP.2529.4.MA</th>\n",
              "      <th>PRJ.POP.2529.4.MF</th>\n",
              "      <th>PRJ.POP.2529.1.FE</th>\n",
              "      <th>PRJ.POP.2529.1.MA</th>\n",
              "      <th>PRJ.POP.2529.1.MF</th>\n",
              "      <th>PRJ.POP.2529.3.FE</th>\n",
              "      <th>PRJ.POP.2529.3.MA</th>\n",
              "      <th>PRJ.POP.2529.3.MF</th>\n",
              "      <th>PRJ.POP.ALL.S1.FE</th>\n",
              "      <th>PRJ.POP.ALL.S1.MA</th>\n",
              "      <th>PRJ.POP.ALL.S1.MF</th>\n",
              "      <th>PRJ.POP.ALL.2.FE</th>\n",
              "      <th>PRJ.POP.ALL.2.MA</th>\n",
              "      <th>PRJ.POP.ALL.2.MF</th>\n",
              "      <th>PRJ.POP.ALL.NED.FE</th>\n",
              "      <th>PRJ.POP.ALL.NED.MA</th>\n",
              "      <th>PRJ.POP.ALL.NED.MF</th>\n",
              "      <th>PRJ.POP.ALL.4.FE</th>\n",
              "      <th>PRJ.POP.ALL.4.MA</th>\n",
              "      <th>PRJ.POP.ALL.4.MF</th>\n",
              "      <th>PRJ.POP.ALL.1.FE</th>\n",
              "      <th>PRJ.POP.ALL.1.MA</th>\n",
              "      <th>PRJ.POP.ALL.1.MF</th>\n",
              "      <th>PRJ.POP.ALL.3.FE</th>\n",
              "      <th>PRJ.POP.ALL.3.MA</th>\n",
              "      <th>PRJ.POP.ALL.3.MF</th>\n",
              "      <th>UIS.LPP.AG15T24</th>\n",
              "      <th>UIS.LP.AG15T24</th>\n",
              "      <th>UIS.LP.AG15T24.F</th>\n",
              "      <th>UIS.LP.AG15T24.M</th>\n",
              "      <th>SE.ADT.1524.LT.ZS</th>\n",
              "      <th>SE.ADT.1524.LT.FE.ZS</th>\n",
              "      <th>SE.ADT.1524.LT.FM.ZS</th>\n",
              "      <th>SE.ADT.1524.LT.MA.ZS</th>\n",
              "    </tr>\n",
              "  </thead>\n",
              "  <tbody>\n",
              "    <tr>\n",
              "      <th>1970</th>\n",
              "      <td>NaN</td>\n",
              "      <td>NaN</td>\n",
              "      <td>NaN</td>\n",
              "      <td>NaN</td>\n",
              "      <td>95.223793</td>\n",
              "      <td>95.724380</td>\n",
              "      <td>1.01033</td>\n",
              "      <td>94.745872</td>\n",
              "      <td>NaN</td>\n",
              "      <td>NaN</td>\n",
              "      <td>NaN</td>\n",
              "      <td>NaN</td>\n",
              "      <td>93.011223</td>\n",
              "      <td>94.022514</td>\n",
              "      <td>1.02105</td>\n",
              "      <td>92.083961</td>\n",
              "      <td>NaN</td>\n",
              "      <td>NaN</td>\n",
              "      <td>NaN</td>\n",
              "      <td>NaN</td>\n",
              "      <td>NaN</td>\n",
              "      <td>NaN</td>\n",
              "      <td>NaN</td>\n",
              "      <td>NaN</td>\n",
              "      <td>NaN</td>\n",
              "      <td>NaN</td>\n",
              "      <td>NaN</td>\n",
              "      <td>NaN</td>\n",
              "      <td>NaN</td>\n",
              "      <td>NaN</td>\n",
              "      <td>NaN</td>\n",
              "      <td>NaN</td>\n",
              "      <td>NaN</td>\n",
              "      <td>NaN</td>\n",
              "      <td>NaN</td>\n",
              "      <td>NaN</td>\n",
              "      <td>NaN</td>\n",
              "      <td>NaN</td>\n",
              "      <td>NaN</td>\n",
              "      <td>NaN</td>\n",
              "      <td>...</td>\n",
              "      <td>NaN</td>\n",
              "      <td>NaN</td>\n",
              "      <td>NaN</td>\n",
              "      <td>NaN</td>\n",
              "      <td>NaN</td>\n",
              "      <td>NaN</td>\n",
              "      <td>NaN</td>\n",
              "      <td>NaN</td>\n",
              "      <td>NaN</td>\n",
              "      <td>NaN</td>\n",
              "      <td>NaN</td>\n",
              "      <td>NaN</td>\n",
              "      <td>NaN</td>\n",
              "      <td>NaN</td>\n",
              "      <td>NaN</td>\n",
              "      <td>NaN</td>\n",
              "      <td>NaN</td>\n",
              "      <td>NaN</td>\n",
              "      <td>NaN</td>\n",
              "      <td>NaN</td>\n",
              "      <td>NaN</td>\n",
              "      <td>NaN</td>\n",
              "      <td>NaN</td>\n",
              "      <td>NaN</td>\n",
              "      <td>NaN</td>\n",
              "      <td>NaN</td>\n",
              "      <td>NaN</td>\n",
              "      <td>NaN</td>\n",
              "      <td>NaN</td>\n",
              "      <td>NaN</td>\n",
              "      <td>NaN</td>\n",
              "      <td>NaN</td>\n",
              "      <td>NaN</td>\n",
              "      <td>NaN</td>\n",
              "      <td>NaN</td>\n",
              "      <td>NaN</td>\n",
              "      <td>NaN</td>\n",
              "      <td>NaN</td>\n",
              "      <td>NaN</td>\n",
              "      <td>NaN</td>\n",
              "    </tr>\n",
              "    <tr>\n",
              "      <th>1971</th>\n",
              "      <td>NaN</td>\n",
              "      <td>NaN</td>\n",
              "      <td>NaN</td>\n",
              "      <td>NaN</td>\n",
              "      <td>95.229301</td>\n",
              "      <td>95.728973</td>\n",
              "      <td>1.01030</td>\n",
              "      <td>94.752632</td>\n",
              "      <td>NaN</td>\n",
              "      <td>NaN</td>\n",
              "      <td>NaN</td>\n",
              "      <td>NaN</td>\n",
              "      <td>93.027794</td>\n",
              "      <td>94.040436</td>\n",
              "      <td>1.02109</td>\n",
              "      <td>92.098228</td>\n",
              "      <td>NaN</td>\n",
              "      <td>NaN</td>\n",
              "      <td>NaN</td>\n",
              "      <td>NaN</td>\n",
              "      <td>NaN</td>\n",
              "      <td>NaN</td>\n",
              "      <td>NaN</td>\n",
              "      <td>NaN</td>\n",
              "      <td>NaN</td>\n",
              "      <td>NaN</td>\n",
              "      <td>NaN</td>\n",
              "      <td>NaN</td>\n",
              "      <td>NaN</td>\n",
              "      <td>NaN</td>\n",
              "      <td>NaN</td>\n",
              "      <td>NaN</td>\n",
              "      <td>NaN</td>\n",
              "      <td>NaN</td>\n",
              "      <td>NaN</td>\n",
              "      <td>NaN</td>\n",
              "      <td>NaN</td>\n",
              "      <td>NaN</td>\n",
              "      <td>NaN</td>\n",
              "      <td>NaN</td>\n",
              "      <td>...</td>\n",
              "      <td>NaN</td>\n",
              "      <td>NaN</td>\n",
              "      <td>NaN</td>\n",
              "      <td>NaN</td>\n",
              "      <td>NaN</td>\n",
              "      <td>NaN</td>\n",
              "      <td>NaN</td>\n",
              "      <td>NaN</td>\n",
              "      <td>NaN</td>\n",
              "      <td>NaN</td>\n",
              "      <td>NaN</td>\n",
              "      <td>NaN</td>\n",
              "      <td>NaN</td>\n",
              "      <td>NaN</td>\n",
              "      <td>NaN</td>\n",
              "      <td>NaN</td>\n",
              "      <td>NaN</td>\n",
              "      <td>NaN</td>\n",
              "      <td>NaN</td>\n",
              "      <td>NaN</td>\n",
              "      <td>NaN</td>\n",
              "      <td>NaN</td>\n",
              "      <td>NaN</td>\n",
              "      <td>NaN</td>\n",
              "      <td>NaN</td>\n",
              "      <td>NaN</td>\n",
              "      <td>NaN</td>\n",
              "      <td>NaN</td>\n",
              "      <td>NaN</td>\n",
              "      <td>NaN</td>\n",
              "      <td>NaN</td>\n",
              "      <td>NaN</td>\n",
              "      <td>NaN</td>\n",
              "      <td>NaN</td>\n",
              "      <td>NaN</td>\n",
              "      <td>NaN</td>\n",
              "      <td>NaN</td>\n",
              "      <td>NaN</td>\n",
              "      <td>NaN</td>\n",
              "      <td>NaN</td>\n",
              "    </tr>\n",
              "  </tbody>\n",
              "</table>\n",
              "<p>2 rows × 3665 columns</p>\n",
              "</div>\n",
              "      <button class=\"colab-df-convert\" onclick=\"convertToInteractive('df-8a9c86f5-f36e-45b8-922a-16de70700f34')\"\n",
              "              title=\"Convert this dataframe to an interactive table.\"\n",
              "              style=\"display:none;\">\n",
              "        \n",
              "  <svg xmlns=\"http://www.w3.org/2000/svg\" height=\"24px\"viewBox=\"0 0 24 24\"\n",
              "       width=\"24px\">\n",
              "    <path d=\"M0 0h24v24H0V0z\" fill=\"none\"/>\n",
              "    <path d=\"M18.56 5.44l.94 2.06.94-2.06 2.06-.94-2.06-.94-.94-2.06-.94 2.06-2.06.94zm-11 1L8.5 8.5l.94-2.06 2.06-.94-2.06-.94L8.5 2.5l-.94 2.06-2.06.94zm10 10l.94 2.06.94-2.06 2.06-.94-2.06-.94-.94-2.06-.94 2.06-2.06.94z\"/><path d=\"M17.41 7.96l-1.37-1.37c-.4-.4-.92-.59-1.43-.59-.52 0-1.04.2-1.43.59L10.3 9.45l-7.72 7.72c-.78.78-.78 2.05 0 2.83L4 21.41c.39.39.9.59 1.41.59.51 0 1.02-.2 1.41-.59l7.78-7.78 2.81-2.81c.8-.78.8-2.07 0-2.86zM5.41 20L4 18.59l7.72-7.72 1.47 1.35L5.41 20z\"/>\n",
              "  </svg>\n",
              "      </button>\n",
              "      \n",
              "  <style>\n",
              "    .colab-df-container {\n",
              "      display:flex;\n",
              "      flex-wrap:wrap;\n",
              "      gap: 12px;\n",
              "    }\n",
              "\n",
              "    .colab-df-convert {\n",
              "      background-color: #E8F0FE;\n",
              "      border: none;\n",
              "      border-radius: 50%;\n",
              "      cursor: pointer;\n",
              "      display: none;\n",
              "      fill: #1967D2;\n",
              "      height: 32px;\n",
              "      padding: 0 0 0 0;\n",
              "      width: 32px;\n",
              "    }\n",
              "\n",
              "    .colab-df-convert:hover {\n",
              "      background-color: #E2EBFA;\n",
              "      box-shadow: 0px 1px 2px rgba(60, 64, 67, 0.3), 0px 1px 3px 1px rgba(60, 64, 67, 0.15);\n",
              "      fill: #174EA6;\n",
              "    }\n",
              "\n",
              "    [theme=dark] .colab-df-convert {\n",
              "      background-color: #3B4455;\n",
              "      fill: #D2E3FC;\n",
              "    }\n",
              "\n",
              "    [theme=dark] .colab-df-convert:hover {\n",
              "      background-color: #434B5C;\n",
              "      box-shadow: 0px 1px 3px 1px rgba(0, 0, 0, 0.15);\n",
              "      filter: drop-shadow(0px 1px 2px rgba(0, 0, 0, 0.3));\n",
              "      fill: #FFFFFF;\n",
              "    }\n",
              "  </style>\n",
              "\n",
              "      <script>\n",
              "        const buttonEl =\n",
              "          document.querySelector('#df-8a9c86f5-f36e-45b8-922a-16de70700f34 button.colab-df-convert');\n",
              "        buttonEl.style.display =\n",
              "          google.colab.kernel.accessAllowed ? 'block' : 'none';\n",
              "\n",
              "        async function convertToInteractive(key) {\n",
              "          const element = document.querySelector('#df-8a9c86f5-f36e-45b8-922a-16de70700f34');\n",
              "          const dataTable =\n",
              "            await google.colab.kernel.invokeFunction('convertToInteractive',\n",
              "                                                     [key], {});\n",
              "          if (!dataTable) return;\n",
              "\n",
              "          const docLinkHtml = 'Like what you see? Visit the ' +\n",
              "            '<a target=\"_blank\" href=https://colab.research.google.com/notebooks/data_table.ipynb>data table notebook</a>'\n",
              "            + ' to learn more about interactive tables.';\n",
              "          element.innerHTML = '';\n",
              "          dataTable['output_type'] = 'display_data';\n",
              "          await google.colab.output.renderOutput(dataTable, element);\n",
              "          const docLink = document.createElement('div');\n",
              "          docLink.innerHTML = docLinkHtml;\n",
              "          element.appendChild(docLink);\n",
              "        }\n",
              "      </script>\n",
              "    </div>\n",
              "  </div>\n",
              "  "
            ],
            "text/plain": [
              "Indicator Code  UIS.NERA.2  ...  SE.ADT.1524.LT.MA.ZS\n",
              "1970                   NaN  ...                   NaN\n",
              "1971                   NaN  ...                   NaN\n",
              "\n",
              "[2 rows x 3665 columns]"
            ]
          },
          "metadata": {},
          "execution_count": 43
        }
      ]
    },
    {
      "cell_type": "code",
      "source": [
        "# Many of the features have null values\n",
        "# We will drop the indicators with all null values\n",
        "for k in list(dict_of_clean_df.keys()):\n",
        "  new_df = dict_of_clean_df.get(k).dropna(axis=1, how='all')\n",
        "  dict_of_clean_df.update({k:new_df})"
      ],
      "metadata": {
        "id": "kEuGP9xjwHkC"
      },
      "execution_count": 44,
      "outputs": []
    },
    {
      "cell_type": "code",
      "source": [
        "dict_of_clean_df.get('EMU').head(2)"
      ],
      "metadata": {
        "id": "tAF2FKEcLDk0",
        "colab": {
          "base_uri": "https://localhost:8080/",
          "height": 222
        },
        "outputId": "ab0183b8-1890-448c-ffe0-ebe4375b3814"
      },
      "execution_count": 45,
      "outputs": [
        {
          "output_type": "execute_result",
          "data": {
            "text/html": [
              "\n",
              "  <div id=\"df-a6c7973f-09a0-437b-968a-5c91c7ef0148\">\n",
              "    <div class=\"colab-df-container\">\n",
              "      <div>\n",
              "<style scoped>\n",
              "    .dataframe tbody tr th:only-of-type {\n",
              "        vertical-align: middle;\n",
              "    }\n",
              "\n",
              "    .dataframe tbody tr th {\n",
              "        vertical-align: top;\n",
              "    }\n",
              "\n",
              "    .dataframe thead th {\n",
              "        text-align: right;\n",
              "    }\n",
              "</style>\n",
              "<table border=\"1\" class=\"dataframe\">\n",
              "  <thead>\n",
              "    <tr style=\"text-align: right;\">\n",
              "      <th>Indicator Code</th>\n",
              "      <th>SE.PRM.TENR</th>\n",
              "      <th>SE.PRM.TENR.FE</th>\n",
              "      <th>UIS.NERA.1.GPI</th>\n",
              "      <th>SE.PRM.TENR.MA</th>\n",
              "      <th>UIS.NIRA.1</th>\n",
              "      <th>UIS.NIRA.1.F</th>\n",
              "      <th>UIS.NIRA.1.GPI</th>\n",
              "      <th>UIS.NIRA.1.M</th>\n",
              "      <th>SE.PRM.DROP.ZS</th>\n",
              "      <th>SE.PRM.DROP.FE.ZS</th>\n",
              "      <th>SE.PRM.DROP.MA.ZS</th>\n",
              "      <th>UIS.ESL.1.T</th>\n",
              "      <th>UIS.ESL.1.F</th>\n",
              "      <th>UIS.ESL.1.M</th>\n",
              "      <th>SE.SEC.PROG.ZS</th>\n",
              "      <th>SE.SEC.PROG.FE.ZS</th>\n",
              "      <th>UIS.TRANRA.23.GPV.GPI</th>\n",
              "      <th>SE.SEC.PROG.MA.ZS</th>\n",
              "      <th>UIS.E.0.PR.T</th>\n",
              "      <th>UIS.E.1.G1</th>\n",
              "      <th>UIS.E.1.G1.F</th>\n",
              "      <th>UIS.E.1.G2</th>\n",
              "      <th>UIS.E.1.G2.F</th>\n",
              "      <th>UIS.E.1.G3</th>\n",
              "      <th>UIS.E.1.G3.F</th>\n",
              "      <th>UIS.E.1.G4</th>\n",
              "      <th>UIS.E.1.G4.F</th>\n",
              "      <th>UIS.E.1.G5</th>\n",
              "      <th>UIS.E.1.G5.F</th>\n",
              "      <th>UIS.E.1.G6</th>\n",
              "      <th>UIS.E.1.G6.F</th>\n",
              "      <th>UIS.E.1.G7</th>\n",
              "      <th>UIS.E.1.G7.F</th>\n",
              "      <th>UIS.E.2</th>\n",
              "      <th>UIS.E.2.F</th>\n",
              "      <th>UIS.E.2.GPV</th>\n",
              "      <th>UIS.E.2.GPV.F</th>\n",
              "      <th>UIS.E.2.V</th>\n",
              "      <th>UIS.E.2.V.F</th>\n",
              "      <th>UIS.E.4</th>\n",
              "      <th>...</th>\n",
              "      <th>SE.SCH.LIFE.FE</th>\n",
              "      <th>UIS.SLE.1T6.GPI</th>\n",
              "      <th>SE.SCH.LIFE.MA</th>\n",
              "      <th>UIS.SLE.1</th>\n",
              "      <th>UIS.SLE.1.F</th>\n",
              "      <th>UIS.SLE.1.M</th>\n",
              "      <th>UIS.SLE.56</th>\n",
              "      <th>UIS.SLE.56.F</th>\n",
              "      <th>UIS.SLE.56.GPI</th>\n",
              "      <th>UIS.SLE.56.M</th>\n",
              "      <th>SL.UEM.NEET.FE.ZS</th>\n",
              "      <th>SL.UEM.NEET.MA.ZS</th>\n",
              "      <th>SL.UEM.NEET.ZS</th>\n",
              "      <th>SE.PRM.PRSL.ZS</th>\n",
              "      <th>SE.PRM.PRSL.FE.ZS</th>\n",
              "      <th>UIS.SR.1.GLAST.GPI</th>\n",
              "      <th>SE.PRM.PRSL.MA.ZS</th>\n",
              "      <th>UIS.T.2</th>\n",
              "      <th>UIS.T.2.F</th>\n",
              "      <th>SE.PRE.TCHR</th>\n",
              "      <th>SE.PRE.TCHR.FE</th>\n",
              "      <th>SE.PRM.TCHR</th>\n",
              "      <th>SE.PRM.TCHR.FE</th>\n",
              "      <th>SE.SEC.TCHR</th>\n",
              "      <th>SE.SEC.TCHR.FE</th>\n",
              "      <th>SE.TER.TCHR</th>\n",
              "      <th>SE.TER.TCHR.FE</th>\n",
              "      <th>UIS.T.3</th>\n",
              "      <th>UIS.T.3.F</th>\n",
              "      <th>UIS.MS.56.T</th>\n",
              "      <th>UIS.MS.56.F</th>\n",
              "      <th>UIS.NERT.2</th>\n",
              "      <th>UIS.NERT.2.F</th>\n",
              "      <th>UIS.NERT.2.GPI</th>\n",
              "      <th>UIS.NERT.2.M</th>\n",
              "      <th>UIS.NERT.1.GPI</th>\n",
              "      <th>UIS.OE.56.40510</th>\n",
              "      <th>SL.UEM.TOTL.FE.ZS</th>\n",
              "      <th>SL.UEM.TOTL.MA.ZS</th>\n",
              "      <th>SL.UEM.TOTL.ZS</th>\n",
              "    </tr>\n",
              "  </thead>\n",
              "  <tbody>\n",
              "    <tr>\n",
              "      <th>1970</th>\n",
              "      <td>95.223793</td>\n",
              "      <td>95.724380</td>\n",
              "      <td>1.01033</td>\n",
              "      <td>94.745872</td>\n",
              "      <td>93.011223</td>\n",
              "      <td>94.022514</td>\n",
              "      <td>1.02105</td>\n",
              "      <td>92.083961</td>\n",
              "      <td>10.81142</td>\n",
              "      <td>9.99881</td>\n",
              "      <td>11.58985</td>\n",
              "      <td>5308525.0</td>\n",
              "      <td>2597234.0</td>\n",
              "      <td>2711291.0</td>\n",
              "      <td>NaN</td>\n",
              "      <td>NaN</td>\n",
              "      <td>NaN</td>\n",
              "      <td>NaN</td>\n",
              "      <td>4402853.5</td>\n",
              "      <td>5868210.5</td>\n",
              "      <td>2836434.50</td>\n",
              "      <td>5281710.0</td>\n",
              "      <td>2574236.00</td>\n",
              "      <td>5119245.0</td>\n",
              "      <td>2502215.25</td>\n",
              "      <td>5025279.5</td>\n",
              "      <td>2459203.25</td>\n",
              "      <td>2909821.75</td>\n",
              "      <td>1432276.375</td>\n",
              "      <td>761806.875</td>\n",
              "      <td>373578.06250</td>\n",
              "      <td>NaN</td>\n",
              "      <td>NaN</td>\n",
              "      <td>NaN</td>\n",
              "      <td>NaN</td>\n",
              "      <td>NaN</td>\n",
              "      <td>NaN</td>\n",
              "      <td>NaN</td>\n",
              "      <td>NaN</td>\n",
              "      <td>NaN</td>\n",
              "      <td>...</td>\n",
              "      <td>12.023778</td>\n",
              "      <td>0.94888</td>\n",
              "      <td>12.671580</td>\n",
              "      <td>5.213742</td>\n",
              "      <td>5.217101</td>\n",
              "      <td>5.208364</td>\n",
              "      <td>0.987832</td>\n",
              "      <td>0.820651</td>\n",
              "      <td>0.71454</td>\n",
              "      <td>1.148496</td>\n",
              "      <td>NaN</td>\n",
              "      <td>NaN</td>\n",
              "      <td>NaN</td>\n",
              "      <td>89.188583</td>\n",
              "      <td>90.001190</td>\n",
              "      <td>1.01800</td>\n",
              "      <td>88.410149</td>\n",
              "      <td>NaN</td>\n",
              "      <td>NaN</td>\n",
              "      <td>456537.40625</td>\n",
              "      <td>NaN</td>\n",
              "      <td>1134115.375</td>\n",
              "      <td>822033.8750</td>\n",
              "      <td>1746148.625</td>\n",
              "      <td>NaN</td>\n",
              "      <td>NaN</td>\n",
              "      <td>NaN</td>\n",
              "      <td>NaN</td>\n",
              "      <td>NaN</td>\n",
              "      <td>NaN</td>\n",
              "      <td>NaN</td>\n",
              "      <td>NaN</td>\n",
              "      <td>NaN</td>\n",
              "      <td>NaN</td>\n",
              "      <td>NaN</td>\n",
              "      <td>1.01024</td>\n",
              "      <td>NaN</td>\n",
              "      <td>NaN</td>\n",
              "      <td>NaN</td>\n",
              "      <td>NaN</td>\n",
              "    </tr>\n",
              "    <tr>\n",
              "      <th>1971</th>\n",
              "      <td>95.229301</td>\n",
              "      <td>95.728973</td>\n",
              "      <td>1.01030</td>\n",
              "      <td>94.752632</td>\n",
              "      <td>93.027794</td>\n",
              "      <td>94.040436</td>\n",
              "      <td>1.02109</td>\n",
              "      <td>92.098228</td>\n",
              "      <td>10.88637</td>\n",
              "      <td>10.07838</td>\n",
              "      <td>11.65902</td>\n",
              "      <td>577318.0</td>\n",
              "      <td>261229.0</td>\n",
              "      <td>316090.0</td>\n",
              "      <td>NaN</td>\n",
              "      <td>NaN</td>\n",
              "      <td>NaN</td>\n",
              "      <td>NaN</td>\n",
              "      <td>4373981.0</td>\n",
              "      <td>5902221.5</td>\n",
              "      <td>2852901.75</td>\n",
              "      <td>5336225.0</td>\n",
              "      <td>2600765.75</td>\n",
              "      <td>5189337.5</td>\n",
              "      <td>2536433.75</td>\n",
              "      <td>5107874.5</td>\n",
              "      <td>2499627.75</td>\n",
              "      <td>2954288.25</td>\n",
              "      <td>1454195.000</td>\n",
              "      <td>910445.250</td>\n",
              "      <td>441093.09375</td>\n",
              "      <td>NaN</td>\n",
              "      <td>NaN</td>\n",
              "      <td>NaN</td>\n",
              "      <td>NaN</td>\n",
              "      <td>NaN</td>\n",
              "      <td>NaN</td>\n",
              "      <td>NaN</td>\n",
              "      <td>NaN</td>\n",
              "      <td>NaN</td>\n",
              "      <td>...</td>\n",
              "      <td>11.890994</td>\n",
              "      <td>0.94694</td>\n",
              "      <td>12.557339</td>\n",
              "      <td>5.213466</td>\n",
              "      <td>5.216953</td>\n",
              "      <td>5.207956</td>\n",
              "      <td>0.991819</td>\n",
              "      <td>0.824444</td>\n",
              "      <td>0.71531</td>\n",
              "      <td>1.152574</td>\n",
              "      <td>NaN</td>\n",
              "      <td>NaN</td>\n",
              "      <td>NaN</td>\n",
              "      <td>89.113632</td>\n",
              "      <td>89.921623</td>\n",
              "      <td>1.01789</td>\n",
              "      <td>88.340981</td>\n",
              "      <td>NaN</td>\n",
              "      <td>NaN</td>\n",
              "      <td>453575.84375</td>\n",
              "      <td>NaN</td>\n",
              "      <td>1148791.125</td>\n",
              "      <td>833242.1875</td>\n",
              "      <td>1768707.125</td>\n",
              "      <td>NaN</td>\n",
              "      <td>NaN</td>\n",
              "      <td>NaN</td>\n",
              "      <td>NaN</td>\n",
              "      <td>NaN</td>\n",
              "      <td>NaN</td>\n",
              "      <td>NaN</td>\n",
              "      <td>NaN</td>\n",
              "      <td>NaN</td>\n",
              "      <td>NaN</td>\n",
              "      <td>NaN</td>\n",
              "      <td>1.01030</td>\n",
              "      <td>NaN</td>\n",
              "      <td>NaN</td>\n",
              "      <td>NaN</td>\n",
              "      <td>NaN</td>\n",
              "    </tr>\n",
              "  </tbody>\n",
              "</table>\n",
              "<p>2 rows × 349 columns</p>\n",
              "</div>\n",
              "      <button class=\"colab-df-convert\" onclick=\"convertToInteractive('df-a6c7973f-09a0-437b-968a-5c91c7ef0148')\"\n",
              "              title=\"Convert this dataframe to an interactive table.\"\n",
              "              style=\"display:none;\">\n",
              "        \n",
              "  <svg xmlns=\"http://www.w3.org/2000/svg\" height=\"24px\"viewBox=\"0 0 24 24\"\n",
              "       width=\"24px\">\n",
              "    <path d=\"M0 0h24v24H0V0z\" fill=\"none\"/>\n",
              "    <path d=\"M18.56 5.44l.94 2.06.94-2.06 2.06-.94-2.06-.94-.94-2.06-.94 2.06-2.06.94zm-11 1L8.5 8.5l.94-2.06 2.06-.94-2.06-.94L8.5 2.5l-.94 2.06-2.06.94zm10 10l.94 2.06.94-2.06 2.06-.94-2.06-.94-.94-2.06-.94 2.06-2.06.94z\"/><path d=\"M17.41 7.96l-1.37-1.37c-.4-.4-.92-.59-1.43-.59-.52 0-1.04.2-1.43.59L10.3 9.45l-7.72 7.72c-.78.78-.78 2.05 0 2.83L4 21.41c.39.39.9.59 1.41.59.51 0 1.02-.2 1.41-.59l7.78-7.78 2.81-2.81c.8-.78.8-2.07 0-2.86zM5.41 20L4 18.59l7.72-7.72 1.47 1.35L5.41 20z\"/>\n",
              "  </svg>\n",
              "      </button>\n",
              "      \n",
              "  <style>\n",
              "    .colab-df-container {\n",
              "      display:flex;\n",
              "      flex-wrap:wrap;\n",
              "      gap: 12px;\n",
              "    }\n",
              "\n",
              "    .colab-df-convert {\n",
              "      background-color: #E8F0FE;\n",
              "      border: none;\n",
              "      border-radius: 50%;\n",
              "      cursor: pointer;\n",
              "      display: none;\n",
              "      fill: #1967D2;\n",
              "      height: 32px;\n",
              "      padding: 0 0 0 0;\n",
              "      width: 32px;\n",
              "    }\n",
              "\n",
              "    .colab-df-convert:hover {\n",
              "      background-color: #E2EBFA;\n",
              "      box-shadow: 0px 1px 2px rgba(60, 64, 67, 0.3), 0px 1px 3px 1px rgba(60, 64, 67, 0.15);\n",
              "      fill: #174EA6;\n",
              "    }\n",
              "\n",
              "    [theme=dark] .colab-df-convert {\n",
              "      background-color: #3B4455;\n",
              "      fill: #D2E3FC;\n",
              "    }\n",
              "\n",
              "    [theme=dark] .colab-df-convert:hover {\n",
              "      background-color: #434B5C;\n",
              "      box-shadow: 0px 1px 3px 1px rgba(0, 0, 0, 0.15);\n",
              "      filter: drop-shadow(0px 1px 2px rgba(0, 0, 0, 0.3));\n",
              "      fill: #FFFFFF;\n",
              "    }\n",
              "  </style>\n",
              "\n",
              "      <script>\n",
              "        const buttonEl =\n",
              "          document.querySelector('#df-a6c7973f-09a0-437b-968a-5c91c7ef0148 button.colab-df-convert');\n",
              "        buttonEl.style.display =\n",
              "          google.colab.kernel.accessAllowed ? 'block' : 'none';\n",
              "\n",
              "        async function convertToInteractive(key) {\n",
              "          const element = document.querySelector('#df-a6c7973f-09a0-437b-968a-5c91c7ef0148');\n",
              "          const dataTable =\n",
              "            await google.colab.kernel.invokeFunction('convertToInteractive',\n",
              "                                                     [key], {});\n",
              "          if (!dataTable) return;\n",
              "\n",
              "          const docLinkHtml = 'Like what you see? Visit the ' +\n",
              "            '<a target=\"_blank\" href=https://colab.research.google.com/notebooks/data_table.ipynb>data table notebook</a>'\n",
              "            + ' to learn more about interactive tables.';\n",
              "          element.innerHTML = '';\n",
              "          dataTable['output_type'] = 'display_data';\n",
              "          await google.colab.output.renderOutput(dataTable, element);\n",
              "          const docLink = document.createElement('div');\n",
              "          docLink.innerHTML = docLinkHtml;\n",
              "          element.appendChild(docLink);\n",
              "        }\n",
              "      </script>\n",
              "    </div>\n",
              "  </div>\n",
              "  "
            ],
            "text/plain": [
              "Indicator Code  SE.PRM.TENR  SE.PRM.TENR.FE  ...  SL.UEM.TOTL.MA.ZS  SL.UEM.TOTL.ZS\n",
              "1970              95.223793       95.724380  ...                NaN             NaN\n",
              "1971              95.229301       95.728973  ...                NaN             NaN\n",
              "\n",
              "[2 rows x 349 columns]"
            ]
          },
          "metadata": {},
          "execution_count": 45
        }
      ]
    },
    {
      "cell_type": "code",
      "source": [
        "# Imputation with mean\n",
        "for k in list(dict_of_clean_df.keys()):\n",
        "  new_df=dict_of_clean_df.get(k)\n",
        "  for column_name in new_df.columns:\n",
        "    new_df[column_name]=new_df[column_name].fillna(new_df[column_name].mean())\n",
        "  dict_of_clean_df.update({k:new_df})"
      ],
      "metadata": {
        "id": "_vl4gfs4LRC_"
      },
      "execution_count": 46,
      "outputs": []
    },
    {
      "cell_type": "code",
      "source": [
        "dict_of_clean_df.get('EMU').isnull().sum()"
      ],
      "metadata": {
        "colab": {
          "base_uri": "https://localhost:8080/"
        },
        "id": "-0VtovJ5L4hs",
        "outputId": "3343077f-6d03-422b-e746-6d458f1a9df1"
      },
      "execution_count": 47,
      "outputs": [
        {
          "output_type": "execute_result",
          "data": {
            "text/plain": [
              "Indicator Code\n",
              "SE.PRM.TENR          0\n",
              "SE.PRM.TENR.FE       0\n",
              "UIS.NERA.1.GPI       0\n",
              "SE.PRM.TENR.MA       0\n",
              "UIS.NIRA.1           0\n",
              "                    ..\n",
              "UIS.NERT.1.GPI       0\n",
              "UIS.OE.56.40510      0\n",
              "SL.UEM.TOTL.FE.ZS    0\n",
              "SL.UEM.TOTL.MA.ZS    0\n",
              "SL.UEM.TOTL.ZS       0\n",
              "Length: 349, dtype: int64"
            ]
          },
          "metadata": {},
          "execution_count": 47
        }
      ]
    },
    {
      "cell_type": "code",
      "source": [
        "# To find the major countries with most important features, we will delete the countries with less than 1000 features\n",
        "for k in list(dict_of_clean_df.keys()):\n",
        "  if len(dict_of_clean_df.get(k).columns)<1000:\n",
        "    del dict_of_clean_df[k]"
      ],
      "metadata": {
        "id": "oaqso_-nMCQg"
      },
      "execution_count": 48,
      "outputs": []
    },
    {
      "cell_type": "code",
      "source": [
        "feature_len_list=[len(dict_of_clean_df.get(k).columns) for k in list(dict_of_clean_df.keys())]\n",
        "print(sorted(feature_len_list))\n",
        "print(len(feature_len_list))"
      ],
      "metadata": {
        "colab": {
          "base_uri": "https://localhost:8080/"
        },
        "id": "BoqJowtANSqE",
        "outputId": "f1980c40-ece6-41a3-e203-e322da3fa361"
      },
      "execution_count": 49,
      "outputs": [
        {
          "output_type": "stream",
          "name": "stdout",
          "text": [
            "[1046, 1080, 1092, 1108, 1112, 1117, 1121, 1149, 1153, 1195, 1228, 1244, 1259, 1277, 1293, 1308, 1343, 1365, 1370, 1387, 1387, 1393, 1417, 1428, 1429, 1430, 1452, 1479, 1487, 1501, 1530, 1544, 1547, 1578, 1582, 1584, 1616, 1620, 1630, 1630, 1691, 1703, 1703, 1713, 1724, 1728, 1762, 1762, 1766, 1766, 1782, 1793, 1800, 1805, 1812, 1813, 1814, 1815, 1823, 1830, 1838, 1840, 1841, 1841, 1843, 1846, 1849, 1852, 1853, 1857, 1860, 1860, 1863, 1864, 1868, 1870, 1877, 1893, 1903, 1906, 1908, 1914, 1915, 1920, 1921, 1927, 1941, 1942, 1944, 1947, 1949, 1952, 1953, 1953, 1954, 1958, 1958, 1961, 1961, 1964, 1966, 1975, 1978, 1979, 1982, 1982, 1985, 1987, 1987, 1992, 1992, 1992, 1995, 1997, 2001, 2002, 2002, 2003, 2005, 2005, 2005, 2014, 2015, 2017, 2021, 2023, 2026, 2027, 2028, 2035, 2040, 2050, 2060, 2063, 2073, 2074, 2075, 2078, 2083, 2085, 2087, 2093, 2094, 2097, 2108, 2108, 2123, 2128, 2134, 2144, 2148, 2151, 2158, 2161, 2165, 2174, 2190, 2201, 2204, 2204, 2211, 2212, 2215, 2217, 2217, 2223, 2224, 2248, 2266, 2269, 2274, 2300, 2303, 2313, 2368, 2410, 2462]\n",
            "177\n"
          ]
        }
      ]
    },
    {
      "cell_type": "code",
      "source": [
        "# List of selected countries\n",
        "list_of_countries2=[dict_of_countries.get(k) for k in list(dict_of_clean_df.keys())]"
      ],
      "metadata": {
        "id": "SzXI2JZzOGmh"
      },
      "execution_count": 50,
      "outputs": []
    },
    {
      "cell_type": "code",
      "source": [
        "# Checking is there any common indicator among the countries\n",
        "set_list=[set(dict_of_clean_df.get(k).columns) for k in list(dict_of_clean_df.keys())]\n",
        "important_features=list(set.intersection(*set_list))"
      ],
      "metadata": {
        "id": "1GLxfBUpOwSJ"
      },
      "execution_count": 51,
      "outputs": []
    },
    {
      "cell_type": "code",
      "source": [
        "ed_features=list(set(important_features)-set(common_features))\n",
        "len(ed_features)"
      ],
      "metadata": {
        "id": "V927yYP-Du-f",
        "colab": {
          "base_uri": "https://localhost:8080/"
        },
        "outputId": "fd25438e-a8d7-4546-c67e-aaf282e98fa3"
      },
      "execution_count": 52,
      "outputs": [
        {
          "output_type": "execute_result",
          "data": {
            "text/plain": [
              "33"
            ]
          },
          "metadata": {},
          "execution_count": 52
        }
      ]
    },
    {
      "cell_type": "markdown",
      "source": [
        "**Thus, we are selecting 33 educational features among 177 countries**"
      ],
      "metadata": {
        "id": "fb3s6LwhJkuV"
      }
    },
    {
      "cell_type": "code",
      "source": [
        "# updating the data frames with educational features\n",
        "for k in list(dict_of_clean_df.keys()):\n",
        "  dict_of_clean_df.update({k:dict_of_clean_df.get(k)[ed_features]})"
      ],
      "metadata": {
        "id": "tx_TSnOEOLT3"
      },
      "execution_count": 53,
      "outputs": []
    },
    {
      "cell_type": "code",
      "source": [
        "# List of important features\n",
        "ed_feature_names=[]\n",
        "for k in ed_features:\n",
        "  ed_feature_names.append(dict_of_indicators.get(k))\n",
        "ed_feature_names"
      ],
      "metadata": {
        "colab": {
          "base_uri": "https://localhost:8080/"
        },
        "id": "IIcgz95nPBTA",
        "outputId": "8a256ee8-66b0-48c9-9843-8bce2e97cc17"
      },
      "execution_count": 54,
      "outputs": [
        {
          "output_type": "execute_result",
          "data": {
            "text/plain": [
              "['GDP per capita (current US$)',\n",
              " 'Percentage of students in primary education who are female (%)',\n",
              " 'Enrolment in secondary vocational, both sexes (number)',\n",
              " 'Percentage of enrolment in pre-primary education in private institutions (%)',\n",
              " 'Enrolment in secondary vocational, female (number)',\n",
              " 'Enrolment in tertiary education, all programmes, both sexes (number)',\n",
              " 'Theoretical duration of upper secondary education (years)',\n",
              " 'Theoretical duration of pre-primary education (years)',\n",
              " 'Percentage of students in secondary education enrolled in general programmes, both sexes (%)',\n",
              " 'Gross enrolment ratio, tertiary, both sexes (%)',\n",
              " 'School life expectancy, tertiary, both sexes (years)',\n",
              " 'Population of the official age for tertiary education, female (number)',\n",
              " 'Percentage of students in secondary general education who are female (%)',\n",
              " 'Enrolment in secondary education, both sexes (number)',\n",
              " 'Official entrance age to primary education (years)',\n",
              " 'Enrolment in tertiary education, all programmes, female (number)',\n",
              " 'Enrolment in primary education, both sexes (number)',\n",
              " 'Enrolment in primary education, female (number)',\n",
              " 'Enrolment in pre-primary education, both sexes (number)',\n",
              " 'Population of the official age for tertiary education, male (number)',\n",
              " 'Population of the official age for tertiary education, both sexes (number)',\n",
              " 'Theoretical duration of primary education (years)',\n",
              " 'Enrolment in secondary general, both sexes (number)',\n",
              " 'GDP at market prices (current US$)',\n",
              " 'Percentage of students in secondary education enrolled in vocational programmes, both sexes (%)',\n",
              " 'Percentage of students in tertiary education who are female (%)',\n",
              " 'Theoretical duration of secondary education (years)',\n",
              " 'Official entrance age to upper secondary education (years)',\n",
              " 'Official entrance age to pre-primary education (years)',\n",
              " 'Theoretical duration of lower secondary education (years)',\n",
              " 'Enrolment in secondary general, female (number)',\n",
              " 'Internet users (per 100 people)',\n",
              " 'Official entrance age to lower secondary education (years)']"
            ]
          },
          "metadata": {},
          "execution_count": 54
        }
      ]
    },
    {
      "cell_type": "code",
      "source": [
        "# Checking zero values in the filtered df\n",
        "print(\"There are zero values in following countries:\\n\")\n",
        "for k in list(dict_of_clean_df.keys()):\n",
        "    if 0 in dict_of_clean_df.get(k).values:\n",
        "      print(k,end=' ')"
      ],
      "metadata": {
        "colab": {
          "base_uri": "https://localhost:8080/"
        },
        "id": "aoL9IucAbNRc",
        "outputId": "90db437b-f16b-4c85-e7d6-6b6780e10590"
      },
      "execution_count": 55,
      "outputs": [
        {
          "output_type": "stream",
          "name": "stdout",
          "text": [
            "There are zero values in following countries:\n",
            "\n",
            "AFG ALB DZA ARG ARM ABW AZE BHS BHR BGD BRB BLR BLZ BEN BTN BOL BIH BWA BRA BRN BGR BFA BDI CPV KHM CMR CAN CAF TCD CHL CHN COL COM COD COG CRI CIV HRV CUB CYP CZE DJI DOM ECU EGY SLV GNQ ERI EST ETH FJI FIN GAB GMB GEO GHA GRC GTM GIN GNB GUY HTI HND HKG HUN ISL IND IDN IRN IRQ IRL JAM JOR KAZ KEN KWT KGZ LAO LVA LBN LSO LBR LBY LTU LUX MAC MKD MDG MWI MYS MDV MLI MLT MRT MUS MEX MDA MNG MAR MOZ MMR NAM NPL NZL NIC NER NGA OMN PAK PAN PNG PRY PER PHL POL PRT QAT ROU RUS RWA WSM STP SAU SEN SYC SLE SGP SVK SVN ZAF LKA LCA VCT SDN SUR SWZ SYR TJK TZA THA TLS TGO TON TTO TUN TUR UGA UKR ARE USA URY UZB VUT VEN VNM PSE YEM ZMB ZWE "
          ]
        }
      ]
    },
    {
      "cell_type": "code",
      "source": [
        "# Imputation of zero values with mean\n",
        "for k in list(dict_of_clean_df.keys()):\n",
        "  if 0 in dict_of_clean_df.get(k).values:\n",
        "    new_df=dict_of_clean_df.get(k)\n",
        "    for column_name in new_df.columns:\n",
        "     for i in new_df.index:\n",
        "      if new_df[column_name].loc[i]==0:\n",
        "        new_df[column_name].loc[i]=new_df[column_name].mean()\n",
        "    dict_of_clean_df.update({k:new_df})"
      ],
      "metadata": {
        "id": "V3YDzVvgb9HQ"
      },
      "execution_count": 56,
      "outputs": []
    },
    {
      "cell_type": "code",
      "source": [
        "# Checking zero values in the filtered df\n",
        "print(\"There are zero values in following countries:\\n\")\n",
        "for k in list(dict_of_clean_df.keys()):\n",
        "    if 0 in dict_of_clean_df.get(k).values:\n",
        "      print(k,end=' ')"
      ],
      "metadata": {
        "colab": {
          "base_uri": "https://localhost:8080/"
        },
        "id": "gqpU_EAJifHk",
        "outputId": "c559c44e-73ce-4899-9b3d-391c770f311c"
      },
      "execution_count": 57,
      "outputs": [
        {
          "output_type": "stream",
          "name": "stdout",
          "text": [
            "There are zero values in following countries:\n",
            "\n",
            "AFG BHS CUB PHL TJK USA "
          ]
        }
      ]
    },
    {
      "cell_type": "code",
      "source": [
        "# Creating a df for last five years mean statistics for all countries\n",
        "five_years_stat_df=pd.DataFrame(columns=ed_features,index=list(dict_of_clean_df.keys()))\n",
        "for k in list(dict_of_clean_df.keys()):\n",
        "  five_years_stat_df.loc[k]=dict_of_clean_df.get(k).iloc[-5:].mean()\n",
        "five_years_stat_df.columns=ed_feature_names\n",
        "five_years_stat_df.index=list_of_countries2"
      ],
      "metadata": {
        "id": "A7XvdB-3JARM"
      },
      "execution_count": 58,
      "outputs": []
    },
    {
      "cell_type": "code",
      "source": [
        "five_years_stat_df.iloc[five_years_stat_df.index=='Afghanistan']"
      ],
      "metadata": {
        "colab": {
          "base_uri": "https://localhost:8080/",
          "height": 301
        },
        "id": "gC7y0O7XIv-_",
        "outputId": "ff9470ed-92d5-40d7-9517-9e19439811b4"
      },
      "execution_count": 59,
      "outputs": [
        {
          "output_type": "execute_result",
          "data": {
            "text/html": [
              "\n",
              "  <div id=\"df-1ef124a2-7f38-44d8-8e58-a38a653606e9\">\n",
              "    <div class=\"colab-df-container\">\n",
              "      <div>\n",
              "<style scoped>\n",
              "    .dataframe tbody tr th:only-of-type {\n",
              "        vertical-align: middle;\n",
              "    }\n",
              "\n",
              "    .dataframe tbody tr th {\n",
              "        vertical-align: top;\n",
              "    }\n",
              "\n",
              "    .dataframe thead th {\n",
              "        text-align: right;\n",
              "    }\n",
              "</style>\n",
              "<table border=\"1\" class=\"dataframe\">\n",
              "  <thead>\n",
              "    <tr style=\"text-align: right;\">\n",
              "      <th></th>\n",
              "      <th>GDP per capita (current US$)</th>\n",
              "      <th>Percentage of students in primary education who are female (%)</th>\n",
              "      <th>Enrolment in secondary vocational, both sexes (number)</th>\n",
              "      <th>Percentage of enrolment in pre-primary education in private institutions (%)</th>\n",
              "      <th>Enrolment in secondary vocational, female (number)</th>\n",
              "      <th>Enrolment in tertiary education, all programmes, both sexes (number)</th>\n",
              "      <th>Theoretical duration of upper secondary education (years)</th>\n",
              "      <th>Theoretical duration of pre-primary education (years)</th>\n",
              "      <th>Percentage of students in secondary education enrolled in general programmes, both sexes (%)</th>\n",
              "      <th>Gross enrolment ratio, tertiary, both sexes (%)</th>\n",
              "      <th>School life expectancy, tertiary, both sexes (years)</th>\n",
              "      <th>Population of the official age for tertiary education, female (number)</th>\n",
              "      <th>Percentage of students in secondary general education who are female (%)</th>\n",
              "      <th>Enrolment in secondary education, both sexes (number)</th>\n",
              "      <th>Official entrance age to primary education (years)</th>\n",
              "      <th>Enrolment in tertiary education, all programmes, female (number)</th>\n",
              "      <th>Enrolment in primary education, both sexes (number)</th>\n",
              "      <th>Enrolment in primary education, female (number)</th>\n",
              "      <th>Enrolment in pre-primary education, both sexes (number)</th>\n",
              "      <th>Population of the official age for tertiary education, male (number)</th>\n",
              "      <th>Population of the official age for tertiary education, both sexes (number)</th>\n",
              "      <th>Theoretical duration of primary education (years)</th>\n",
              "      <th>Enrolment in secondary general, both sexes (number)</th>\n",
              "      <th>GDP at market prices (current US$)</th>\n",
              "      <th>Percentage of students in secondary education enrolled in vocational programmes, both sexes (%)</th>\n",
              "      <th>Percentage of students in tertiary education who are female (%)</th>\n",
              "      <th>Theoretical duration of secondary education (years)</th>\n",
              "      <th>Official entrance age to upper secondary education (years)</th>\n",
              "      <th>Official entrance age to pre-primary education (years)</th>\n",
              "      <th>Theoretical duration of lower secondary education (years)</th>\n",
              "      <th>Enrolment in secondary general, female (number)</th>\n",
              "      <th>Internet users (per 100 people)</th>\n",
              "      <th>Official entrance age to lower secondary education (years)</th>\n",
              "    </tr>\n",
              "  </thead>\n",
              "  <tbody>\n",
              "    <tr>\n",
              "      <th>Afghanistan</th>\n",
              "      <td>608.836068</td>\n",
              "      <td>37.463313</td>\n",
              "      <td>22664.628571</td>\n",
              "      <td>0.0</td>\n",
              "      <td>2077.782353</td>\n",
              "      <td>83283.515789</td>\n",
              "      <td>3.0</td>\n",
              "      <td>2.752174</td>\n",
              "      <td>98.678669</td>\n",
              "      <td>3.368672</td>\n",
              "      <td>0.168433</td>\n",
              "      <td>1295236.678261</td>\n",
              "      <td>32.554662</td>\n",
              "      <td>2200693.688889</td>\n",
              "      <td>6.978261</td>\n",
              "      <td>17525.2</td>\n",
              "      <td>5302984.26</td>\n",
              "      <td>2102474.394872</td>\n",
              "      <td>7526.875</td>\n",
              "      <td>1395924.013043</td>\n",
              "      <td>2691160.691304</td>\n",
              "      <td>6.0</td>\n",
              "      <td>2174707.433333</td>\n",
              "      <td>19863530261.811718</td>\n",
              "      <td>1.172597</td>\n",
              "      <td>18.41998</td>\n",
              "      <td>6.0</td>\n",
              "      <td>16.0</td>\n",
              "      <td>3.0</td>\n",
              "      <td>3.0</td>\n",
              "      <td>752624.311765</td>\n",
              "      <td>7.442054</td>\n",
              "      <td>12.978261</td>\n",
              "    </tr>\n",
              "  </tbody>\n",
              "</table>\n",
              "</div>\n",
              "      <button class=\"colab-df-convert\" onclick=\"convertToInteractive('df-1ef124a2-7f38-44d8-8e58-a38a653606e9')\"\n",
              "              title=\"Convert this dataframe to an interactive table.\"\n",
              "              style=\"display:none;\">\n",
              "        \n",
              "  <svg xmlns=\"http://www.w3.org/2000/svg\" height=\"24px\"viewBox=\"0 0 24 24\"\n",
              "       width=\"24px\">\n",
              "    <path d=\"M0 0h24v24H0V0z\" fill=\"none\"/>\n",
              "    <path d=\"M18.56 5.44l.94 2.06.94-2.06 2.06-.94-2.06-.94-.94-2.06-.94 2.06-2.06.94zm-11 1L8.5 8.5l.94-2.06 2.06-.94-2.06-.94L8.5 2.5l-.94 2.06-2.06.94zm10 10l.94 2.06.94-2.06 2.06-.94-2.06-.94-.94-2.06-.94 2.06-2.06.94z\"/><path d=\"M17.41 7.96l-1.37-1.37c-.4-.4-.92-.59-1.43-.59-.52 0-1.04.2-1.43.59L10.3 9.45l-7.72 7.72c-.78.78-.78 2.05 0 2.83L4 21.41c.39.39.9.59 1.41.59.51 0 1.02-.2 1.41-.59l7.78-7.78 2.81-2.81c.8-.78.8-2.07 0-2.86zM5.41 20L4 18.59l7.72-7.72 1.47 1.35L5.41 20z\"/>\n",
              "  </svg>\n",
              "      </button>\n",
              "      \n",
              "  <style>\n",
              "    .colab-df-container {\n",
              "      display:flex;\n",
              "      flex-wrap:wrap;\n",
              "      gap: 12px;\n",
              "    }\n",
              "\n",
              "    .colab-df-convert {\n",
              "      background-color: #E8F0FE;\n",
              "      border: none;\n",
              "      border-radius: 50%;\n",
              "      cursor: pointer;\n",
              "      display: none;\n",
              "      fill: #1967D2;\n",
              "      height: 32px;\n",
              "      padding: 0 0 0 0;\n",
              "      width: 32px;\n",
              "    }\n",
              "\n",
              "    .colab-df-convert:hover {\n",
              "      background-color: #E2EBFA;\n",
              "      box-shadow: 0px 1px 2px rgba(60, 64, 67, 0.3), 0px 1px 3px 1px rgba(60, 64, 67, 0.15);\n",
              "      fill: #174EA6;\n",
              "    }\n",
              "\n",
              "    [theme=dark] .colab-df-convert {\n",
              "      background-color: #3B4455;\n",
              "      fill: #D2E3FC;\n",
              "    }\n",
              "\n",
              "    [theme=dark] .colab-df-convert:hover {\n",
              "      background-color: #434B5C;\n",
              "      box-shadow: 0px 1px 3px 1px rgba(0, 0, 0, 0.15);\n",
              "      filter: drop-shadow(0px 1px 2px rgba(0, 0, 0, 0.3));\n",
              "      fill: #FFFFFF;\n",
              "    }\n",
              "  </style>\n",
              "\n",
              "      <script>\n",
              "        const buttonEl =\n",
              "          document.querySelector('#df-1ef124a2-7f38-44d8-8e58-a38a653606e9 button.colab-df-convert');\n",
              "        buttonEl.style.display =\n",
              "          google.colab.kernel.accessAllowed ? 'block' : 'none';\n",
              "\n",
              "        async function convertToInteractive(key) {\n",
              "          const element = document.querySelector('#df-1ef124a2-7f38-44d8-8e58-a38a653606e9');\n",
              "          const dataTable =\n",
              "            await google.colab.kernel.invokeFunction('convertToInteractive',\n",
              "                                                     [key], {});\n",
              "          if (!dataTable) return;\n",
              "\n",
              "          const docLinkHtml = 'Like what you see? Visit the ' +\n",
              "            '<a target=\"_blank\" href=https://colab.research.google.com/notebooks/data_table.ipynb>data table notebook</a>'\n",
              "            + ' to learn more about interactive tables.';\n",
              "          element.innerHTML = '';\n",
              "          dataTable['output_type'] = 'display_data';\n",
              "          await google.colab.output.renderOutput(dataTable, element);\n",
              "          const docLink = document.createElement('div');\n",
              "          docLink.innerHTML = docLinkHtml;\n",
              "          element.appendChild(docLink);\n",
              "        }\n",
              "      </script>\n",
              "    </div>\n",
              "  </div>\n",
              "  "
            ],
            "text/plain": [
              "            GDP per capita (current US$)  ... Official entrance age to lower secondary education (years)\n",
              "Afghanistan                   608.836068  ...                                          12.978261        \n",
              "\n",
              "[1 rows x 33 columns]"
            ]
          },
          "metadata": {},
          "execution_count": 59
        }
      ]
    },
    {
      "cell_type": "code",
      "source": [
        "five_years_stat_df.drop(['GDP at market prices (current US$)',\n",
        " 'Enrolment in secondary general, both sexes (number)',\n",
        " 'Enrolment in secondary vocational, both sexes (number)',\n",
        " 'Population of the official age for tertiary education, both sexes (number)',\n",
        " 'Enrolment in secondary education, both sexes (number)',\n",
        " 'GDP per capita (current US$)',\n",
        " 'Enrolment in tertiary education, all programmes, female (number)',\n",
        " 'Enrolment in secondary vocational, female (number)',\n",
        " 'Enrolment in pre-primary education, both sexes (number)',\n",
        " 'Enrolment in primary education, both sexes (number)',\n",
        " 'Enrolment in tertiary education, all programmes, both sexes (number)',\n",
        " 'Enrolment in primary education, female (number)',\n",
        " 'Population of the official age for tertiary education, male (number)',\n",
        " 'Enrolment in secondary general, female (number)',\n",
        " 'Population of the official age for tertiary education, female (number)'], axis = 1, inplace=True)"
      ],
      "metadata": {
        "id": "AcoOv7WVJqX6"
      },
      "execution_count": 60,
      "outputs": []
    },
    {
      "cell_type": "code",
      "source": [
        "five_years_stat_df.columns"
      ],
      "metadata": {
        "colab": {
          "base_uri": "https://localhost:8080/"
        },
        "id": "WAmxamt0K919",
        "outputId": "f1a13ca8-093e-4a51-8697-58fd5f872b0f"
      },
      "execution_count": 61,
      "outputs": [
        {
          "output_type": "execute_result",
          "data": {
            "text/plain": [
              "Index(['Percentage of students in primary education who are female (%)',\n",
              "       'Percentage of enrolment in pre-primary education in private institutions (%)',\n",
              "       'Theoretical duration of upper secondary education (years)',\n",
              "       'Theoretical duration of pre-primary education (years)',\n",
              "       'Percentage of students in secondary education enrolled in general programmes, both sexes (%)',\n",
              "       'Gross enrolment ratio, tertiary, both sexes (%)',\n",
              "       'School life expectancy, tertiary, both sexes (years)',\n",
              "       'Percentage of students in secondary general education who are female (%)',\n",
              "       'Official entrance age to primary education (years)',\n",
              "       'Theoretical duration of primary education (years)',\n",
              "       'Percentage of students in secondary education enrolled in vocational programmes, both sexes (%)',\n",
              "       'Percentage of students in tertiary education who are female (%)',\n",
              "       'Theoretical duration of secondary education (years)',\n",
              "       'Official entrance age to upper secondary education (years)',\n",
              "       'Official entrance age to pre-primary education (years)',\n",
              "       'Theoretical duration of lower secondary education (years)',\n",
              "       'Internet users (per 100 people)',\n",
              "       'Official entrance age to lower secondary education (years)'],\n",
              "      dtype='object')"
            ]
          },
          "metadata": {},
          "execution_count": 61
        }
      ]
    },
    {
      "cell_type": "markdown",
      "source": [
        "### **5. Detecting Anomalies in the Data**\n",
        "\n",
        "While, we are finding out the **general formula** from the experiences, we should identify the outlier or **exceptional observations** for all the important features and keep them aside during the analysis."
      ],
      "metadata": {
        "id": "W-X_K4-xwFjS"
      }
    },
    {
      "cell_type": "markdown",
      "source": [
        "Here, no anomalies have been found which may affect our analysis."
      ],
      "metadata": {
        "id": "VfgxHTBLIqbY"
      }
    },
    {
      "cell_type": "markdown",
      "source": [
        "### **6. Visualizing the Data**\n",
        "\n",
        "When we know all the important features of our experiences, we can go a step ahead by finding the relationship among features. Here, we take the help of visualization because\n",
        "\n",
        "**\"A picture is worth a thousand words\"**"
      ],
      "metadata": {
        "id": "0Nf6HGHqwIoD"
      }
    },
    {
      "cell_type": "code",
      "source": [
        "# Plotting frequency of countries for different indicators in the histogram\n",
        "mean_stat_df[['Population, male (% of total)',\n",
        " 'Population, ages 15-64 (% of total)',\n",
        " 'Population, female (% of total)',\n",
        " 'Population growth (annual %)',\n",
        " 'Population, ages 0-14 (% of total)']].astype('float64').hist(bins=10,figsize=(7,7))\n",
        "plt.show()"
      ],
      "metadata": {
        "colab": {
          "base_uri": "https://localhost:8080/",
          "height": 444
        },
        "id": "Bp4PGKRaVVms",
        "outputId": "b02748a6-e672-4a61-bf47-40b6c6d34f6a"
      },
      "execution_count": 62,
      "outputs": [
        {
          "output_type": "display_data",
          "data": {
            "image/png": "[encoded data removed]",
            "text/plain": [
              "<Figure size 504x504 with 6 Axes>"
            ]
          },
          "metadata": {
            "needs_background": "light"
          }
        }
      ]
    },
    {
      "cell_type": "code",
      "source": [
        "# Plotting highest and second highest population growth\n",
        "mean_stat_df.loc[(mean_stat_df['Population growth (annual %)']>=3)]['Population growth (annual %)'].sort_values(ascending=False).plot.bar(figsize=(7,7))\n",
        "plt.title('High Population Growth (annual %)')\n",
        "plt.ylabel('Pop. Growth (%)')\n",
        "plt.xlabel('Countries')\n",
        "plt.show()"
      ],
      "metadata": {
        "id": "UgPj9JjnUxgB",
        "colab": {
          "base_uri": "https://localhost:8080/",
          "height": 555
        },
        "outputId": "8ce55c14-a8ed-4cf8-c9f1-0a7d44849695"
      },
      "execution_count": 63,
      "outputs": [
        {
          "output_type": "display_data",
          "data": {
            "image/png": "[encoded data removed]",
            "text/plain": [
              "<Figure size 504x504 with 1 Axes>"
            ]
          },
          "metadata": {
            "needs_background": "light"
          }
        }
      ]
    },
    {
      "cell_type": "code",
      "source": [
        "# Plotting negative population growth\n",
        "mean_stat_df.loc[(mean_stat_df['Population growth (annual %)']<0)]['Population growth (annual %)'].sort_values(ascending=False).plot.bar(figsize=(7,7))\n",
        "plt.title('Negative Population Growth (annual %)')\n",
        "plt.ylabel('Pop. Growth (%)')\n",
        "plt.xlabel('Countries')\n",
        "plt.show()"
      ],
      "metadata": {
        "id": "xTGhyzutV2Gg",
        "colab": {
          "base_uri": "https://localhost:8080/",
          "height": 570
        },
        "outputId": "962ad516-979b-4afa-dc58-73f4c08c1a6d"
      },
      "execution_count": 64,
      "outputs": [
        {
          "output_type": "display_data",
          "data": {
            "image/png": "[encoded data removed]",
            "text/plain": [
              "<Figure size 504x504 with 1 Axes>"
            ]
          },
          "metadata": {
            "needs_background": "light"
          }
        }
      ]
    },
    {
      "cell_type": "code",
      "source": [
        "mean_stat_df['male_female_diff']=mean_stat_df['Population, male (% of total)']-mean_stat_df['Population, female (% of total)']"
      ],
      "metadata": {
        "id": "L02ptGqWRrNA"
      },
      "execution_count": 65,
      "outputs": []
    },
    {
      "cell_type": "code",
      "source": [
        "# Plotting Heavily Low Percentage of Female in Population\n",
        "mean_stat_df.loc[(mean_stat_df['male_female_diff']>5)][['Population, female (% of total)','Population, male (% of total)']].plot.bar(figsize=(7,7))\n",
        "plt.title('Heavily Low Percentage of Female')\n",
        "plt.ylabel('Male/Female Pop. (%)')\n",
        "plt.xlabel('Countries')\n",
        "plt.show()"
      ],
      "metadata": {
        "id": "TEgzBxOdTGdZ",
        "colab": {
          "base_uri": "https://localhost:8080/",
          "height": 555
        },
        "outputId": "bdae7420-deba-4050-a043-ad90127dc958"
      },
      "execution_count": 66,
      "outputs": [
        {
          "output_type": "display_data",
          "data": {
            "image/png": "[encoded data removed]",
            "text/plain": [
              "<Figure size 504x504 with 1 Axes>"
            ]
          },
          "metadata": {
            "needs_background": "light"
          }
        }
      ]
    },
    {
      "cell_type": "code",
      "source": [
        "# Plotting Moderately Low Percentage of Female in Population\n",
        "mean_stat_df.loc[(mean_stat_df['male_female_diff']>2)&(mean_stat_df['male_female_diff']<=5)][['Population, female (% of total)','Population, male (% of total)']].plot.bar(figsize=(7,7))\n",
        "plt.title('Moderately Low Percentage of Female')\n",
        "plt.ylabel('Male/Female Pop. (%)')\n",
        "plt.xlabel('Countries')\n",
        "plt.show()"
      ],
      "metadata": {
        "id": "gPNcXBfRXL6i",
        "colab": {
          "base_uri": "https://localhost:8080/",
          "height": 580
        },
        "outputId": "b960313a-1b17-4b72-f0b7-8ccdc4671702"
      },
      "execution_count": 67,
      "outputs": [
        {
          "output_type": "display_data",
          "data": {
            "image/png": "[encoded data removed]",
            "text/plain": [
              "<Figure size 504x504 with 1 Axes>"
            ]
          },
          "metadata": {
            "needs_background": "light"
          }
        }
      ]
    },
    {
      "cell_type": "code",
      "source": [
        "low_female_pop=mean_stat_df.loc[(mean_stat_df['male_female_diff']>2)].index\n",
        "low_female_pop"
      ],
      "metadata": {
        "id": "g5B1taw_kWi5",
        "colab": {
          "base_uri": "https://localhost:8080/"
        },
        "outputId": "9bab0e1c-c213-40e6-d493-d761fd0a7efb"
      },
      "execution_count": 68,
      "outputs": [
        {
          "output_type": "execute_result",
          "data": {
            "text/plain": [
              "Index(['Middle East & North Africa', 'South Asia', 'Afghanistan', 'Bahrain',\n",
              "       'Bhutan', 'Brunei Darussalam', 'China', 'Cote d'Ivoire',\n",
              "       'Equatorial Guinea', 'India', 'Jordan', 'Kuwait', 'Libya', 'Maldives',\n",
              "       'Micronesia, Fed. Sts.', 'Oman', 'Pakistan', 'Qatar', 'Samoa',\n",
              "       'Saudi Arabia', 'Solomon Islands', 'United Arab Emirates', 'Vanuatu'],\n",
              "      dtype='object')"
            ]
          },
          "metadata": {},
          "execution_count": 68
        }
      ]
    },
    {
      "cell_type": "code",
      "source": [
        "# Plotting High Percentage of Children in Population\n",
        "mean_stat_df.loc[(mean_stat_df['Population, ages 0-14 (% of total)']>45)]['Population, ages 0-14 (% of total)'].plot.bar(figsize=(7,7))\n",
        "plt.title('High Percentage of Children')\n",
        "plt.ylabel('Pop. (%)')\n",
        "plt.xlabel('Countries')\n",
        "plt.show()"
      ],
      "metadata": {
        "id": "NZvNeTV2M_Xe",
        "colab": {
          "base_uri": "https://localhost:8080/",
          "height": 642
        },
        "outputId": "bc19eeb3-b8db-4d43-d4ef-0927eee23efe"
      },
      "execution_count": 69,
      "outputs": [
        {
          "output_type": "display_data",
          "data": {
            "image/png": "[encoded data removed]",
            "text/plain": [
              "<Figure size 504x504 with 1 Axes>"
            ]
          },
          "metadata": {
            "needs_background": "light"
          }
        }
      ]
    },
    {
      "cell_type": "code",
      "source": [
        "# Plotting Low Percentage of Children in Population\n",
        "mean_stat_df.loc[(mean_stat_df['Population, ages 0-14 (% of total)']<20)]['Population, ages 0-14 (% of total)'].plot.bar(figsize=(7,7))\n",
        "plt.title('Low Percentage of Children')\n",
        "plt.ylabel('Pop. (%)')\n",
        "plt.xlabel('Countries')\n",
        "plt.show()"
      ],
      "metadata": {
        "id": "WD5HiaYQmri7",
        "colab": {
          "base_uri": "https://localhost:8080/",
          "height": 529
        },
        "outputId": "7ffefc12-d82e-45d3-c8f5-d0ba27e0537c"
      },
      "execution_count": 70,
      "outputs": [
        {
          "output_type": "display_data",
          "data": {
            "image/png": "[encoded data removed]",
            "text/plain": [
              "<Figure size 504x504 with 1 Axes>"
            ]
          },
          "metadata": {
            "needs_background": "light"
          }
        }
      ]
    },
    {
      "cell_type": "code",
      "source": [
        "low_children_pop=mean_stat_df.loc[(mean_stat_df['Population, ages 0-14 (% of total)']<20)].index\n",
        "low_children_pop"
      ],
      "metadata": {
        "id": "bEZiRBD0nHvY",
        "colab": {
          "base_uri": "https://localhost:8080/"
        },
        "outputId": "0ae8aaa3-7079-497f-a3a6-d0bedd792ba3"
      },
      "execution_count": 71,
      "outputs": [
        {
          "output_type": "execute_result",
          "data": {
            "text/plain": [
              "Index(['Euro area', 'European Union', 'Austria', 'Belgium', 'Bulgaria',\n",
              "       'Croatia', 'Czech Republic', 'Denmark', 'Estonia', 'Finland', 'Germany',\n",
              "       'Greece', 'Hungary', 'Italy', 'Japan', 'Latvia', 'Luxembourg',\n",
              "       'Netherlands', 'Slovenia', 'Spain', 'Sweden', 'Switzerland', 'Ukraine',\n",
              "       'United Kingdom'],\n",
              "      dtype='object')"
            ]
          },
          "metadata": {},
          "execution_count": 71
        }
      ]
    },
    {
      "cell_type": "code",
      "source": [
        "# Plotting High Percentage of Adults in Population\n",
        "mean_stat_df.loc[(mean_stat_df['Population, ages 15-64 (% of total)']>65)]['Population, ages 15-64 (% of total)'].plot.bar(figsize=(8,7))\n",
        "plt.title('High Percentage of Adults')\n",
        "plt.ylabel('Pop. (%)')\n",
        "plt.xlabel('Countries')\n",
        "plt.show()"
      ],
      "metadata": {
        "id": "w4ZIwoZoT0We",
        "colab": {
          "base_uri": "https://localhost:8080/",
          "height": 682
        },
        "outputId": "34d656cf-cc78-42fa-df94-51a4edf7d00d"
      },
      "execution_count": 72,
      "outputs": [
        {
          "output_type": "display_data",
          "data": {
            "image/png": "[encoded data removed]",
            "text/plain": [
              "<Figure size 576x504 with 1 Axes>"
            ]
          },
          "metadata": {
            "needs_background": "light"
          }
        }
      ]
    },
    {
      "cell_type": "markdown",
      "source": [
        "**Lets plot educational data !**"
      ],
      "metadata": {
        "id": "4WsJyrGJinGb"
      }
    },
    {
      "cell_type": "code",
      "source": [
        "# Plotting less than 45% Female Students in primary education (%)\n",
        "five_years_stat_df.loc[(five_years_stat_df['Percentage of students in primary education who are female (%)']<45)]['Percentage of students in primary education who are female (%)'].sort_values(ascending=False).plot.barh(figsize=(7,7))\n",
        "plt.title('Female Students in primary education (%)')\n",
        "plt.ylabel('Countries')\n",
        "plt.xlabel('Percent (%)')\n",
        "plt.show()"
      ],
      "metadata": {
        "id": "V-Q7x5hrN0R6",
        "colab": {
          "base_uri": "https://localhost:8080/",
          "height": 458
        },
        "outputId": "83787f78-85a0-4ad2-9410-5d14555db9fa"
      },
      "execution_count": 73,
      "outputs": [
        {
          "output_type": "display_data",
          "data": {
            "image/png": "[encoded data removed]",
            "text/plain": [
              "<Figure size 504x504 with 1 Axes>"
            ]
          },
          "metadata": {
            "needs_background": "light"
          }
        }
      ]
    },
    {
      "cell_type": "code",
      "metadata": {
        "id": "dByMsuzT8Tnw",
        "colab": {
          "base_uri": "https://localhost:8080/",
          "height": 458
        },
        "outputId": "684685bb-4869-4b96-8176-0026dd495a24"
      },
      "source": [
        "# Plotting less than 40% Female Students in secondary education (%)\n",
        "five_years_stat_df.loc[(five_years_stat_df['Percentage of students in secondary general education who are female (%)']<40)]['Percentage of students in secondary general education who are female (%)'].sort_values(ascending=False).plot.barh(figsize=(7,7))\n",
        "plt.title('Female Students in secondary education (%)')\n",
        "plt.ylabel('Countries')\n",
        "plt.xlabel('Percent (%)')\n",
        "plt.show()\n"
      ],
      "execution_count": 74,
      "outputs": [
        {
          "output_type": "display_data",
          "data": {
            "image/png": "[encoded data removed]",
            "text/plain": [
              "<Figure size 504x504 with 1 Axes>"
            ]
          },
          "metadata": {
            "needs_background": "light"
          }
        }
      ]
    },
    {
      "cell_type": "code",
      "source": [
        "# Plotting less than 35% Female Students in tertiary education (%)\n",
        "five_years_stat_df.loc[(five_years_stat_df['Percentage of students in tertiary education who are female (%)']<35)]['Percentage of students in tertiary education who are female (%)'].sort_values(ascending=False).plot.barh(figsize=(7,7))\n",
        "plt.title('Female Students in tertiary education (%)')\n",
        "plt.ylabel('Countries')\n",
        "plt.xlabel('Percent (%)')\n",
        "plt.show()\n"
      ],
      "metadata": {
        "id": "3LhLq_UfPRKU",
        "colab": {
          "base_uri": "https://localhost:8080/",
          "height": 458
        },
        "outputId": "7a05741c-8d87-473d-dd69-3d60b7ab1c54"
      },
      "execution_count": 75,
      "outputs": [
        {
          "output_type": "display_data",
          "data": {
            "image/png": "[encoded data removed]",
            "text/plain": [
              "<Figure size 504x504 with 1 Axes>"
            ]
          },
          "metadata": {
            "needs_background": "light"
          }
        }
      ]
    },
    {
      "cell_type": "code",
      "source": [
        "# Checking common countries with poor female education\n",
        "set_list=[set(five_years_stat_df.loc[(five_years_stat_df['Percentage of students in primary education who are female (%)']<45)].index),set(five_years_stat_df.loc[(five_years_stat_df['Percentage of students in secondary general education who are female (%)']<40)].index),set(five_years_stat_df.loc[(five_years_stat_df['Percentage of students in tertiary education who are female (%)']<35)].index)]\n",
        "poor_female_ed=list(set.intersection(*set_list))\n",
        "poor_female_ed"
      ],
      "metadata": {
        "id": "7ROfdWqncC6U",
        "colab": {
          "base_uri": "https://localhost:8080/"
        },
        "outputId": "7eb864bd-4930-4bef-e764-d0a1cbb6d903"
      },
      "execution_count": 76,
      "outputs": [
        {
          "output_type": "execute_result",
          "data": {
            "text/plain": [
              "['Central African Republic',\n",
              " 'Papua New Guinea',\n",
              " 'Niger',\n",
              " 'Yemen, Rep.',\n",
              " 'Chad',\n",
              " 'Guinea-Bissau',\n",
              " 'Iraq',\n",
              " 'Afghanistan',\n",
              " 'Liberia',\n",
              " 'Guinea']"
            ]
          },
          "metadata": {},
          "execution_count": 76
        }
      ]
    },
    {
      "cell_type": "code",
      "source": [
        "# Plotting top countries with poor female education\n",
        "five_years_stat_df.transpose()[poor_female_ed].plot.bar(figsize=(10,7))\n",
        "plt.title('Top Countries with Poor Female Education')\n",
        "plt.ylabel('Percent (%) or Years')\n",
        "plt.xlabel('Indicators')\n",
        "plt.show()"
      ],
      "metadata": {
        "id": "2mVaUePJYErC",
        "colab": {
          "base_uri": "https://localhost:8080/",
          "height": 942
        },
        "outputId": "dd6e032b-17a2-4599-8c4d-9e8d74eb6b4d"
      },
      "execution_count": 77,
      "outputs": [
        {
          "output_type": "display_data",
          "data": {
            "image/png": "[encoded data removed]",
            "text/plain": [
              "<Figure size 720x504 with 1 Axes>"
            ]
          },
          "metadata": {
            "needs_background": "light"
          }
        }
      ]
    },
    {
      "cell_type": "code",
      "source": [
        "# Checking countries with poor female population and education\n",
        "set_list=[set(low_female_pop),set(poor_female_ed)]\n",
        "low_female_pop_and_ed=list(set.intersection(*set_list))\n",
        "low_female_pop_and_ed"
      ],
      "metadata": {
        "id": "Uo7zXBl_lCwQ",
        "colab": {
          "base_uri": "https://localhost:8080/"
        },
        "outputId": "83f28f46-8ef6-4f54-decb-ef6928256bc7"
      },
      "execution_count": 78,
      "outputs": [
        {
          "output_type": "execute_result",
          "data": {
            "text/plain": [
              "['Afghanistan']"
            ]
          },
          "metadata": {},
          "execution_count": 78
        }
      ]
    },
    {
      "cell_type": "code",
      "source": [
        "# Checking countries with poor children population and education\n",
        "set_list=[set(low_children_pop),set(poor_female_ed)]\n",
        "low_children_pop_and_ed=list(set.intersection(*set_list))\n",
        "low_children_pop_and_ed\n"
      ],
      "metadata": {
        "id": "uPG78-InnXN4",
        "colab": {
          "base_uri": "https://localhost:8080/"
        },
        "outputId": "e2b344bb-a17c-4b54-b847-3c7f72e92fa2"
      },
      "execution_count": 79,
      "outputs": [
        {
          "output_type": "execute_result",
          "data": {
            "text/plain": [
              "[]"
            ]
          },
          "metadata": {},
          "execution_count": 79
        }
      ]
    },
    {
      "cell_type": "markdown",
      "source": [
        "**Lets check the education trend in Afghanistan**"
      ],
      "metadata": {
        "id": "syNDi64A9xHE"
      }
    },
    {
      "cell_type": "code",
      "source": [
        "indicator1=list(dict_of_indicators.keys())[list(dict_of_indicators.values()).index('Population, female (% of total)')]"
      ],
      "metadata": {
        "id": "4GsNrZlIJgXZ"
      },
      "execution_count": 80,
      "outputs": []
    },
    {
      "cell_type": "code",
      "source": [
        "df1=dict_of_filtered_df.get('AFG')[indicator1]"
      ],
      "metadata": {
        "id": "Kkq1A3m8MHeK"
      },
      "execution_count": 81,
      "outputs": []
    },
    {
      "cell_type": "code",
      "source": [
        "indicator2=list(dict_of_indicators.keys())[list(dict_of_indicators.values()).index('Percentage of students in primary education who are female (%)')]"
      ],
      "metadata": {
        "id": "kpsfmWDML48R"
      },
      "execution_count": 91,
      "outputs": []
    },
    {
      "cell_type": "code",
      "source": [
        "indicator3=list(dict_of_indicators.keys())[list(dict_of_indicators.values()).index('Percentage of students in secondary general education who are female (%)')]"
      ],
      "metadata": {
        "id": "AjcB6cgaMUIi"
      },
      "execution_count": 92,
      "outputs": []
    },
    {
      "cell_type": "code",
      "source": [
        "indicator4=list(dict_of_indicators.keys())[list(dict_of_indicators.values()).index('Percentage of students in tertiary education who are female (%)')]"
      ],
      "metadata": {
        "id": "Frzbg-AnFvGj"
      },
      "execution_count": 93,
      "outputs": []
    },
    {
      "cell_type": "code",
      "source": [
        "df2=dict_of_clean_df.get('AFG')[[indicator2,indicator3,indicator4]]\n",
        "afghan_df=pd.concat([df1,df2], axis=1)\n",
        "afghan_df.columns=['Population, female (% of total)',\n",
        "                   'Percentage of students in primary education who are female (%)',\n",
        "                   'Percentage of students in secondary general education who are female (%)',\n",
        "                   'Percentage of students in tertiary education who are female (%)']"
      ],
      "metadata": {
        "id": "SPWhhZmdARJY"
      },
      "execution_count": 94,
      "outputs": []
    },
    {
      "cell_type": "code",
      "source": [
        "afghan_df.plot.line(figsize=(10,7))\n",
        "plt.title('47 Years Trend of Educational Growth in Afghanistan')\n",
        "plt.ylabel('Percent (%)')\n",
        "plt.xlabel('Years')\n",
        "plt.show()"
      ],
      "metadata": {
        "id": "toE-7As9QfvF",
        "colab": {
          "base_uri": "https://localhost:8080/",
          "height": 458
        },
        "outputId": "72421e15-0496-44f1-c328-b209985873f2"
      },
      "execution_count": 96,
      "outputs": [
        {
          "output_type": "display_data",
          "data": {
            "image/png": "[encoded data removed]",
            "text/plain": [
              "<Figure size 720x504 with 1 Axes>"
            ]
          },
          "metadata": {
            "needs_background": "light"
          }
        }
      ]
    },
    {
      "cell_type": "markdown",
      "source": [
        "### **7. Conclusion from the Data**\n"
      ],
      "metadata": {
        "id": "850r_ZtpwLPH"
      }
    },
    {
      "cell_type": "code",
      "source": [
        ""
      ],
      "metadata": {
        "id": "4KQwmajpUrC5"
      },
      "execution_count": 86,
      "outputs": []
    }
  ]
}